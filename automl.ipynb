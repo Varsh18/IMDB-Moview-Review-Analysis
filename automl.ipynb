{
 "cells": [
  {
   "cell_type": "markdown",
   "id": "0c5799cc",
   "metadata": {},
   "source": [
    "# IMDB Movie Analysis using AutoML\n"
   ]
  },
  {
   "cell_type": "code",
   "execution_count": 1,
   "id": "10c22cfe",
   "metadata": {},
   "outputs": [],
   "source": [
    "# import dependancies\n",
    "from azureml.core import Workspace, Experiment\n",
    "from azureml.core.compute import ComputeTarget, AmlCompute\n",
    "from azureml.core.compute_target import ComputeTargetException\n",
    "\n",
    "from sklearn.preprocessing import LabelEncoder \n",
    "import spacy\n",
    "from collections import Counter   # for getting freq of words\n",
    "from collections import OrderedDict\n",
    "import logging\n",
    "import os\n",
    "import csv\n",
    "\n",
    "from matplotlib import pyplot as plt\n",
    "import numpy as np\n",
    "import pandas as pd\n",
    "\n",
    "import azureml.core\n",
    "from azureml.core.experiment import Experiment\n",
    "from azureml.core.workspace import Workspace\n",
    "from azureml.train.automl import AutoMLConfig\n",
    "from azureml.widgets import RunDetails\n",
    "from azureml.data.dataset_factory import TabularDatasetFactory"
   ]
  },
  {
   "cell_type": "code",
   "execution_count": 2,
   "id": "b54e207e",
   "metadata": {},
   "outputs": [
    {
     "name": "stdout",
     "output_type": "stream",
     "text": [
      "Workspace name: quick-starts-ws-142761\n",
      "Azure region: southcentralus\n",
      "Subscription id: 6b4af8be-9931-443e-90f6-c4c34a1f9737\n",
      "Resource group: aml-quickstarts-142761\n"
     ]
    }
   ],
   "source": [
    "ws = Workspace.from_config()\n",
    "exp = Experiment(workspace=ws, name=\"imdb-automl\")\n",
    "print('Workspace name: ' + ws.name, \n",
    "      'Azure region: ' + ws.location, \n",
    "      'Subscription id: ' + ws.subscription_id, \n",
    "      'Resource group: ' + ws.resource_group, sep = '\\n')\n",
    "\n",
    "run = exp.start_logging()"
   ]
  },
  {
   "cell_type": "code",
   "execution_count": 3,
   "id": "3a3ac216",
   "metadata": {},
   "outputs": [
    {
     "name": "stdout",
     "output_type": "stream",
     "text": [
      "Creating a new cluster with the name capstone-automl\n",
      "Creating....\n",
      "SucceededProvisioning operation finished, operation \"Succeeded\"\n",
      "Succeeded\n",
      "AmlCompute wait for completion finished\n",
      "\n",
      "Minimum number of nodes requested have been provisioned\n"
     ]
    }
   ],
   "source": [
    "# Choose a name for your cluster.\n",
    "compute_cluster_name = \"capstone-automl\"\n",
    "vm_size=\"STANDARD_NC6\"\n",
    "max_nodes=8\n",
    "# Verify that cluster does not exist already\n",
    "try:\n",
    "    compute_target = ComputeTarget(workspace=ws, name=compute_cluster_name)\n",
    "    print('Cluster found with the name {0}.. Proceed'.format(compute_cluster_name))\n",
    "except ComputeTargetException:\n",
    "    print('Creating a new cluster with the name {0}'.format(compute_cluster_name))    \n",
    "    compute_config = AmlCompute.provisioning_configuration(vm_size = vm_size, max_nodes = max_nodes)\n",
    "    compute_target = ComputeTarget.create(ws, compute_cluster_name, compute_config)\n",
    "\n",
    "compute_target.wait_for_completion(show_output=True)"
   ]
  },
  {
   "cell_type": "code",
   "execution_count": 4,
   "id": "24efe6d5",
   "metadata": {},
   "outputs": [],
   "source": [
    "ds=TabularDatasetFactory.from_delimited_files(path=\"https://raw.githubusercontent.com/Varsh18/IMDB-Moview-Review-Analysis/master/IMDB-Dataset.csv\")\n"
   ]
  },
  {
   "cell_type": "code",
   "execution_count": 5,
   "id": "52b711d4",
   "metadata": {},
   "outputs": [
    {
     "data": {
      "text/html": [
       "<div>\n",
       "<style scoped>\n",
       "    .dataframe tbody tr th:only-of-type {\n",
       "        vertical-align: middle;\n",
       "    }\n",
       "\n",
       "    .dataframe tbody tr th {\n",
       "        vertical-align: top;\n",
       "    }\n",
       "\n",
       "    .dataframe thead th {\n",
       "        text-align: right;\n",
       "    }\n",
       "</style>\n",
       "<table border=\"1\" class=\"dataframe\">\n",
       "  <thead>\n",
       "    <tr style=\"text-align: right;\">\n",
       "      <th></th>\n",
       "      <th>review</th>\n",
       "      <th>sentiment</th>\n",
       "    </tr>\n",
       "  </thead>\n",
       "  <tbody>\n",
       "    <tr>\n",
       "      <th>0</th>\n",
       "      <td>One of the other reviewers has mentioned that ...</td>\n",
       "      <td>positive</td>\n",
       "    </tr>\n",
       "    <tr>\n",
       "      <th>1</th>\n",
       "      <td>A wonderful little production. &lt;br /&gt;&lt;br /&gt;The...</td>\n",
       "      <td>positive</td>\n",
       "    </tr>\n",
       "    <tr>\n",
       "      <th>2</th>\n",
       "      <td>I thought this was a wonderful way to spend ti...</td>\n",
       "      <td>positive</td>\n",
       "    </tr>\n",
       "    <tr>\n",
       "      <th>3</th>\n",
       "      <td>Basically there's a family where a little boy ...</td>\n",
       "      <td>negative</td>\n",
       "    </tr>\n",
       "    <tr>\n",
       "      <th>4</th>\n",
       "      <td>Petter Mattei's \"Love in the Time of Money\" is...</td>\n",
       "      <td>positive</td>\n",
       "    </tr>\n",
       "  </tbody>\n",
       "</table>\n",
       "</div>"
      ],
      "text/plain": [
       "                                              review sentiment\n",
       "0  One of the other reviewers has mentioned that ...  positive\n",
       "1  A wonderful little production. <br /><br />The...  positive\n",
       "2  I thought this was a wonderful way to spend ti...  positive\n",
       "3  Basically there's a family where a little boy ...  negative\n",
       "4  Petter Mattei's \"Love in the Time of Money\" is...  positive"
      ]
     },
     "execution_count": 5,
     "metadata": {},
     "output_type": "execute_result"
    }
   ],
   "source": [
    "df=ds.to_pandas_dataframe()\n",
    "df.head()"
   ]
  },
  {
   "cell_type": "code",
   "execution_count": 6,
   "id": "b0545e16",
   "metadata": {},
   "outputs": [
    {
     "data": {
      "text/html": [
       "<div>\n",
       "<style scoped>\n",
       "    .dataframe tbody tr th:only-of-type {\n",
       "        vertical-align: middle;\n",
       "    }\n",
       "\n",
       "    .dataframe tbody tr th {\n",
       "        vertical-align: top;\n",
       "    }\n",
       "\n",
       "    .dataframe thead th {\n",
       "        text-align: right;\n",
       "    }\n",
       "</style>\n",
       "<table border=\"1\" class=\"dataframe\">\n",
       "  <thead>\n",
       "    <tr style=\"text-align: right;\">\n",
       "      <th></th>\n",
       "      <th>review</th>\n",
       "      <th>sentiment</th>\n",
       "    </tr>\n",
       "  </thead>\n",
       "  <tbody>\n",
       "    <tr>\n",
       "      <th>0</th>\n",
       "      <td>One of the other reviewers has mentioned that ...</td>\n",
       "      <td>1</td>\n",
       "    </tr>\n",
       "    <tr>\n",
       "      <th>1</th>\n",
       "      <td>A wonderful little production. &lt;br /&gt;&lt;br /&gt;The...</td>\n",
       "      <td>1</td>\n",
       "    </tr>\n",
       "    <tr>\n",
       "      <th>2</th>\n",
       "      <td>I thought this was a wonderful way to spend ti...</td>\n",
       "      <td>1</td>\n",
       "    </tr>\n",
       "    <tr>\n",
       "      <th>3</th>\n",
       "      <td>Basically there's a family where a little boy ...</td>\n",
       "      <td>0</td>\n",
       "    </tr>\n",
       "    <tr>\n",
       "      <th>4</th>\n",
       "      <td>Petter Mattei's \"Love in the Time of Money\" is...</td>\n",
       "      <td>1</td>\n",
       "    </tr>\n",
       "  </tbody>\n",
       "</table>\n",
       "</div>"
      ],
      "text/plain": [
       "                                              review  sentiment\n",
       "0  One of the other reviewers has mentioned that ...          1\n",
       "1  A wonderful little production. <br /><br />The...          1\n",
       "2  I thought this was a wonderful way to spend ti...          1\n",
       "3  Basically there's a family where a little boy ...          0\n",
       "4  Petter Mattei's \"Love in the Time of Money\" is...          1"
      ]
     },
     "execution_count": 6,
     "metadata": {},
     "output_type": "execute_result"
    }
   ],
   "source": [
    "#Convert text labels to number \n",
    "le = LabelEncoder() \n",
    "df['sentiment']= le.fit_transform(df['sentiment']) \n",
    "df.head()"
   ]
  },
  {
   "cell_type": "markdown",
   "id": "a35c8773",
   "metadata": {},
   "source": [
    "# Preprocessing data"
   ]
  },
  {
   "cell_type": "code",
   "execution_count": 7,
   "id": "ec98aecf",
   "metadata": {},
   "outputs": [],
   "source": [
    "df['review']=df['review'].apply(lambda x: x.lower())"
   ]
  },
  {
   "cell_type": "code",
   "execution_count": 8,
   "id": "2da6b748",
   "metadata": {},
   "outputs": [],
   "source": [
    "#function to remove stopwords\n",
    "en_model = spacy.load('en_core_web_sm')\n",
    "stopwords = en_model.Defaults.stop_words\n",
    "df['review'] = df['review'].apply(lambda x: ' '.join([word for word in x.split() if word not in (stopwords)]))"
   ]
  },
  {
   "cell_type": "code",
   "execution_count": 9,
   "id": "17a5e4b9",
   "metadata": {},
   "outputs": [],
   "source": [
    "def removeTags(data):\n",
    "  cleanhtmltags = re.compile('<.*?>')\n",
    "  return re.sub(cleanhtmltags, '', data)\n",
    "df['review'] = df['review'].apply(removeTags)"
   ]
  },
  {
   "cell_type": "code",
   "execution_count": 10,
   "id": "ee8b8105",
   "metadata": {},
   "outputs": [],
   "source": [
    "##Expand contractions\n",
    "\n",
    "# Dictionary of English Contractions\n",
    "contractions_dict = { \"ain't\": \"are not\",\"'s\":\" is\",\"aren't\": \"are not\",\n",
    "                     \"can't\": \"cannot\",\"can't've\": \"cannot have\",\n",
    "                     \"'cause\": \"because\",\"could've\": \"could have\",\"couldn't\": \"could not\",\n",
    "                     \"couldn't've\": \"could not have\", \"didn't\": \"did not\",\"doesn't\": \"does not\",\n",
    "                     \"don't\": \"do not\",\"hadn't\": \"had not\",\"hadn't've\": \"had not have\",\n",
    "                     \"hasn't\": \"has not\",\"haven't\": \"have not\",\"he'd\": \"he would\",\n",
    "                     \"he'd've\": \"he would have\",\"he'll\": \"he will\", \"he'll've\": \"he will have\",\n",
    "                     \"how'd\": \"how did\",\"how'd'y\": \"how do you\",\"how'll\": \"how will\",\n",
    "                     \"I'd\": \"I would\", \"I'd've\": \"I would have\",\"I'll\": \"I will\",\n",
    "                     \"I'll've\": \"I will have\",\"I'm\": \"I am\",\"I've\": \"I have\", \"isn't\": \"is not\",\n",
    "                     \"it'd\": \"it would\",\"it'd've\": \"it would have\",\"it'll\": \"it will\",\n",
    "                     \"it'll've\": \"it will have\", \"let's\": \"let us\",\"ma'am\": \"madam\",\n",
    "                     \"mayn't\": \"may not\",\"might've\": \"might have\",\"mightn't\": \"might not\", \n",
    "                     \"mightn't've\": \"might not have\",\"must've\": \"must have\",\"mustn't\": \"must not\",\n",
    "                     \"mustn't've\": \"must not have\", \"needn't\": \"need not\",\n",
    "                     \"needn't've\": \"need not have\",\"o'clock\": \"of the clock\",\"oughtn't\": \"ought not\",\n",
    "                     \"oughtn't've\": \"ought not have\",\"shan't\": \"shall not\",\"sha'n't\": \"shall not\",\n",
    "                     \"shan't've\": \"shall not have\",\"she'd\": \"she would\",\"she'd've\": \"she would have\",\n",
    "                     \"she'll\": \"she will\", \"she'll've\": \"she will have\",\"should've\": \"should have\",\n",
    "                     \"shouldn't\": \"should not\", \"shouldn't've\": \"should not have\",\"so've\": \"so have\",\n",
    "                     \"that'd\": \"that would\",\"that'd've\": \"that would have\", \"there'd\": \"there would\",\n",
    "                     \"there'd've\": \"there would have\", \"they'd\": \"they would\",\n",
    "                     \"they'd've\": \"they would have\",\"they'll\": \"they will\",\n",
    "                     \"they'll've\": \"they will have\", \"they're\": \"they are\",\"they've\": \"they have\",\n",
    "                     \"to've\": \"to have\",\"wasn't\": \"was not\",\"we'd\": \"we would\",\n",
    "                     \"we'd've\": \"we would have\",\"we'll\": \"we will\",\"we'll've\": \"we will have\",\n",
    "                     \"we're\": \"we are\",\"we've\": \"we have\", \"weren't\": \"were not\",\"what'll\": \"what will\",\n",
    "                     \"what'll've\": \"what will have\",\"what're\": \"what are\", \"what've\": \"what have\",\n",
    "                     \"when've\": \"when have\",\"where'd\": \"where did\", \"where've\": \"where have\",\n",
    "                     \"who'll\": \"who will\",\"who'll've\": \"who will have\",\"who've\": \"who have\",\n",
    "                     \"why've\": \"why have\",\"will've\": \"will have\",\"won't\": \"will not\",\n",
    "                     \"won't've\": \"will not have\", \"would've\": \"would have\",\"wouldn't\": \"would not\",\n",
    "                     \"wouldn't've\": \"would not have\",\"y'all\": \"you all\", \"y'all'd\": \"you all would\",\n",
    "                     \"y'all'd've\": \"you all would have\",\"y'all're\": \"you all are\",\n",
    "                     \"y'all've\": \"you all have\", \"you'd\": \"you would\",\"you'd've\": \"you would have\",\n",
    "                     \"you'll\": \"you will\",\"you'll've\": \"you will have\", \"you're\": \"you are\",\n",
    "                     \"you've\": \"you have\"}\n",
    "# Regular expression for finding contractions\n",
    "contractions_re=re.compile('(%s)' % '|'.join(contractions_dict.keys()))\n",
    "\n",
    "# Function for expanding contractions\n",
    "def expand_contractions(text,contractions_dict=contractions_dict):\n",
    "  def replace(match):\n",
    "    return contractions_dict[match.group(0)]\n",
    "  return contractions_re.sub(replace, text)\n",
    "\n",
    "# Expanding Contractions in the reviews\n",
    "df['review']=df['review'].apply(lambda x:expand_contractions(x))\n"
   ]
  },
  {
   "cell_type": "code",
   "execution_count": 11,
   "id": "3e6f60e1",
   "metadata": {},
   "outputs": [],
   "source": [
    "#remove punctuations & other special characters\n",
    "df['review'] = df['review'].str.replace(\"[^a-zA-Z]\", \" \")"
   ]
  },
  {
   "cell_type": "code",
   "execution_count": 12,
   "id": "392b8b64",
   "metadata": {},
   "outputs": [],
   "source": [
    "# remove the characters of length < 2 which doesn't add value\n",
    "df['review'] = df['review'].apply(lambda x: ' '.join([w for w in x.split() if len(w)>2]))"
   ]
  },
  {
   "cell_type": "code",
   "execution_count": 13,
   "id": "9f114e75",
   "metadata": {},
   "outputs": [
    {
     "data": {
      "text/plain": [
       "'reviewers mentioned watching episode you will hooked right exactly happened the thing struck brutality unflinching scenes violence set right word trust faint hearted timid pulls punches regards drugs sex violence hardcore classic use word called nickname given oswald maximum security state penitentary focuses mainly emerald city experimental section prison cells glass fronts face inwards privacy high agenda city home many aryans muslims gangstas latinos christians italians irish more scuffles death stares dodgy dealings shady agreements far away main appeal fact goes shows would not dare forget pretty pictures painted mainstream audiences forget charm forget romance does not mess around episode saw struck nasty surreal could not ready watched more developed taste got accustomed high levels graphic violence violence injustice crooked guards who will sold nickel inmates who will kill order away mannered middle class inmates turned prison bitches lack street skills prison experience watch'"
      ]
     },
     "execution_count": 13,
     "metadata": {},
     "output_type": "execute_result"
    }
   ],
   "source": [
    "review_string = \" \".join(review for review in df[\"review\"])\n",
    "review_string[0:1000]"
   ]
  },
  {
   "cell_type": "code",
   "execution_count": 14,
   "id": "88ca371a",
   "metadata": {},
   "outputs": [
    {
     "data": {
      "text/plain": [
       "[('movie', 87937),\n",
       " ('film', 79676),\n",
       " ('not', 63302),\n",
       " ('like', 40160),\n",
       " ('good', 29737),\n",
       " ('the', 28919),\n",
       " ('time', 25099),\n",
       " ('story', 23095),\n",
       " ('bad', 18461),\n",
       " ('people', 18182),\n",
       " ('great', 18137),\n",
       " ('way', 15644),\n",
       " ('movies', 15301),\n",
       " ('characters', 14444),\n",
       " ('think', 14335),\n",
       " ('watch', 13942),\n",
       " ('character', 13900),\n",
       " ('films', 13752),\n",
       " ('that', 13710),\n",
       " ('you', 13530),\n",
       " ('seen', 13370),\n",
       " ('love', 13006),\n",
       " ('plot', 12976),\n",
       " ('life', 12913),\n",
       " ('acting', 12858),\n",
       " ('best', 12611),\n",
       " ('know', 12508),\n",
       " ('this', 12437),\n",
       " ('little', 12430),\n",
       " ('man', 11824),\n",
       " ('there', 11426),\n",
       " ('better', 11426),\n",
       " ('end', 11115),\n",
       " ('scene', 10957),\n",
       " ('are', 10855),\n",
       " ('and', 10731),\n",
       " ('scenes', 10472),\n",
       " ('did', 10324),\n",
       " ('does', 9683),\n",
       " ('well', 9568),\n",
       " ('real', 9426),\n",
       " ('thing', 9173),\n",
       " ('watching', 9160),\n",
       " ('actors', 8948),\n",
       " ('director', 8804),\n",
       " ('years', 8760),\n",
       " ('funny', 8755),\n",
       " ('old', 8650),\n",
       " ('one', 8602),\n",
       " ('work', 8544),\n",
       " ('actually', 8466),\n",
       " ('all', 8358),\n",
       " ('makes', 8307),\n",
       " ('look', 8293),\n",
       " ('find', 8218),\n",
       " ('going', 8189),\n",
       " ('new', 8093),\n",
       " ('lot', 8083),\n",
       " ('world', 7495),\n",
       " ('cast', 7421),\n",
       " ('things', 7335),\n",
       " ('want', 7302),\n",
       " ('pretty', 7250),\n",
       " ('horror', 7248),\n",
       " ('cannot', 7067),\n",
       " ('young', 7042),\n",
       " ('big', 6959),\n",
       " ('got', 6946),\n",
       " ('thought', 6934),\n",
       " ('fact', 6902),\n",
       " ('long', 6880),\n",
       " ('was', 6787),\n",
       " ('will', 6701),\n",
       " ('comedy', 6573),\n",
       " ('series', 6555),\n",
       " ('right', 6528),\n",
       " ('action', 6496),\n",
       " ('music', 6465),\n",
       " ('guy', 6389),\n",
       " ('times', 6356),\n",
       " ('saw', 6334),\n",
       " ('original', 6331),\n",
       " ('come', 6290),\n",
       " ('role', 6290),\n",
       " ('gets', 6235),\n",
       " ('point', 6181),\n",
       " ('interesting', 6178),\n",
       " ('far', 5993),\n",
       " ('bit', 5966),\n",
       " ('script', 5925),\n",
       " ('family', 5882),\n",
       " ('minutes', 5878),\n",
       " ('have', 5834),\n",
       " ('feel', 5834),\n",
       " ('making', 5776),\n",
       " ('but', 5671),\n",
       " ('probably', 5619),\n",
       " ('performance', 5572),\n",
       " ('kind', 5547),\n",
       " ('away', 5509),\n",
       " ('girl', 5494),\n",
       " ('however', 5401),\n",
       " ('fun', 5391),\n",
       " ('woman', 5340),\n",
       " ('worst', 5333),\n",
       " ('sure', 5291),\n",
       " ('hard', 5272),\n",
       " ('day', 5256),\n",
       " ('here', 5230),\n",
       " ('out', 5214),\n",
       " ('played', 5186),\n",
       " ('found', 5160),\n",
       " ('them', 5088),\n",
       " ('looking', 5052),\n",
       " ('screen', 5036),\n",
       " ('him', 5006),\n",
       " ('especially', 5002),\n",
       " ('believe', 4991),\n",
       " ('dvd', 4932),\n",
       " ('having', 4927),\n",
       " ('trying', 4906),\n",
       " ('course', 4892),\n",
       " ('set', 4799),\n",
       " ('goes', 4758),\n",
       " ('book', 4757),\n",
       " ('ending', 4752),\n",
       " ('comes', 4750),\n",
       " ('maybe', 4737),\n",
       " ('place', 4724),\n",
       " ('shows', 4703),\n",
       " ('let', 4703),\n",
       " ('worth', 4672),\n",
       " ('different', 4665),\n",
       " ('actor', 4644),\n",
       " ('would', 4620),\n",
       " ('main', 4609),\n",
       " ('sense', 4595),\n",
       " ('american', 4578),\n",
       " ('reason', 4539),\n",
       " ('play', 4532),\n",
       " ('effects', 4529),\n",
       " ('looks', 4525),\n",
       " ('true', 4518),\n",
       " ('money', 4510),\n",
       " ('they', 4505),\n",
       " ('watched', 4501),\n",
       " ('year', 4487),\n",
       " ('job', 4460),\n",
       " ('war', 4448),\n",
       " ('again', 4379),\n",
       " ('high', 4342),\n",
       " ('plays', 4332),\n",
       " ('audience', 4318),\n",
       " ('instead', 4315),\n",
       " ('half', 4307),\n",
       " ('said', 4306),\n",
       " ('later', 4278),\n",
       " ('takes', 4265),\n",
       " ('john', 4238),\n",
       " ('night', 4232),\n",
       " ('special', 4220),\n",
       " ('what', 4218),\n",
       " ('beautiful', 4218),\n",
       " ('left', 4194),\n",
       " ('black', 4186),\n",
       " ('seeing', 4169),\n",
       " ('wife', 4117),\n",
       " ('version', 4110),\n",
       " ('shot', 4102),\n",
       " ('excellent', 4101),\n",
       " ('idea', 4072),\n",
       " ('house', 4072),\n",
       " ('star', 3990),\n",
       " ('mind', 3985),\n",
       " ('death', 3944),\n",
       " ('fan', 3921),\n",
       " ('who', 3899),\n",
       " ('father', 3895),\n",
       " ('nice', 3868),\n",
       " ('budget', 3860),\n",
       " ('simply', 3858),\n",
       " ('poor', 3842),\n",
       " ('short', 3837),\n",
       " ('completely', 3833),\n",
       " ('second', 3826),\n",
       " ('men', 3814),\n",
       " ('read', 3791),\n",
       " ('she', 3726),\n",
       " ('dead', 3705),\n",
       " ('home', 3703),\n",
       " ('help', 3688),\n",
       " ('line', 3685),\n",
       " ('hollywood', 3683),\n",
       " ('kids', 3672),\n",
       " ('could', 3657),\n",
       " ('boring', 3640),\n",
       " ('friends', 3634),\n",
       " ('camera', 3597),\n",
       " ('production', 3594),\n",
       " ('need', 3590),\n",
       " ('try', 3590),\n",
       " ('wrong', 3583),\n",
       " ('low', 3580),\n",
       " ('enjoy', 3580),\n",
       " ('classic', 3577),\n",
       " ('use', 3576),\n",
       " ('given', 3568),\n",
       " ('women', 3561),\n",
       " ('her', 3552),\n",
       " ('school', 3535),\n",
       " ('stupid', 3528),\n",
       " ('performances', 3495),\n",
       " ('rest', 3477),\n",
       " ('truly', 3466),\n",
       " ('couple', 3465),\n",
       " ('video', 3460),\n",
       " ('awful', 3445),\n",
       " ('start', 3411),\n",
       " ('sex', 3407),\n",
       " ('recommend', 3401),\n",
       " ('too', 3388),\n",
       " ('tell', 3377),\n",
       " ('terrible', 3332),\n",
       " ('mean', 3326),\n",
       " ('remember', 3319),\n",
       " ('getting', 3313),\n",
       " ('came', 3309),\n",
       " ('understand', 3299),\n",
       " ('show', 3273),\n",
       " ('moments', 3266),\n",
       " ('face', 3243),\n",
       " ('person', 3234),\n",
       " ('human', 3220),\n",
       " ('wonderful', 3215),\n",
       " ('mother', 3211),\n",
       " ('playing', 3200),\n",
       " ('now', 3196),\n",
       " ('style', 3189),\n",
       " ('episode', 3183),\n",
       " ('small', 3177),\n",
       " ('boy', 3157),\n",
       " ('perfect', 3153),\n",
       " ('early', 3132),\n",
       " ('head', 3125),\n",
       " ('stars', 3124),\n",
       " ('written', 3111),\n",
       " ('definitely', 3110),\n",
       " ('lines', 3091),\n",
       " ('children', 3087),\n",
       " ('dialogue', 3073),\n",
       " ('gives', 3069),\n",
       " ('piece', 3046),\n",
       " ('off', 3016),\n",
       " ('went', 3009),\n",
       " ('case', 3003),\n",
       " ('yes', 3001),\n",
       " ('finally', 3001),\n",
       " ('title', 3000),\n",
       " ('absolutely', 2994),\n",
       " ('live', 2993),\n",
       " ('laugh', 2980),\n",
       " ('friend', 2969),\n",
       " ('certainly', 2969),\n",
       " ('lost', 2949),\n",
       " ('liked', 2943),\n",
       " ('entertaining', 2938),\n",
       " ('worse', 2938),\n",
       " ('for', 2936),\n",
       " ('sort', 2934),\n",
       " ('cinema', 2932),\n",
       " ('loved', 2925),\n",
       " ('picture', 2923),\n",
       " ('called', 2914),\n",
       " ('hope', 2912),\n",
       " ('felt', 2875),\n",
       " ('guys', 2866),\n",
       " ('overall', 2863),\n",
       " ('based', 2860),\n",
       " ('entire', 2857),\n",
       " ('supposed', 2854),\n",
       " ('drama', 2829),\n",
       " ('sound', 2827),\n",
       " ('problem', 2810),\n",
       " ('white', 2808),\n",
       " ('waste', 2785),\n",
       " ('beginning', 2776),\n",
       " ('dark', 2770),\n",
       " ('fans', 2763),\n",
       " ('with', 2761),\n",
       " ('though', 2750),\n",
       " ('game', 2746),\n",
       " ('totally', 2744),\n",
       " ('care', 2737),\n",
       " ('humor', 2728),\n",
       " ('wanted', 2716),\n",
       " ('direction', 2705),\n",
       " ('evil', 2697),\n",
       " ('lives', 2697),\n",
       " ('lead', 2695),\n",
       " ('despite', 2693),\n",
       " ('guess', 2681),\n",
       " ('final', 2679),\n",
       " ('example', 2679),\n",
       " ('turn', 2675),\n",
       " ('killer', 2639),\n",
       " ('able', 2623),\n",
       " ('unfortunately', 2622),\n",
       " ('quality', 2614),\n",
       " ('son', 2607),\n",
       " ('days', 2591),\n",
       " ('history', 2590),\n",
       " ('made', 2588),\n",
       " ('heart', 2564),\n",
       " ('fine', 2545),\n",
       " ('over', 2541),\n",
       " ('michael', 2539),\n",
       " ('flick', 2533),\n",
       " ('wants', 2529),\n",
       " ('writing', 2525),\n",
       " ('horrible', 2524),\n",
       " ('amazing', 2519),\n",
       " ('run', 2501),\n",
       " ('today', 2498),\n",
       " ('art', 2495),\n",
       " ('town', 2488),\n",
       " ('act', 2478),\n",
       " ('works', 2470),\n",
       " ('close', 2470),\n",
       " ('kill', 2468),\n",
       " ('god', 2466),\n",
       " ('child', 2460),\n",
       " ('matter', 2446),\n",
       " ('etc', 2444),\n",
       " ('viewer', 2428),\n",
       " ('tries', 2428),\n",
       " ('past', 2423),\n",
       " ('genre', 2418),\n",
       " ('enjoyed', 2415),\n",
       " ('turns', 2415),\n",
       " ('brilliant', 2411),\n",
       " ('gave', 2406),\n",
       " ('car', 2401),\n",
       " ('parts', 2400),\n",
       " ('stuff', 2399),\n",
       " ('eyes', 2398),\n",
       " ('favorite', 2389),\n",
       " ('girls', 2383),\n",
       " ('directed', 2382),\n",
       " ('hand', 2381),\n",
       " ('kid', 2379),\n",
       " ('late', 2376),\n",
       " ('city', 2368),\n",
       " ('hour', 2357),\n",
       " ('expect', 2354),\n",
       " ('soon', 2344),\n",
       " ('actress', 2329),\n",
       " ('obviously', 2327),\n",
       " ('thinking', 2309),\n",
       " ('killed', 2308),\n",
       " ('starts', 2299),\n",
       " ('decent', 2284),\n",
       " ('type', 2281),\n",
       " ('daughter', 2279),\n",
       " ('highly', 2276),\n",
       " ('stop', 2276),\n",
       " ('self', 2275),\n",
       " ('group', 2271),\n",
       " ('says', 2258),\n",
       " ('blood', 2256),\n",
       " ('then', 2252),\n",
       " ('voice', 2251),\n",
       " ('which', 2249),\n",
       " ('writer', 2235),\n",
       " ('known', 2230),\n",
       " ('also', 2229),\n",
       " ('took', 2228),\n",
       " ('heard', 2218),\n",
       " ('happens', 2215),\n",
       " ('fight', 2212),\n",
       " ('feeling', 2205),\n",
       " ('experience', 2201),\n",
       " ('coming', 2193),\n",
       " ('slow', 2178),\n",
       " ('moment', 2159),\n",
       " ('stories', 2148),\n",
       " ('leave', 2145),\n",
       " ('more', 2140),\n",
       " ('police', 2137),\n",
       " ('told', 2136),\n",
       " ('extremely', 2131),\n",
       " ('score', 2128),\n",
       " ('violence', 2122),\n",
       " ('hero', 2122),\n",
       " ('first', 2121),\n",
       " ('involved', 2119),\n",
       " ('chance', 2112),\n",
       " ('strong', 2110),\n",
       " ('lack', 2109),\n",
       " ('see', 2109),\n",
       " ('hit', 2104)]"
      ]
     },
     "execution_count": 14,
     "metadata": {},
     "output_type": "execute_result"
    }
   ],
   "source": [
    "review_words = review_string.split(' ')\n",
    "\n",
    "# get the frequency of each word (token) in the tweet string\n",
    "review_words_freq = Counter(review_words)\n",
    "\n",
    "# get the most frequent words\n",
    "most_common_words = review_words_freq.most_common(400)\n",
    "\n",
    "# view the most common words\n",
    "most_common_words"
   ]
  },
  {
   "cell_type": "code",
   "execution_count": 15,
   "id": "b5155027",
   "metadata": {},
   "outputs": [],
   "source": [
    "common_word_list =[]\n",
    "for i in range(len(most_common_words)):\n",
    "  common_word_list.append(most_common_words[i][0])"
   ]
  },
  {
   "cell_type": "code",
   "execution_count": 16,
   "id": "cd22744c",
   "metadata": {},
   "outputs": [],
   "source": [
    "df['review'] = df['review'].apply(lambda x: ' '.join([word for word in x.split() if word in (common_word_list)]))"
   ]
  },
  {
   "cell_type": "code",
   "execution_count": 17,
   "id": "0d4e509e",
   "metadata": {},
   "outputs": [],
   "source": [
    "df['review'] = df['review'].str.split().apply(lambda x: ' '.join(OrderedDict.fromkeys(x).keys()))"
   ]
  },
  {
   "cell_type": "code",
   "execution_count": 18,
   "id": "67659304",
   "metadata": {},
   "outputs": [
    {
     "data": {
      "text/html": [
       "<div>\n",
       "<style scoped>\n",
       "    .dataframe tbody tr th:only-of-type {\n",
       "        vertical-align: middle;\n",
       "    }\n",
       "\n",
       "    .dataframe tbody tr th {\n",
       "        vertical-align: top;\n",
       "    }\n",
       "\n",
       "    .dataframe thead th {\n",
       "        text-align: right;\n",
       "    }\n",
       "</style>\n",
       "<table border=\"1\" class=\"dataframe\">\n",
       "  <thead>\n",
       "    <tr style=\"text-align: right;\">\n",
       "      <th></th>\n",
       "      <th>sentiment</th>\n",
       "      <th>review</th>\n",
       "    </tr>\n",
       "  </thead>\n",
       "  <tbody>\n",
       "    <tr>\n",
       "      <th>0</th>\n",
       "      <td>1</td>\n",
       "      <td>watching episode you will right the thing scen...</td>\n",
       "    </tr>\n",
       "    <tr>\n",
       "      <th>1</th>\n",
       "      <td>1</td>\n",
       "      <td>wonderful little production the old time gives...</td>\n",
       "    </tr>\n",
       "    <tr>\n",
       "      <th>2</th>\n",
       "      <td>1</td>\n",
       "      <td>thought wonderful way time watching comedy plo...</td>\n",
       "    </tr>\n",
       "    <tr>\n",
       "      <th>3</th>\n",
       "      <td>0</td>\n",
       "      <td>there family little boy time this movie kill y...</td>\n",
       "    </tr>\n",
       "    <tr>\n",
       "      <th>4</th>\n",
       "      <td>1</td>\n",
       "      <td>love time money film watch human movie people ...</td>\n",
       "    </tr>\n",
       "  </tbody>\n",
       "</table>\n",
       "</div>"
      ],
      "text/plain": [
       "   sentiment                                             review\n",
       "0          1  watching episode you will right the thing scen...\n",
       "1          1  wonderful little production the old time gives...\n",
       "2          1  thought wonderful way time watching comedy plo...\n",
       "3          0  there family little boy time this movie kill y...\n",
       "4          1  love time money film watch human movie people ..."
      ]
     },
     "execution_count": 18,
     "metadata": {},
     "output_type": "execute_result"
    }
   ],
   "source": [
    "df1=df.reindex(columns = ['sentiment','review'])\n",
    "df1.head()"
   ]
  },
  {
   "cell_type": "code",
   "execution_count": 19,
   "id": "68b46813",
   "metadata": {},
   "outputs": [
    {
     "data": {
      "text/html": [
       "<div>\n",
       "<style scoped>\n",
       "    .dataframe tbody tr th:only-of-type {\n",
       "        vertical-align: middle;\n",
       "    }\n",
       "\n",
       "    .dataframe tbody tr th {\n",
       "        vertical-align: top;\n",
       "    }\n",
       "\n",
       "    .dataframe thead th {\n",
       "        text-align: right;\n",
       "    }\n",
       "</style>\n",
       "<table border=\"1\" class=\"dataframe\">\n",
       "  <thead>\n",
       "    <tr style=\"text-align: right;\">\n",
       "      <th></th>\n",
       "      <th>review</th>\n",
       "    </tr>\n",
       "  </thead>\n",
       "  <tbody>\n",
       "    <tr>\n",
       "      <th>0</th>\n",
       "      <td>watching episode you will right the thing scen...</td>\n",
       "    </tr>\n",
       "    <tr>\n",
       "      <th>1</th>\n",
       "      <td>wonderful little production the old time gives...</td>\n",
       "    </tr>\n",
       "    <tr>\n",
       "      <th>2</th>\n",
       "      <td>thought wonderful way time watching comedy plo...</td>\n",
       "    </tr>\n",
       "    <tr>\n",
       "      <th>3</th>\n",
       "      <td>there family little boy time this movie kill y...</td>\n",
       "    </tr>\n",
       "    <tr>\n",
       "      <th>4</th>\n",
       "      <td>love time money film watch human movie people ...</td>\n",
       "    </tr>\n",
       "    <tr>\n",
       "      <th>...</th>\n",
       "      <td>...</td>\n",
       "    </tr>\n",
       "    <tr>\n",
       "      <th>49995</th>\n",
       "      <td>thought movie right good job was not original ...</td>\n",
       "    </tr>\n",
       "    <tr>\n",
       "      <th>49996</th>\n",
       "      <td>bad plot dialogue acting script end the girl p...</td>\n",
       "    </tr>\n",
       "    <tr>\n",
       "      <th>49997</th>\n",
       "      <td>high school good eyes not believe things act m...</td>\n",
       "    </tr>\n",
       "    <tr>\n",
       "      <th>49998</th>\n",
       "      <td>going one second trying time like kid film dir...</td>\n",
       "    </tr>\n",
       "    <tr>\n",
       "      <th>49999</th>\n",
       "      <td>star movies high art fans expect movie good be...</td>\n",
       "    </tr>\n",
       "  </tbody>\n",
       "</table>\n",
       "<p>50000 rows × 1 columns</p>\n",
       "</div>"
      ],
      "text/plain": [
       "                                                  review\n",
       "0      watching episode you will right the thing scen...\n",
       "1      wonderful little production the old time gives...\n",
       "2      thought wonderful way time watching comedy plo...\n",
       "3      there family little boy time this movie kill y...\n",
       "4      love time money film watch human movie people ...\n",
       "...                                                  ...\n",
       "49995  thought movie right good job was not original ...\n",
       "49996  bad plot dialogue acting script end the girl p...\n",
       "49997  high school good eyes not believe things act m...\n",
       "49998  going one second trying time like kid film dir...\n",
       "49999  star movies high art fans expect movie good be...\n",
       "\n",
       "[50000 rows x 1 columns]"
      ]
     },
     "execution_count": 19,
     "metadata": {},
     "output_type": "execute_result"
    }
   ],
   "source": [
    "x=df.iloc[:,:-1]\n",
    "x"
   ]
  },
  {
   "cell_type": "code",
   "execution_count": 20,
   "id": "0bccb351",
   "metadata": {},
   "outputs": [
    {
     "data": {
      "text/html": [
       "<div>\n",
       "<style scoped>\n",
       "    .dataframe tbody tr th:only-of-type {\n",
       "        vertical-align: middle;\n",
       "    }\n",
       "\n",
       "    .dataframe tbody tr th {\n",
       "        vertical-align: top;\n",
       "    }\n",
       "\n",
       "    .dataframe thead th {\n",
       "        text-align: right;\n",
       "    }\n",
       "</style>\n",
       "<table border=\"1\" class=\"dataframe\">\n",
       "  <thead>\n",
       "    <tr style=\"text-align: right;\">\n",
       "      <th></th>\n",
       "      <th>sentiment</th>\n",
       "    </tr>\n",
       "  </thead>\n",
       "  <tbody>\n",
       "    <tr>\n",
       "      <th>0</th>\n",
       "      <td>1</td>\n",
       "    </tr>\n",
       "    <tr>\n",
       "      <th>1</th>\n",
       "      <td>1</td>\n",
       "    </tr>\n",
       "    <tr>\n",
       "      <th>2</th>\n",
       "      <td>1</td>\n",
       "    </tr>\n",
       "    <tr>\n",
       "      <th>3</th>\n",
       "      <td>0</td>\n",
       "    </tr>\n",
       "    <tr>\n",
       "      <th>4</th>\n",
       "      <td>1</td>\n",
       "    </tr>\n",
       "    <tr>\n",
       "      <th>...</th>\n",
       "      <td>...</td>\n",
       "    </tr>\n",
       "    <tr>\n",
       "      <th>49995</th>\n",
       "      <td>1</td>\n",
       "    </tr>\n",
       "    <tr>\n",
       "      <th>49996</th>\n",
       "      <td>0</td>\n",
       "    </tr>\n",
       "    <tr>\n",
       "      <th>49997</th>\n",
       "      <td>0</td>\n",
       "    </tr>\n",
       "    <tr>\n",
       "      <th>49998</th>\n",
       "      <td>0</td>\n",
       "    </tr>\n",
       "    <tr>\n",
       "      <th>49999</th>\n",
       "      <td>0</td>\n",
       "    </tr>\n",
       "  </tbody>\n",
       "</table>\n",
       "<p>50000 rows × 1 columns</p>\n",
       "</div>"
      ],
      "text/plain": [
       "       sentiment\n",
       "0              1\n",
       "1              1\n",
       "2              1\n",
       "3              0\n",
       "4              1\n",
       "...          ...\n",
       "49995          1\n",
       "49996          0\n",
       "49997          0\n",
       "49998          0\n",
       "49999          0\n",
       "\n",
       "[50000 rows x 1 columns]"
      ]
     },
     "execution_count": 20,
     "metadata": {},
     "output_type": "execute_result"
    }
   ],
   "source": [
    "y=df1.iloc[:,:-1]\n",
    "y"
   ]
  },
  {
   "cell_type": "code",
   "execution_count": 21,
   "id": "3cdcf2a6",
   "metadata": {},
   "outputs": [],
   "source": [
    "from sklearn.model_selection import train_test_split\n",
    "import pandas as pd\n",
    "# split dataset into train and test sets\n",
    "(x_train, x_test, y_train, y_test) = train_test_split(x, y, test_size= 0.3, random_state = 0)\n",
    "label = 'sentiment'"
   ]
  },
  {
   "cell_type": "code",
   "execution_count": 22,
   "id": "c2fdba1f",
   "metadata": {},
   "outputs": [
    {
     "data": {
      "text/html": [
       "<div>\n",
       "<style scoped>\n",
       "    .dataframe tbody tr th:only-of-type {\n",
       "        vertical-align: middle;\n",
       "    }\n",
       "\n",
       "    .dataframe tbody tr th {\n",
       "        vertical-align: top;\n",
       "    }\n",
       "\n",
       "    .dataframe thead th {\n",
       "        text-align: right;\n",
       "    }\n",
       "</style>\n",
       "<table border=\"1\" class=\"dataframe\">\n",
       "  <thead>\n",
       "    <tr style=\"text-align: right;\">\n",
       "      <th></th>\n",
       "      <th>review</th>\n",
       "    </tr>\n",
       "  </thead>\n",
       "  <tbody>\n",
       "    <tr>\n",
       "      <th>17967</th>\n",
       "      <td>version face life father film men women the pl...</td>\n",
       "    </tr>\n",
       "    <tr>\n",
       "      <th>32391</th>\n",
       "      <td>the performance however things classic man wom...</td>\n",
       "    </tr>\n",
       "    <tr>\n",
       "      <th>9341</th>\n",
       "      <td>world war the set acting makes this moment nic...</td>\n",
       "    </tr>\n",
       "    <tr>\n",
       "      <th>7929</th>\n",
       "      <td>saw movie voice took big beginning humor looks...</td>\n",
       "    </tr>\n",
       "    <tr>\n",
       "      <th>46544</th>\n",
       "      <td>funny bit kind beginning what little pretty go...</td>\n",
       "    </tr>\n",
       "    <tr>\n",
       "      <th>...</th>\n",
       "      <td>...</td>\n",
       "    </tr>\n",
       "    <tr>\n",
       "      <th>21243</th>\n",
       "      <td>set high movie left story little overall think...</td>\n",
       "    </tr>\n",
       "    <tr>\n",
       "      <th>45891</th>\n",
       "      <td>great horror movie title character real feel g...</td>\n",
       "    </tr>\n",
       "    <tr>\n",
       "      <th>42613</th>\n",
       "      <td>years book the house finally bit which especia...</td>\n",
       "    </tr>\n",
       "    <tr>\n",
       "      <th>43567</th>\n",
       "      <td>fan thought series best comedy seen different ...</td>\n",
       "    </tr>\n",
       "    <tr>\n",
       "      <th>2732</th>\n",
       "      <td>excellent drama american gave viewer character...</td>\n",
       "    </tr>\n",
       "  </tbody>\n",
       "</table>\n",
       "<p>35000 rows × 1 columns</p>\n",
       "</div>"
      ],
      "text/plain": [
       "                                                  review\n",
       "17967  version face life father film men women the pl...\n",
       "32391  the performance however things classic man wom...\n",
       "9341   world war the set acting makes this moment nic...\n",
       "7929   saw movie voice took big beginning humor looks...\n",
       "46544  funny bit kind beginning what little pretty go...\n",
       "...                                                  ...\n",
       "21243  set high movie left story little overall think...\n",
       "45891  great horror movie title character real feel g...\n",
       "42613  years book the house finally bit which especia...\n",
       "43567  fan thought series best comedy seen different ...\n",
       "2732   excellent drama american gave viewer character...\n",
       "\n",
       "[35000 rows x 1 columns]"
      ]
     },
     "execution_count": 22,
     "metadata": {},
     "output_type": "execute_result"
    }
   ],
   "source": [
    "x_train"
   ]
  },
  {
   "cell_type": "code",
   "execution_count": 23,
   "id": "fb3b130b",
   "metadata": {},
   "outputs": [
    {
     "data": {
      "text/html": [
       "<div>\n",
       "<style scoped>\n",
       "    .dataframe tbody tr th:only-of-type {\n",
       "        vertical-align: middle;\n",
       "    }\n",
       "\n",
       "    .dataframe tbody tr th {\n",
       "        vertical-align: top;\n",
       "    }\n",
       "\n",
       "    .dataframe thead th {\n",
       "        text-align: right;\n",
       "    }\n",
       "</style>\n",
       "<table border=\"1\" class=\"dataframe\">\n",
       "  <thead>\n",
       "    <tr style=\"text-align: right;\">\n",
       "      <th></th>\n",
       "      <th>sentiment</th>\n",
       "    </tr>\n",
       "  </thead>\n",
       "  <tbody>\n",
       "    <tr>\n",
       "      <th>17967</th>\n",
       "      <td>1</td>\n",
       "    </tr>\n",
       "    <tr>\n",
       "      <th>32391</th>\n",
       "      <td>0</td>\n",
       "    </tr>\n",
       "    <tr>\n",
       "      <th>9341</th>\n",
       "      <td>1</td>\n",
       "    </tr>\n",
       "    <tr>\n",
       "      <th>7929</th>\n",
       "      <td>1</td>\n",
       "    </tr>\n",
       "    <tr>\n",
       "      <th>46544</th>\n",
       "      <td>1</td>\n",
       "    </tr>\n",
       "    <tr>\n",
       "      <th>...</th>\n",
       "      <td>...</td>\n",
       "    </tr>\n",
       "    <tr>\n",
       "      <th>21243</th>\n",
       "      <td>1</td>\n",
       "    </tr>\n",
       "    <tr>\n",
       "      <th>45891</th>\n",
       "      <td>1</td>\n",
       "    </tr>\n",
       "    <tr>\n",
       "      <th>42613</th>\n",
       "      <td>1</td>\n",
       "    </tr>\n",
       "    <tr>\n",
       "      <th>43567</th>\n",
       "      <td>0</td>\n",
       "    </tr>\n",
       "    <tr>\n",
       "      <th>2732</th>\n",
       "      <td>1</td>\n",
       "    </tr>\n",
       "  </tbody>\n",
       "</table>\n",
       "<p>35000 rows × 1 columns</p>\n",
       "</div>"
      ],
      "text/plain": [
       "       sentiment\n",
       "17967          1\n",
       "32391          0\n",
       "9341           1\n",
       "7929           1\n",
       "46544          1\n",
       "...          ...\n",
       "21243          1\n",
       "45891          1\n",
       "42613          1\n",
       "43567          0\n",
       "2732           1\n",
       "\n",
       "[35000 rows x 1 columns]"
      ]
     },
     "execution_count": 23,
     "metadata": {},
     "output_type": "execute_result"
    }
   ],
   "source": [
    "y_train"
   ]
  },
  {
   "cell_type": "code",
   "execution_count": 24,
   "id": "b2a0476d",
   "metadata": {},
   "outputs": [
    {
     "data": {
      "text/html": [
       "<div>\n",
       "<style scoped>\n",
       "    .dataframe tbody tr th:only-of-type {\n",
       "        vertical-align: middle;\n",
       "    }\n",
       "\n",
       "    .dataframe tbody tr th {\n",
       "        vertical-align: top;\n",
       "    }\n",
       "\n",
       "    .dataframe thead th {\n",
       "        text-align: right;\n",
       "    }\n",
       "</style>\n",
       "<table border=\"1\" class=\"dataframe\">\n",
       "  <thead>\n",
       "    <tr style=\"text-align: right;\">\n",
       "      <th></th>\n",
       "      <th>review</th>\n",
       "    </tr>\n",
       "  </thead>\n",
       "  <tbody>\n",
       "    <tr>\n",
       "      <th>17967</th>\n",
       "      <td>version face life father film men women the pl...</td>\n",
       "    </tr>\n",
       "    <tr>\n",
       "      <th>32391</th>\n",
       "      <td>the performance however things classic man wom...</td>\n",
       "    </tr>\n",
       "    <tr>\n",
       "      <th>9341</th>\n",
       "      <td>world war the set acting makes this moment nic...</td>\n",
       "    </tr>\n",
       "    <tr>\n",
       "      <th>7929</th>\n",
       "      <td>saw movie voice took big beginning humor looks...</td>\n",
       "    </tr>\n",
       "    <tr>\n",
       "      <th>46544</th>\n",
       "      <td>funny bit kind beginning what little pretty go...</td>\n",
       "    </tr>\n",
       "  </tbody>\n",
       "</table>\n",
       "</div>"
      ],
      "text/plain": [
       "                                                  review\n",
       "17967  version face life father film men women the pl...\n",
       "32391  the performance however things classic man wom...\n",
       "9341   world war the set acting makes this moment nic...\n",
       "7929   saw movie voice took big beginning humor looks...\n",
       "46544  funny bit kind beginning what little pretty go..."
      ]
     },
     "execution_count": 24,
     "metadata": {},
     "output_type": "execute_result"
    }
   ],
   "source": [
    "x_train = pd.DataFrame(x_train)\n",
    "x_train.columns = ['review']\n",
    "x_train.head()"
   ]
  },
  {
   "cell_type": "code",
   "execution_count": 25,
   "id": "a7ac4ef4",
   "metadata": {},
   "outputs": [
    {
     "data": {
      "text/html": [
       "<div>\n",
       "<style scoped>\n",
       "    .dataframe tbody tr th:only-of-type {\n",
       "        vertical-align: middle;\n",
       "    }\n",
       "\n",
       "    .dataframe tbody tr th {\n",
       "        vertical-align: top;\n",
       "    }\n",
       "\n",
       "    .dataframe thead th {\n",
       "        text-align: right;\n",
       "    }\n",
       "</style>\n",
       "<table border=\"1\" class=\"dataframe\">\n",
       "  <thead>\n",
       "    <tr style=\"text-align: right;\">\n",
       "      <th></th>\n",
       "      <th>sentiment</th>\n",
       "    </tr>\n",
       "  </thead>\n",
       "  <tbody>\n",
       "    <tr>\n",
       "      <th>17967</th>\n",
       "      <td>1</td>\n",
       "    </tr>\n",
       "    <tr>\n",
       "      <th>32391</th>\n",
       "      <td>0</td>\n",
       "    </tr>\n",
       "    <tr>\n",
       "      <th>9341</th>\n",
       "      <td>1</td>\n",
       "    </tr>\n",
       "    <tr>\n",
       "      <th>7929</th>\n",
       "      <td>1</td>\n",
       "    </tr>\n",
       "    <tr>\n",
       "      <th>46544</th>\n",
       "      <td>1</td>\n",
       "    </tr>\n",
       "  </tbody>\n",
       "</table>\n",
       "</div>"
      ],
      "text/plain": [
       "       sentiment\n",
       "17967          1\n",
       "32391          0\n",
       "9341           1\n",
       "7929           1\n",
       "46544          1"
      ]
     },
     "execution_count": 25,
     "metadata": {},
     "output_type": "execute_result"
    }
   ],
   "source": [
    "y_train = pd.DataFrame(y_train)\n",
    "y_train.columns = ['sentiment']\n",
    "y_train.head()"
   ]
  },
  {
   "cell_type": "code",
   "execution_count": 26,
   "id": "bb90d282",
   "metadata": {},
   "outputs": [
    {
     "data": {
      "text/html": [
       "<div>\n",
       "<style scoped>\n",
       "    .dataframe tbody tr th:only-of-type {\n",
       "        vertical-align: middle;\n",
       "    }\n",
       "\n",
       "    .dataframe tbody tr th {\n",
       "        vertical-align: top;\n",
       "    }\n",
       "\n",
       "    .dataframe thead th {\n",
       "        text-align: right;\n",
       "    }\n",
       "</style>\n",
       "<table border=\"1\" class=\"dataframe\">\n",
       "  <thead>\n",
       "    <tr style=\"text-align: right;\">\n",
       "      <th></th>\n",
       "      <th>review</th>\n",
       "      <th>sentiment</th>\n",
       "    </tr>\n",
       "  </thead>\n",
       "  <tbody>\n",
       "    <tr>\n",
       "      <th>17967</th>\n",
       "      <td>version face life father film men women the pl...</td>\n",
       "      <td>1</td>\n",
       "    </tr>\n",
       "    <tr>\n",
       "      <th>32391</th>\n",
       "      <td>the performance however things classic man wom...</td>\n",
       "      <td>0</td>\n",
       "    </tr>\n",
       "    <tr>\n",
       "      <th>9341</th>\n",
       "      <td>world war the set acting makes this moment nic...</td>\n",
       "      <td>1</td>\n",
       "    </tr>\n",
       "    <tr>\n",
       "      <th>7929</th>\n",
       "      <td>saw movie voice took big beginning humor looks...</td>\n",
       "      <td>1</td>\n",
       "    </tr>\n",
       "    <tr>\n",
       "      <th>46544</th>\n",
       "      <td>funny bit kind beginning what little pretty go...</td>\n",
       "      <td>1</td>\n",
       "    </tr>\n",
       "  </tbody>\n",
       "</table>\n",
       "</div>"
      ],
      "text/plain": [
       "                                                  review  sentiment\n",
       "17967  version face life father film men women the pl...          1\n",
       "32391  the performance however things classic man wom...          0\n",
       "9341   world war the set acting makes this moment nic...          1\n",
       "7929   saw movie voice took big beginning humor looks...          1\n",
       "46544  funny bit kind beginning what little pretty go...          1"
      ]
     },
     "execution_count": 26,
     "metadata": {},
     "output_type": "execute_result"
    }
   ],
   "source": [
    "# merge the output x and y dataframes into a single table for AutoML experiment\n",
    "train_data_df = pd.concat([x_train, y_train],axis=1)\n",
    "# view train dataset\n",
    "train_data_df.head()"
   ]
  },
  {
   "cell_type": "code",
   "execution_count": 27,
   "id": "0dd0c290",
   "metadata": {},
   "outputs": [],
   "source": [
    "# save training data in tabular format to allow for remote run\n",
    "if not os.path.isdir('imbd-data'):  # create data folder if it does not exist\n",
    "    os.mkdir('imbd-data')\n",
    "    \n",
    "# Save the train data to a csv file to be uploaded to the datastore\n",
    "pd.DataFrame(train_data_df).to_csv(\"imbd-data/train_data.csv\", index=False)\n"
   ]
  },
  {
   "cell_type": "code",
   "execution_count": 28,
   "id": "d46127df",
   "metadata": {},
   "outputs": [
    {
     "name": "stdout",
     "output_type": "stream",
     "text": [
      "Uploading an estimated of 1 files\n",
      "Uploading ./imbd-data/train_data.csv\n",
      "Uploaded ./imbd-data/train_data.csv, 1 files out of an estimated total of 1\n",
      "Uploaded 1 files\n"
     ]
    }
   ],
   "source": [
    "# Upload the training data as a tabular dataset for access during training on remote compute\n",
    "# upload to data store\n",
    "ds = ws.get_default_datastore()\n",
    "ds.upload(src_dir='./imbd-data', target_path='imbd-capstone', overwrite=True, show_progress=True)\n",
    "\n",
    " # access datastore during training on remote compute\n",
    "train_data = TabularDatasetFactory.from_delimited_files(path=ds.path('imbd-capstone/train_data.csv'))"
   ]
  },
  {
   "cell_type": "code",
   "execution_count": 29,
   "id": "30e2e0d9",
   "metadata": {},
   "outputs": [],
   "source": [
    "# experiment name\n",
    "experiment_name = 'imdb-automl'\n",
    "project_folder = './imbd-capstone'"
   ]
  },
  {
   "cell_type": "code",
   "execution_count": 30,
   "id": "edc2b4d0",
   "metadata": {},
   "outputs": [
    {
     "name": "stdout",
     "output_type": "stream",
     "text": [
      "SDK version: 1.26.0\n"
     ]
    }
   ],
   "source": [
    "# Set parameters for AutoMLConfig\n",
    "\n",
    "# Check core SDK version number\n",
    "print(\"SDK version:\", azureml.core.VERSION)\n",
    "# Configure Automl settings\n",
    "automl_settings = {\n",
    "    \"experiment_timeout_minutes\": 20,\n",
    "    \"primary_metric\": 'accuracy',\n",
    "    \"max_concurrent_iterations\": max_nodes, \n",
    "    \"max_cores_per_iteration\": -1,\n",
    "    \"enable_dnn\": True,\n",
    "    \"enable_early_stopping\": True,\n",
    "    \"validation_size\": 0.3,\n",
    "    \"verbosity\": logging.INFO,\n",
    "    \"enable_voting_ensemble\": False,\n",
    "    \"enable_stack_ensemble\": False,\n",
    "}\n",
    "\n",
    "automl_config = AutoMLConfig(task = 'classification',\n",
    "                             debug_log = 'automl_errors.log',\n",
    "                             compute_target=compute_cluster_name,\n",
    "                             training_data=train_data,\n",
    "                             label_column_name='sentiment',\n",
    "                             blocked_models = ['LightGBM', 'XGBoostClassifier'],\n",
    "                             **automl_settings\n",
    "                            )\n"
   ]
  },
  {
   "cell_type": "code",
   "execution_count": 31,
   "id": "98b2541e",
   "metadata": {},
   "outputs": [
    {
     "name": "stdout",
     "output_type": "stream",
     "text": [
      "Submitting remote run.\n",
      "No run_configuration provided, running on capstone-automl with default configuration\n",
      "Running on remote compute: capstone-automl\n"
     ]
    },
    {
     "data": {
      "text/html": [
       "<table style=\"width:100%\"><tr><th>Experiment</th><th>Id</th><th>Type</th><th>Status</th><th>Details Page</th><th>Docs Page</th></tr><tr><td>imdb-automl</td><td>AutoML_1c07a841-cd90-4cc6-8c98-5b5708422cdf</td><td>automl</td><td>NotStarted</td><td><a href=\"https://ml.azure.com/runs/AutoML_1c07a841-cd90-4cc6-8c98-5b5708422cdf?wsid=/subscriptions/6b4af8be-9931-443e-90f6-c4c34a1f9737/resourcegroups/aml-quickstarts-142761/workspaces/quick-starts-ws-142761&amp;tid=660b3398-b80e-49d2-bc5b-ac1dc93b5254\" target=\"_blank\" rel=\"noopener\">Link to Azure Machine Learning studio</a></td><td><a href=\"https://docs.microsoft.com/en-us/python/api/overview/azure/ml/intro?view=azure-ml-py\" target=\"_blank\" rel=\"noopener\">Link to Documentation</a></td></tr></table>"
      ],
      "text/plain": [
       "<IPython.core.display.HTML object>"
      ]
     },
     "metadata": {},
     "output_type": "display_data"
    },
    {
     "name": "stdout",
     "output_type": "stream",
     "text": [
      "\n",
      "Current status: DatasetFeaturization. Beginning to fit featurizers and featurize the dataset.\n",
      "Current status: DatasetFeaturizationCompleted. Completed fit featurizers and featurizing the dataset.\n",
      "Current status: ModelSelection. Beginning model selection.\n",
      "\n",
      "****************************************************************************************************\n",
      "DATA GUARDRAILS: \n",
      "\n",
      "TYPE:         Class balancing detection\n",
      "STATUS:       PASSED\n",
      "DESCRIPTION:  Your inputs were analyzed, and all classes are balanced in your training data.\n",
      "              Learn more about imbalanced data: https://aka.ms/AutomatedMLImbalancedData\n",
      "\n",
      "****************************************************************************************************\n",
      "\n",
      "TYPE:         Missing feature values imputation\n",
      "STATUS:       PASSED\n",
      "DESCRIPTION:  No feature missing values were detected in the training data.\n",
      "              Learn more about missing value imputation: https://aka.ms/AutomatedMLFeaturization\n",
      "\n",
      "****************************************************************************************************\n",
      "\n",
      "TYPE:         High cardinality feature detection\n",
      "STATUS:       DONE\n",
      "DESCRIPTION:  High cardinality features were detected in your inputs and handled.\n",
      "              Learn more about high cardinality feature handling: https://aka.ms/AutomatedMLFeaturization\n",
      "DETAILS:      High cardinality features refer to columns that contain a large percentage of unique values.\n",
      "+---------------------------------+---------------------------------+\n",
      "|Column name                      |Column Content Type              |\n",
      "+=================================+=================================+\n",
      "|review                           |text                             |\n",
      "+---------------------------------+---------------------------------+\n",
      "\n",
      "****************************************************************************************************\n",
      "\n",
      "****************************************************************************************************\n",
      "ITERATION: The iteration being evaluated.\n",
      "PIPELINE: A summary description of the pipeline being evaluated.\n",
      "DURATION: Time taken for the current iteration.\n",
      "METRIC: The result of computing score on the fitted pipeline.\n",
      "BEST: The best observed score thus far.\n",
      "****************************************************************************************************\n",
      "\n",
      " ITERATION   PIPELINE                                       DURATION      METRIC      BEST\n",
      "         1   MaxAbsScaler RandomForest                      0:00:45       0.6401    0.6401\n",
      "         3   MaxAbsScaler RandomForest                      0:00:53       0.7242    0.7242\n",
      "         0   MaxAbsScaler RandomForest                      0:02:39       0.7220    0.7242\n",
      "         2   MaxAbsScaler RandomForest                      0:02:45       0.5517    0.7242\n",
      "         6   StandardScalerWrapper RandomForest             0:02:45       0.6395    0.7242\n",
      "         4   SparseNormalizer LogisticRegression            0:03:03       0.8185    0.8185\n",
      "         7   MaxAbsScaler SGD                               0:02:45       0.7998    0.8185\n",
      "         8   MaxAbsScaler ExtremeRandomTrees                0:02:51       0.7052    0.8185\n",
      "         9   MaxAbsScaler SGD                               0:02:42       0.8125    0.8185\n",
      "        10   SparseNormalizer LogisticRegression            0:00:52       0.8167    0.8185\n",
      "        11   StandardScalerWrapper MultinomialNaiveBayes    0:00:43       0.6566    0.8185\n",
      "        12   MaxAbsScaler SGD                               0:00:52       0.8231    0.8231\n",
      "        13   TruncatedSVDWrapper LogisticRegression         0:00:58       0.8175    0.8231\n",
      "        16   StandardScalerWrapper ExtremeRandomTrees       0:00:50       0.6908    0.8231\n",
      "        15   StandardScalerWrapper RandomForest             0:01:11       0.6701    0.8231\n",
      "        14   TruncatedSVDWrapper LogisticRegression         0:01:05       0.8170    0.8231\n",
      "        17   MaxAbsScaler ExtremeRandomTrees                0:01:00       0.7050    0.8231\n",
      "        18   StandardScalerWrapper RandomForest             0:00:48       0.7178    0.8231\n",
      "        19   SparseNormalizer RandomForest                  0:00:55       0.6123    0.8231\n",
      "        20   StandardScalerWrapper LogisticRegression       0:00:56       0.8370    0.8370\n",
      "        21   StandardScalerWrapper RandomForest             0:00:59       0.7126    0.8370\n",
      "        23   MaxAbsScaler GradientBoosting                  0:00:52       0.7389    0.8370\n",
      "        22   MaxAbsScaler ExtremeRandomTrees                0:00:46       0.7357    0.8370\n",
      "        24   SparseNormalizer SGD                           0:00:45       0.4989    0.8370\n",
      "        25   MaxAbsScaler ExtremeRandomTrees                0:00:49       0.7094    0.8370\n",
      "        26   StandardScalerWrapper LogisticRegression       0:00:48       0.8285    0.8370\n",
      "        27   MaxAbsScaler MultinomialNaiveBayes             0:00:44       0.8167    0.8370\n",
      "        29   SparseNormalizer LogisticRegression            0:00:49       0.6036    0.8370\n",
      "        30   MaxAbsScaler LogisticRegression                0:00:44       0.8337    0.8370\n",
      "        31   TruncatedSVDWrapper LogisticRegression         0:01:01       0.7758    0.8370\n",
      "        28   TruncatedSVDWrapper LogisticRegression         0:01:38       0.8126    0.8370\n",
      "        34   StandardScalerWrapper LogisticRegression       0:00:56       0.8241    0.8370\n",
      "        32   TruncatedSVDWrapper LogisticRegression         0:01:10       0.8168    0.8370\n",
      "        33   SparseNormalizer LogisticRegression            0:01:02       0.8233    0.8370\n",
      "        35   SparseNormalizer LogisticRegression            0:00:49       0.5107    0.8370\n",
      "        36   SparseNormalizer ExtremeRandomTrees            0:00:52       0.6750    0.8370\n",
      "        37   StandardScalerWrapper RandomForest             0:00:49       0.5011    0.8370\n",
      "        38   SparseNormalizer LogisticRegression            0:00:50          nan    0.8370\n",
      "        39   MaxAbsScaler ExtremeRandomTrees                0:00:36       0.6810    0.8370\n",
      "        40   TruncatedSVDWrapper LogisticRegression         0:00:28          nan    0.8370\n",
      "        41   StandardScalerWrapper LogisticRegression       0:00:25          nan    0.8370\n",
      "        42                                                  0:00:18          nan    0.8370\n",
      "        43                                                  0:00:06          nan    0.8370\n",
      "         5   MaxAbsScaler LogisticRegression                0:09:55          nan    0.8370\n"
     ]
    }
   ],
   "source": [
    "automl_run = exp.submit(automl_config, show_output = True)\n"
   ]
  },
  {
   "cell_type": "code",
   "execution_count": 33,
   "id": "64059092",
   "metadata": {},
   "outputs": [
    {
     "data": {
      "application/vnd.jupyter.widget-view+json": {
       "model_id": "2bbd3bb757e445fd992ef5237b8ec5c9",
       "version_major": 2,
       "version_minor": 0
      },
      "text/plain": [
       "_AutoMLWidget(widget_settings={'childWidgetDisplay': 'popup', 'send_telemetry': False, 'log_level': 'INFO', 's…"
      ]
     },
     "metadata": {},
     "output_type": "display_data"
    },
    {
     "data": {
      "application/aml.mini.widget.v1": "{\"status\": \"Completed\", \"workbench_run_details_uri\": \"https://ml.azure.com/runs/AutoML_1c07a841-cd90-4cc6-8c98-5b5708422cdf?wsid=/subscriptions/6b4af8be-9931-443e-90f6-c4c34a1f9737/resourcegroups/aml-quickstarts-142761/workspaces/quick-starts-ws-142761&tid=660b3398-b80e-49d2-bc5b-ac1dc93b5254\", \"run_id\": \"AutoML_1c07a841-cd90-4cc6-8c98-5b5708422cdf\", \"run_properties\": {\"run_id\": \"AutoML_1c07a841-cd90-4cc6-8c98-5b5708422cdf\", \"created_utc\": \"2021-04-15T12:27:09.144522Z\", \"properties\": {\"num_iterations\": \"1000\", \"training_type\": \"TrainFull\", \"acquisition_function\": \"EI\", \"primary_metric\": \"accuracy\", \"train_split\": \"0.3\", \"acquisition_parameter\": \"0\", \"num_cross_validation\": null, \"target\": \"capstone-automl\", \"AMLSettingsJsonString\": \"{\\\"path\\\":null,\\\"name\\\":\\\"imdb-automl\\\",\\\"subscription_id\\\":\\\"6b4af8be-9931-443e-90f6-c4c34a1f9737\\\",\\\"resource_group\\\":\\\"aml-quickstarts-142761\\\",\\\"workspace_name\\\":\\\"quick-starts-ws-142761\\\",\\\"region\\\":\\\"southcentralus\\\",\\\"compute_target\\\":\\\"capstone-automl\\\",\\\"spark_service\\\":null,\\\"azure_service\\\":\\\"remote\\\",\\\"many_models\\\":false,\\\"pipeline_fetch_max_batch_size\\\":1,\\\"enable_batch_run\\\":false,\\\"enable_run_restructure\\\":false,\\\"iterations\\\":1000,\\\"primary_metric\\\":\\\"accuracy\\\",\\\"task_type\\\":\\\"classification\\\",\\\"data_script\\\":null,\\\"test_size\\\":0.0,\\\"validation_size\\\":0.3,\\\"n_cross_validations\\\":null,\\\"y_min\\\":null,\\\"y_max\\\":null,\\\"num_classes\\\":null,\\\"featurization\\\":\\\"auto\\\",\\\"_ignore_package_version_incompatibilities\\\":false,\\\"is_timeseries\\\":false,\\\"max_cores_per_iteration\\\":-1,\\\"max_concurrent_iterations\\\":8,\\\"iteration_timeout_minutes\\\":null,\\\"mem_in_mb\\\":null,\\\"enforce_time_on_windows\\\":false,\\\"experiment_timeout_minutes\\\":20,\\\"experiment_exit_score\\\":null,\\\"whitelist_models\\\":null,\\\"blacklist_algos\\\":[\\\"LightGBM\\\",\\\"XGBoostClassifier\\\",\\\"TensorFlowLinearClassifier\\\",\\\"TensorFlowDNN\\\"],\\\"supported_models\\\":[\\\"SVM\\\",\\\"RandomForest\\\",\\\"GradientBoosting\\\",\\\"KNN\\\",\\\"DecisionTree\\\",\\\"TensorFlowDNN\\\",\\\"LogisticRegression\\\",\\\"LinearSVM\\\",\\\"ExtremeRandomTrees\\\",\\\"XGBoostClassifier\\\",\\\"AveragedPerceptronClassifier\\\",\\\"SGD\\\",\\\"LightGBM\\\",\\\"MultinomialNaiveBayes\\\",\\\"BernoulliNaiveBayes\\\",\\\"TensorFlowLinearClassifier\\\"],\\\"private_models\\\":[],\\\"auto_blacklist\\\":true,\\\"blacklist_samples_reached\\\":false,\\\"exclude_nan_labels\\\":true,\\\"verbosity\\\":20,\\\"_debug_log\\\":\\\"azureml_automl.log\\\",\\\"show_warnings\\\":false,\\\"model_explainability\\\":true,\\\"service_url\\\":null,\\\"sdk_url\\\":null,\\\"sdk_packages\\\":null,\\\"enable_onnx_compatible_models\\\":false,\\\"enable_split_onnx_featurizer_estimator_models\\\":false,\\\"vm_type\\\":\\\"STANDARD_NC6\\\",\\\"telemetry_verbosity\\\":20,\\\"send_telemetry\\\":true,\\\"enable_dnn\\\":true,\\\"scenario\\\":\\\"SDK-1.13.0\\\",\\\"environment_label\\\":null,\\\"save_mlflow\\\":false,\\\"force_text_dnn\\\":false,\\\"enable_feature_sweeping\\\":true,\\\"enable_early_stopping\\\":true,\\\"early_stopping_n_iters\\\":10,\\\"metrics\\\":null,\\\"enable_metric_confidence\\\":false,\\\"enable_ensembling\\\":false,\\\"enable_stack_ensembling\\\":false,\\\"ensemble_iterations\\\":15,\\\"enable_tf\\\":false,\\\"enable_subsampling\\\":null,\\\"subsample_seed\\\":null,\\\"enable_nimbusml\\\":false,\\\"enable_streaming\\\":false,\\\"force_streaming\\\":false,\\\"track_child_runs\\\":true,\\\"allowed_private_models\\\":[],\\\"label_column_name\\\":\\\"sentiment\\\",\\\"weight_column_name\\\":null,\\\"cv_split_column_names\\\":null,\\\"enable_local_managed\\\":false,\\\"_local_managed_run_id\\\":null,\\\"cost_mode\\\":1,\\\"lag_length\\\":0,\\\"metric_operation\\\":\\\"maximize\\\",\\\"preprocess\\\":true}\", \"DataPrepJsonString\": \"{\\\\\\\"training_data\\\\\\\": {\\\\\\\"datasetId\\\\\\\": \\\\\\\"9ec9f717-b745-4653-9b81-436d8a44912c\\\\\\\"}, \\\\\\\"datasets\\\\\\\": 0}\", \"EnableSubsampling\": null, \"runTemplate\": \"AutoML\", \"azureml.runsource\": \"automl\", \"display_task_type\": \"classification\", \"dependencies_versions\": \"{\\\"azureml-widgets\\\": \\\"1.26.0\\\", \\\"azureml-train\\\": \\\"1.26.0\\\", \\\"azureml-train-restclients-hyperdrive\\\": \\\"1.26.0\\\", \\\"azureml-train-core\\\": \\\"1.26.0\\\", \\\"azureml-train-automl\\\": \\\"1.26.0\\\", \\\"azureml-train-automl-runtime\\\": \\\"1.26.0\\\", \\\"azureml-train-automl-client\\\": \\\"1.26.0\\\", \\\"azureml-tensorboard\\\": \\\"1.26.0\\\", \\\"azureml-telemetry\\\": \\\"1.26.0\\\", \\\"azureml-sdk\\\": \\\"1.26.0\\\", \\\"azureml-samples\\\": \\\"0+unknown\\\", \\\"azureml-pipeline\\\": \\\"1.26.0\\\", \\\"azureml-pipeline-steps\\\": \\\"1.26.0\\\", \\\"azureml-pipeline-core\\\": \\\"1.26.0\\\", \\\"azureml-opendatasets\\\": \\\"1.26.0\\\", \\\"azureml-model-management-sdk\\\": \\\"1.0.1b6.post1\\\", \\\"azureml-mlflow\\\": \\\"1.26.0\\\", \\\"azureml-interpret\\\": \\\"1.26.0\\\", \\\"azureml-explain-model\\\": \\\"1.26.0\\\", \\\"azureml-defaults\\\": \\\"1.26.0\\\", \\\"azureml-dataset-runtime\\\": \\\"1.26.0\\\", \\\"azureml-dataprep\\\": \\\"2.13.2\\\", \\\"azureml-dataprep-rslex\\\": \\\"1.11.2\\\", \\\"azureml-dataprep-native\\\": \\\"32.0.0\\\", \\\"azureml-datadrift\\\": \\\"1.26.0\\\", \\\"azureml-core\\\": \\\"1.26.0\\\", \\\"azureml-contrib-services\\\": \\\"1.26.0\\\", \\\"azureml-contrib-server\\\": \\\"1.26.0\\\", \\\"azureml-contrib-reinforcementlearning\\\": \\\"1.26.0\\\", \\\"azureml-contrib-pipeline-steps\\\": \\\"1.26.0\\\", \\\"azureml-contrib-notebook\\\": \\\"1.26.0\\\", \\\"azureml-contrib-gbdt\\\": \\\"1.26.0\\\", \\\"azureml-contrib-fairness\\\": \\\"1.26.0\\\", \\\"azureml-contrib-dataset\\\": \\\"1.26.0\\\", \\\"azureml-cli-common\\\": \\\"1.26.0\\\", \\\"azureml-automl-runtime\\\": \\\"1.26.0\\\", \\\"azureml-automl-dnn-nlp\\\": \\\"1.26.0\\\", \\\"azureml-automl-core\\\": \\\"1.26.0\\\", \\\"azureml-accel-models\\\": \\\"1.26.0\\\"}\", \"_aml_system_scenario_identification\": \"Remote.Parent\", \"ClientType\": \"SDK\", \"environment_cpu_name\": \"AzureML-AutoML-DNN\", \"environment_cpu_label\": \"prod\", \"environment_gpu_name\": \"AzureML-AutoML-DNN-GPU\", \"environment_gpu_label\": \"prod\", \"root_attribution\": \"automl\", \"attribution\": \"AutoML\", \"Orchestrator\": \"AutoML\", \"CancelUri\": \"https://southcentralus.experiments.azureml.net/jasmine/v1.0/subscriptions/6b4af8be-9931-443e-90f6-c4c34a1f9737/resourceGroups/aml-quickstarts-142761/providers/Microsoft.MachineLearningServices/workspaces/quick-starts-ws-142761/experimentids/e701e931-dfbc-4287-8d97-2075d0aa5679/cancel/AutoML_1c07a841-cd90-4cc6-8c98-5b5708422cdf\", \"ClientSdkVersion\": \"1.25.0\", \"snapshotId\": \"00000000-0000-0000-0000-000000000000\", \"SetupRunId\": \"AutoML_1c07a841-cd90-4cc6-8c98-5b5708422cdf_setup\", \"SetupRunContainerId\": \"dcid.AutoML_1c07a841-cd90-4cc6-8c98-5b5708422cdf_setup\", \"FeaturizationRunJsonPath\": \"featurizer_container.json\", \"FeaturizationRunId\": \"AutoML_1c07a841-cd90-4cc6-8c98-5b5708422cdf_featurize\", \"ProblemInfoJsonString\": \"{\\\"dataset_num_categorical\\\": 0, \\\"is_sparse\\\": true, \\\"subsampling\\\": false, \\\"dataset_classes\\\": 2, \\\"dataset_features\\\": 139589, \\\"dataset_samples\\\": 24500, \\\"single_frequency_class_detected\\\": false}\", \"ModelExplainRunId\": \"AutoML_1c07a841-cd90-4cc6-8c98-5b5708422cdf_ModelExplain\"}, \"tags\": {\"model_explain_run\": \"best_run\", \"_aml_system_azureml.automlComponent\": \"AutoML\", \"is_gpu\": \"True\", \"pipeline_id\": \"\", \"score\": \"\", \"predicted_cost\": \"\", \"fit_time\": \"\", \"training_percent\": \"\", \"iteration\": \"\", \"run_preprocessor\": \"\", \"run_algorithm\": \"\", \"dynamic_whitelisting_iterations\": \"<24>;<29>;<35>;<40>;\", \"automl_best_child_run_id\": \"AutoML_1c07a841-cd90-4cc6-8c98-5b5708422cdf_20\", \"model_explain_best_run_child_id\": \"AutoML_1c07a841-cd90-4cc6-8c98-5b5708422cdf_20\"}, \"end_time_utc\": \"2021-04-15T13:02:35.919813Z\", \"status\": \"Completed\", \"log_files\": {}, \"log_groups\": [], \"run_duration\": \"0:35:26\", \"run_number\": \"2\", \"run_queued_details\": {\"status\": \"Completed\", \"details\": null}}, \"child_runs\": [{\"run_id\": \"AutoML_1c07a841-cd90-4cc6-8c98-5b5708422cdf_0\", \"run_number\": 6, \"metric\": null, \"status\": \"Completed\", \"run_type\": \"azureml.scriptrun\", \"training_percent\": \"100\", \"start_time\": \"2021-04-15T12:54:04.044342Z\", \"end_time\": \"2021-04-15T12:56:43.325477Z\", \"created_time\": \"2021-04-15T12:50:20.344876Z\", \"created_time_dt\": \"2021-04-15T12:50:20.344876Z\", \"duration\": \"0:06:22\", \"iteration\": \"0\", \"goal\": \"accuracy_max\", \"run_name\": \"MaxAbsScaler, RandomForest\", \"run_properties\": \"copy=True\", \"primary_metric\": 0.722, \"best_metric\": 0.722}, {\"run_id\": \"AutoML_1c07a841-cd90-4cc6-8c98-5b5708422cdf_6\", \"run_number\": 7, \"metric\": null, \"status\": \"Completed\", \"run_type\": \"azureml.scriptrun\", \"training_percent\": \"100\", \"start_time\": \"2021-04-15T12:53:59.052562Z\", \"end_time\": \"2021-04-15T12:56:43.643178Z\", \"created_time\": \"2021-04-15T12:50:20.448594Z\", \"created_time_dt\": \"2021-04-15T12:50:20.448594Z\", \"duration\": \"0:06:23\", \"iteration\": \"6\", \"goal\": \"accuracy_max\", \"run_name\": \"StandardScalerWrapper, RandomForest\", \"run_properties\": \"<azureml.automl.runtime.shared.model_wrappers.StandardScalerWrapper object at 0x7fc7e53454a8\", \"primary_metric\": 0.63952381, \"best_metric\": 0.81847619}, {\"run_id\": \"AutoML_1c07a841-cd90-4cc6-8c98-5b5708422cdf_3\", \"run_number\": 8, \"metric\": null, \"status\": \"Completed\", \"run_type\": \"azureml.scriptrun\", \"training_percent\": \"100\", \"start_time\": \"2021-04-15T12:51:30.398655Z\", \"end_time\": \"2021-04-15T12:52:23.49254Z\", \"created_time\": \"2021-04-15T12:50:20.47158Z\", \"created_time_dt\": \"2021-04-15T12:50:20.47158Z\", \"duration\": \"0:02:03\", \"iteration\": \"3\", \"goal\": \"accuracy_max\", \"run_name\": \"MaxAbsScaler, RandomForest\", \"run_properties\": \"copy=True\", \"primary_metric\": 0.72419048, \"best_metric\": 0.72419048}, {\"run_id\": \"AutoML_1c07a841-cd90-4cc6-8c98-5b5708422cdf_1\", \"run_number\": 9, \"metric\": null, \"status\": \"Completed\", \"run_type\": \"azureml.scriptrun\", \"training_percent\": \"100\", \"start_time\": \"2021-04-15T12:50:29.133379Z\", \"end_time\": \"2021-04-15T12:51:14.178647Z\", \"created_time\": \"2021-04-15T12:50:20.476432Z\", \"created_time_dt\": \"2021-04-15T12:50:20.476432Z\", \"duration\": \"0:00:53\", \"iteration\": \"1\", \"goal\": \"accuracy_max\", \"run_name\": \"MaxAbsScaler, RandomForest\", \"run_properties\": \"copy=True\", \"primary_metric\": 0.64009524, \"best_metric\": 0.722}, {\"run_id\": \"AutoML_1c07a841-cd90-4cc6-8c98-5b5708422cdf_2\", \"run_number\": 10, \"metric\": null, \"status\": \"Completed\", \"run_type\": \"azureml.scriptrun\", \"training_percent\": \"100\", \"start_time\": \"2021-04-15T12:53:59.021245Z\", \"end_time\": \"2021-04-15T12:56:43.871383Z\", \"created_time\": \"2021-04-15T12:50:20.482674Z\", \"created_time_dt\": \"2021-04-15T12:50:20.482674Z\", \"duration\": \"0:06:23\", \"iteration\": \"2\", \"goal\": \"accuracy_max\", \"run_name\": \"MaxAbsScaler, RandomForest\", \"run_properties\": \"copy=True\", \"primary_metric\": 0.55171429, \"best_metric\": 0.722}, {\"run_id\": \"AutoML_1c07a841-cd90-4cc6-8c98-5b5708422cdf_5\", \"run_number\": 11, \"metric\": null, \"status\": \"Canceled\", \"run_type\": \"azureml.scriptrun\", \"training_percent\": \"100\", \"start_time\": \"2021-04-15T12:52:36.044993Z\", \"end_time\": \"2021-04-15T13:02:30.688668Z\", \"created_time\": \"2021-04-15T12:50:20.53646Z\", \"created_time_dt\": \"2021-04-15T12:50:20.53646Z\", \"duration\": \"0:12:10\", \"iteration\": \"5\", \"goal\": null, \"run_name\": \"MaxAbsScaler, LogisticRegression\", \"run_properties\": null}, {\"run_id\": \"AutoML_1c07a841-cd90-4cc6-8c98-5b5708422cdf_7\", \"run_number\": 12, \"metric\": null, \"status\": \"Completed\", \"run_type\": \"azureml.scriptrun\", \"training_percent\": \"100\", \"start_time\": \"2021-04-15T12:53:59.700982Z\", \"end_time\": \"2021-04-15T12:56:44.51904Z\", \"created_time\": \"2021-04-15T12:50:20.505175Z\", \"created_time_dt\": \"2021-04-15T12:50:20.505175Z\", \"duration\": \"0:06:24\", \"iteration\": \"7\", \"goal\": \"accuracy_max\", \"run_name\": \"MaxAbsScaler, SGD\", \"run_properties\": \"copy=True\", \"primary_metric\": 0.79980952, \"best_metric\": 0.81847619}, {\"run_id\": \"AutoML_1c07a841-cd90-4cc6-8c98-5b5708422cdf_4\", \"run_number\": 13, \"metric\": null, \"status\": \"Completed\", \"run_type\": \"azureml.scriptrun\", \"training_percent\": \"100\", \"start_time\": \"2021-04-15T12:54:06.161081Z\", \"end_time\": \"2021-04-15T12:57:09.225584Z\", \"created_time\": \"2021-04-15T12:50:20.509371Z\", \"created_time_dt\": \"2021-04-15T12:50:20.509371Z\", \"duration\": \"0:06:48\", \"iteration\": \"4\", \"goal\": \"accuracy_max\", \"run_name\": \"SparseNormalizer, LogisticRegression\", \"run_properties\": \"<azureml.automl.runtime.shared.model_wrappers.SparseNormalizer object at 0x7f5d7034fef0\", \"primary_metric\": 0.81847619, \"best_metric\": 0.81847619}, {\"run_id\": \"AutoML_1c07a841-cd90-4cc6-8c98-5b5708422cdf_8\", \"run_number\": 14, \"metric\": null, \"status\": \"Completed\", \"run_type\": \"azureml.scriptrun\", \"training_percent\": \"100\", \"start_time\": \"2021-04-15T12:54:09.768052Z\", \"end_time\": \"2021-04-15T12:57:01.004481Z\", \"created_time\": \"2021-04-15T12:51:18.627152Z\", \"created_time_dt\": \"2021-04-15T12:51:18.627152Z\", \"duration\": \"0:05:42\", \"iteration\": \"8\", \"goal\": \"accuracy_max\", \"run_name\": \"MaxAbsScaler, ExtremeRandomTrees\", \"run_properties\": \"copy=True\", \"primary_metric\": 0.7052381, \"best_metric\": 0.81847619}, {\"run_id\": \"AutoML_1c07a841-cd90-4cc6-8c98-5b5708422cdf_9\", \"run_number\": 15, \"metric\": null, \"status\": \"Completed\", \"run_type\": \"azureml.scriptrun\", \"training_percent\": \"100\", \"start_time\": \"2021-04-15T12:54:12.364468Z\", \"end_time\": \"2021-04-15T12:56:54.840452Z\", \"created_time\": \"2021-04-15T12:52:26.740796Z\", \"created_time_dt\": \"2021-04-15T12:52:26.740796Z\", \"duration\": \"0:04:28\", \"iteration\": \"9\", \"goal\": \"accuracy_max\", \"run_name\": \"MaxAbsScaler, SGD\", \"run_properties\": \"copy=True\", \"primary_metric\": 0.81247619, \"best_metric\": 0.81847619}, {\"run_id\": \"AutoML_1c07a841-cd90-4cc6-8c98-5b5708422cdf_10\", \"run_number\": 16, \"metric\": null, \"status\": \"Completed\", \"run_type\": \"azureml.scriptrun\", \"training_percent\": \"100\", \"start_time\": \"2021-04-15T12:56:57.617193Z\", \"end_time\": \"2021-04-15T12:57:49.559868Z\", \"created_time\": \"2021-04-15T12:56:46.521655Z\", \"created_time_dt\": \"2021-04-15T12:56:46.521655Z\", \"duration\": \"0:01:03\", \"iteration\": \"10\", \"goal\": \"accuracy_max\", \"run_name\": \"SparseNormalizer, LogisticRegression\", \"run_properties\": \"<azureml.automl.runtime.shared.model_wrappers.SparseNormalizer object at 0x7f0d464a0668\", \"primary_metric\": 0.81666667, \"best_metric\": 0.81847619}, {\"run_id\": \"AutoML_1c07a841-cd90-4cc6-8c98-5b5708422cdf_12\", \"run_number\": 17, \"metric\": null, \"status\": \"Completed\", \"run_type\": \"azureml.scriptrun\", \"training_percent\": \"100\", \"start_time\": \"2021-04-15T12:56:57.668306Z\", \"end_time\": \"2021-04-15T12:57:49.559235Z\", \"created_time\": \"2021-04-15T12:56:46.669678Z\", \"created_time_dt\": \"2021-04-15T12:56:46.669678Z\", \"duration\": \"0:01:02\", \"iteration\": \"12\", \"goal\": \"accuracy_max\", \"run_name\": \"MaxAbsScaler, SGD\", \"run_properties\": \"copy=True\", \"primary_metric\": 0.82314286, \"best_metric\": 0.82314286}, {\"run_id\": \"AutoML_1c07a841-cd90-4cc6-8c98-5b5708422cdf_11\", \"run_number\": 18, \"metric\": null, \"status\": \"Completed\", \"run_type\": \"azureml.scriptrun\", \"training_percent\": \"100\", \"start_time\": \"2021-04-15T12:57:01.236028Z\", \"end_time\": \"2021-04-15T12:57:44.369987Z\", \"created_time\": \"2021-04-15T12:56:46.686158Z\", \"created_time_dt\": \"2021-04-15T12:56:46.686158Z\", \"duration\": \"0:00:57\", \"iteration\": \"11\", \"goal\": \"accuracy_max\", \"run_name\": \"StandardScalerWrapper, MultinomialNaiveBayes\", \"run_properties\": \"<azureml.automl.runtime.shared.model_wrappers.StandardScalerWrapper object at 0x7f8d24080160\", \"primary_metric\": 0.65657143, \"best_metric\": 0.81847619}, {\"run_id\": \"AutoML_1c07a841-cd90-4cc6-8c98-5b5708422cdf_13\", \"run_number\": 19, \"metric\": null, \"status\": \"Completed\", \"run_type\": \"azureml.scriptrun\", \"training_percent\": \"100\", \"start_time\": \"2021-04-15T12:57:02.436442Z\", \"end_time\": \"2021-04-15T12:58:00.563668Z\", \"created_time\": \"2021-04-15T12:56:51.70777Z\", \"created_time_dt\": \"2021-04-15T12:56:51.70777Z\", \"duration\": \"0:01:08\", \"iteration\": \"13\", \"goal\": \"accuracy_max\", \"run_name\": \"TruncatedSVDWrapper, LogisticRegression\", \"run_properties\": \"n_components=0.6531578947368422, random_state=None\", \"primary_metric\": 0.81752381, \"best_metric\": 0.82314286}, {\"run_id\": \"AutoML_1c07a841-cd90-4cc6-8c98-5b5708422cdf_14\", \"run_number\": 20, \"metric\": null, \"status\": \"Completed\", \"run_type\": \"azureml.scriptrun\", \"training_percent\": \"100\", \"start_time\": \"2021-04-15T12:57:10.049328Z\", \"end_time\": \"2021-04-15T12:58:14.778208Z\", \"created_time\": \"2021-04-15T12:56:56.836066Z\", \"created_time_dt\": \"2021-04-15T12:56:56.836066Z\", \"duration\": \"0:01:17\", \"iteration\": \"14\", \"goal\": \"accuracy_max\", \"run_name\": \"TruncatedSVDWrapper, LogisticRegression\", \"run_properties\": \"n_components=0.8015789473684211, random_state=None\", \"primary_metric\": 0.81695238, \"best_metric\": 0.82314286}, {\"run_id\": \"AutoML_1c07a841-cd90-4cc6-8c98-5b5708422cdf_15\", \"run_number\": 21, \"metric\": null, \"status\": \"Completed\", \"run_type\": \"azureml.scriptrun\", \"training_percent\": \"100\", \"start_time\": \"2021-04-15T12:57:14.274864Z\", \"end_time\": \"2021-04-15T12:58:25.385132Z\", \"created_time\": \"2021-04-15T12:57:03.471841Z\", \"created_time_dt\": \"2021-04-15T12:57:03.471841Z\", \"duration\": \"0:01:21\", \"iteration\": \"15\", \"goal\": \"accuracy_max\", \"run_name\": \"StandardScalerWrapper, RandomForest\", \"run_properties\": \"<azureml.automl.runtime.shared.model_wrappers.StandardScalerWrapper object at 0x7fcbec620b00\", \"primary_metric\": 0.67009524, \"best_metric\": 0.82314286}, {\"run_id\": \"AutoML_1c07a841-cd90-4cc6-8c98-5b5708422cdf_16\", \"run_number\": 22, \"metric\": null, \"status\": \"Completed\", \"run_type\": \"azureml.scriptrun\", \"training_percent\": \"100\", \"start_time\": \"2021-04-15T12:57:25.388755Z\", \"end_time\": \"2021-04-15T12:58:14.955517Z\", \"created_time\": \"2021-04-15T12:57:11.861025Z\", \"created_time_dt\": \"2021-04-15T12:57:11.861025Z\", \"duration\": \"0:01:03\", \"iteration\": \"16\", \"goal\": \"accuracy_max\", \"run_name\": \"StandardScalerWrapper, ExtremeRandomTrees\", \"run_properties\": \"<azureml.automl.runtime.shared.model_wrappers.StandardScalerWrapper object at 0x7f3e29fe9be0\", \"primary_metric\": 0.6907619, \"best_metric\": 0.82314286}, {\"run_id\": \"AutoML_1c07a841-cd90-4cc6-8c98-5b5708422cdf_17\", \"run_number\": 23, \"metric\": null, \"status\": \"Completed\", \"run_type\": \"azureml.scriptrun\", \"training_percent\": \"100\", \"start_time\": \"2021-04-15T12:57:59.651349Z\", \"end_time\": \"2021-04-15T12:58:59.427755Z\", \"created_time\": \"2021-04-15T12:57:46.714002Z\", \"created_time_dt\": \"2021-04-15T12:57:46.714002Z\", \"duration\": \"0:01:12\", \"iteration\": \"17\", \"goal\": \"accuracy_max\", \"run_name\": \"MaxAbsScaler, ExtremeRandomTrees\", \"run_properties\": \"copy=True\", \"primary_metric\": 0.70495238, \"best_metric\": 0.82314286}, {\"run_id\": \"AutoML_1c07a841-cd90-4cc6-8c98-5b5708422cdf_18\", \"run_number\": 24, \"metric\": null, \"status\": \"Completed\", \"run_type\": \"azureml.scriptrun\", \"training_percent\": \"100\", \"start_time\": \"2021-04-15T12:58:21.068319Z\", \"end_time\": \"2021-04-15T12:59:08.630168Z\", \"created_time\": \"2021-04-15T12:57:51.839629Z\", \"created_time_dt\": \"2021-04-15T12:57:51.839629Z\", \"duration\": \"0:01:16\", \"iteration\": \"18\", \"goal\": \"accuracy_max\", \"run_name\": \"StandardScalerWrapper, RandomForest\", \"run_properties\": \"<azureml.automl.runtime.shared.model_wrappers.StandardScalerWrapper object at 0x7f60f18f04a8\", \"primary_metric\": 0.71780952, \"best_metric\": 0.82314286}, {\"run_id\": \"AutoML_1c07a841-cd90-4cc6-8c98-5b5708422cdf_19\", \"run_number\": 25, \"metric\": null, \"status\": \"Completed\", \"run_type\": \"azureml.scriptrun\", \"training_percent\": \"100\", \"start_time\": \"2021-04-15T12:58:05.396055Z\", \"end_time\": \"2021-04-15T12:59:00.267346Z\", \"created_time\": \"2021-04-15T12:57:51.994769Z\", \"created_time_dt\": \"2021-04-15T12:57:51.994769Z\", \"duration\": \"0:01:08\", \"iteration\": \"19\", \"goal\": \"accuracy_max\", \"run_name\": \"SparseNormalizer, RandomForest\", \"run_properties\": \"<azureml.automl.runtime.shared.model_wrappers.SparseNormalizer object at 0x7f54fa803940\", \"primary_metric\": 0.61228571, \"best_metric\": 0.82314286}, {\"run_id\": \"AutoML_1c07a841-cd90-4cc6-8c98-5b5708422cdf_20\", \"run_number\": 26, \"metric\": null, \"status\": \"Completed\", \"run_type\": \"azureml.scriptrun\", \"training_percent\": \"100\", \"start_time\": \"2021-04-15T12:58:25.78976Z\", \"end_time\": \"2021-04-15T12:59:21.903802Z\", \"created_time\": \"2021-04-15T12:58:17.251497Z\", \"created_time_dt\": \"2021-04-15T12:58:17.251497Z\", \"duration\": \"0:01:04\", \"iteration\": \"20\", \"goal\": \"accuracy_max\", \"run_name\": \"StandardScalerWrapper, LogisticRegression\", \"run_properties\": \"<azureml.automl.runtime.shared.model_wrappers.StandardScalerWrapper object at 0x7f94726d5b70\", \"primary_metric\": 0.83695238, \"best_metric\": 0.83695238}, {\"run_id\": \"AutoML_1c07a841-cd90-4cc6-8c98-5b5708422cdf_21\", \"run_number\": 27, \"metric\": null, \"status\": \"Completed\", \"run_type\": \"azureml.scriptrun\", \"training_percent\": \"100\", \"start_time\": \"2021-04-15T12:58:30.694743Z\", \"end_time\": \"2021-04-15T12:59:29.748701Z\", \"created_time\": \"2021-04-15T12:58:17.261645Z\", \"created_time_dt\": \"2021-04-15T12:58:17.261645Z\", \"duration\": \"0:01:12\", \"iteration\": \"21\", \"goal\": \"accuracy_max\", \"run_name\": \"StandardScalerWrapper, RandomForest\", \"run_properties\": \"<azureml.automl.runtime.shared.model_wrappers.StandardScalerWrapper object at 0x7f9617978cf8\", \"primary_metric\": 0.71257143, \"best_metric\": 0.83695238}, {\"run_id\": \"AutoML_1c07a841-cd90-4cc6-8c98-5b5708422cdf_22\", \"run_number\": 28, \"metric\": null, \"status\": \"Completed\", \"run_type\": \"azureml.scriptrun\", \"training_percent\": \"100\", \"start_time\": \"2021-04-15T12:59:10.211428Z\", \"end_time\": \"2021-04-15T12:59:55.757121Z\", \"created_time\": \"2021-04-15T12:58:27.5545Z\", \"created_time_dt\": \"2021-04-15T12:58:27.5545Z\", \"duration\": \"0:01:28\", \"iteration\": \"22\", \"goal\": \"accuracy_max\", \"run_name\": \"MaxAbsScaler, ExtremeRandomTrees\", \"run_properties\": \"copy=True\", \"primary_metric\": 0.73571429, \"best_metric\": 0.83695238}, {\"run_id\": \"AutoML_1c07a841-cd90-4cc6-8c98-5b5708422cdf_23\", \"run_number\": 29, \"metric\": null, \"status\": \"Completed\", \"run_type\": \"azureml.scriptrun\", \"training_percent\": \"100\", \"start_time\": \"2021-04-15T12:59:03.179286Z\", \"end_time\": \"2021-04-15T12:59:55.187654Z\", \"created_time\": \"2021-04-15T12:58:48.245915Z\", \"created_time_dt\": \"2021-04-15T12:58:48.245915Z\", \"duration\": \"0:01:06\", \"iteration\": \"23\", \"goal\": \"accuracy_max\", \"run_name\": \"MaxAbsScaler, GradientBoosting\", \"run_properties\": \"copy=True\", \"primary_metric\": 0.73885714, \"best_metric\": 0.83695238}, {\"run_id\": \"AutoML_1c07a841-cd90-4cc6-8c98-5b5708422cdf_25\", \"run_number\": 30, \"metric\": null, \"status\": \"Completed\", \"run_type\": \"azureml.scriptrun\", \"training_percent\": \"100\", \"start_time\": \"2021-04-15T12:59:15.858058Z\", \"end_time\": \"2021-04-15T13:00:05.075643Z\", \"created_time\": \"2021-04-15T12:59:03.757159Z\", \"created_time_dt\": \"2021-04-15T12:59:03.757159Z\", \"duration\": \"0:01:01\", \"iteration\": \"25\", \"goal\": \"accuracy_max\", \"run_name\": \"MaxAbsScaler, ExtremeRandomTrees\", \"run_properties\": \"copy=True\", \"primary_metric\": 0.70942857, \"best_metric\": 0.83695238}, {\"run_id\": \"AutoML_1c07a841-cd90-4cc6-8c98-5b5708422cdf_24\", \"run_number\": 31, \"metric\": null, \"status\": \"Completed\", \"run_type\": \"azureml.scriptrun\", \"training_percent\": \"100\", \"start_time\": \"2021-04-15T12:59:14.429028Z\", \"end_time\": \"2021-04-15T12:59:59.354333Z\", \"created_time\": \"2021-04-15T12:59:03.832441Z\", \"created_time_dt\": \"2021-04-15T12:59:03.832441Z\", \"duration\": \"0:00:55\", \"iteration\": \"24\", \"goal\": \"accuracy_max\", \"run_name\": \"SparseNormalizer, SGD\", \"run_properties\": \"<azureml.automl.runtime.shared.model_wrappers.SparseNormalizer object at 0x7f3137907048\", \"primary_metric\": 0.49885714, \"best_metric\": 0.83695238}, {\"run_id\": \"AutoML_1c07a841-cd90-4cc6-8c98-5b5708422cdf_26\", \"run_number\": 32, \"metric\": null, \"status\": \"Completed\", \"run_type\": \"azureml.scriptrun\", \"training_percent\": \"100\", \"start_time\": \"2021-04-15T12:59:26.969121Z\", \"end_time\": \"2021-04-15T13:00:14.472076Z\", \"created_time\": \"2021-04-15T12:59:11.219376Z\", \"created_time_dt\": \"2021-04-15T12:59:11.219376Z\", \"duration\": \"0:01:03\", \"iteration\": \"26\", \"goal\": \"accuracy_max\", \"run_name\": \"StandardScalerWrapper, LogisticRegression\", \"run_properties\": \"<azureml.automl.runtime.shared.model_wrappers.StandardScalerWrapper object at 0x7f911053a9e8\", \"primary_metric\": 0.82847619, \"best_metric\": 0.83695238}, {\"run_id\": \"AutoML_1c07a841-cd90-4cc6-8c98-5b5708422cdf_27\", \"run_number\": 33, \"metric\": null, \"status\": \"Completed\", \"run_type\": \"azureml.scriptrun\", \"training_percent\": \"100\", \"start_time\": \"2021-04-15T12:59:38.723715Z\", \"end_time\": \"2021-04-15T13:00:22.735359Z\", \"created_time\": \"2021-04-15T12:59:24.138422Z\", \"created_time_dt\": \"2021-04-15T12:59:24.138422Z\", \"duration\": \"0:00:58\", \"iteration\": \"27\", \"goal\": \"accuracy_max\", \"run_name\": \"MaxAbsScaler, MultinomialNaiveBayes\", \"run_properties\": \"copy=True\", \"primary_metric\": 0.81666667, \"best_metric\": 0.83695238}, {\"run_id\": \"AutoML_1c07a841-cd90-4cc6-8c98-5b5708422cdf_28\", \"run_number\": 34, \"metric\": null, \"status\": \"Completed\", \"run_type\": \"azureml.scriptrun\", \"training_percent\": \"100\", \"start_time\": \"2021-04-15T12:59:47.372841Z\", \"end_time\": \"2021-04-15T13:01:24.938591Z\", \"created_time\": \"2021-04-15T12:59:32.092271Z\", \"created_time_dt\": \"2021-04-15T12:59:32.092271Z\", \"duration\": \"0:01:52\", \"iteration\": \"28\", \"goal\": \"accuracy_max\", \"run_name\": \"TruncatedSVDWrapper, LogisticRegression\", \"run_properties\": \"n_components=0.95, random_state=None\", \"primary_metric\": 0.81257143, \"best_metric\": 0.83695238}, {\"run_id\": \"AutoML_1c07a841-cd90-4cc6-8c98-5b5708422cdf_29\", \"run_number\": 35, \"metric\": null, \"status\": \"Completed\", \"run_type\": \"azureml.scriptrun\", \"training_percent\": \"100\", \"start_time\": \"2021-04-15T13:00:12.781726Z\", \"end_time\": \"2021-04-15T13:01:02.144795Z\", \"created_time\": \"2021-04-15T12:59:58.696503Z\", \"created_time_dt\": \"2021-04-15T12:59:58.696503Z\", \"duration\": \"0:01:03\", \"iteration\": \"29\", \"goal\": \"accuracy_max\", \"run_name\": \"SparseNormalizer, LogisticRegression\", \"run_properties\": \"<azureml.automl.runtime.shared.model_wrappers.SparseNormalizer object at 0x7f2e52716320\", \"primary_metric\": 0.60361905, \"best_metric\": 0.83695238}, {\"run_id\": \"AutoML_1c07a841-cd90-4cc6-8c98-5b5708422cdf_30\", \"run_number\": 36, \"metric\": null, \"status\": \"Completed\", \"run_type\": \"azureml.scriptrun\", \"training_percent\": \"100\", \"start_time\": \"2021-04-15T13:00:09.849644Z\", \"end_time\": \"2021-04-15T13:00:53.917055Z\", \"created_time\": \"2021-04-15T12:59:58.885443Z\", \"created_time_dt\": \"2021-04-15T12:59:58.885443Z\", \"duration\": \"0:00:55\", \"iteration\": \"30\", \"goal\": \"accuracy_max\", \"run_name\": \"MaxAbsScaler, LogisticRegression\", \"run_properties\": \"copy=True\", \"primary_metric\": 0.83371429, \"best_metric\": 0.83695238}, {\"run_id\": \"AutoML_1c07a841-cd90-4cc6-8c98-5b5708422cdf_31\", \"run_number\": 37, \"metric\": null, \"status\": \"Completed\", \"run_type\": \"azureml.scriptrun\", \"training_percent\": \"100\", \"start_time\": \"2021-04-15T13:00:16.81552Z\", \"end_time\": \"2021-04-15T13:01:17.494618Z\", \"created_time\": \"2021-04-15T13:00:04.163888Z\", \"created_time_dt\": \"2021-04-15T13:00:04.163888Z\", \"duration\": \"0:01:13\", \"iteration\": \"31\", \"goal\": \"accuracy_max\", \"run_name\": \"TruncatedSVDWrapper, LogisticRegression\", \"run_properties\": \"n_components=0.9005263157894737, random_state=None\", \"primary_metric\": 0.77580952, \"best_metric\": 0.83695238}, {\"run_id\": \"AutoML_1c07a841-cd90-4cc6-8c98-5b5708422cdf_32\", \"run_number\": 38, \"metric\": null, \"status\": \"Completed\", \"run_type\": \"azureml.scriptrun\", \"training_percent\": \"100\", \"start_time\": \"2021-04-15T13:00:41.514865Z\", \"end_time\": \"2021-04-15T13:01:51.141501Z\", \"created_time\": \"2021-04-15T13:00:30.032603Z\", \"created_time_dt\": \"2021-04-15T13:00:30.032603Z\", \"duration\": \"0:01:21\", \"iteration\": \"32\", \"goal\": \"accuracy_max\", \"run_name\": \"TruncatedSVDWrapper, LogisticRegression\", \"run_properties\": \"n_components=0.6036842105263158, random_state=None\", \"primary_metric\": 0.8167619, \"best_metric\": 0.83695238}, {\"run_id\": \"AutoML_1c07a841-cd90-4cc6-8c98-5b5708422cdf_33\", \"run_number\": 39, \"metric\": null, \"status\": \"Completed\", \"run_type\": \"azureml.scriptrun\", \"training_percent\": \"100\", \"start_time\": \"2021-04-15T13:00:42.88613Z\", \"end_time\": \"2021-04-15T13:01:44.854162Z\", \"created_time\": \"2021-04-15T13:00:34.857619Z\", \"created_time_dt\": \"2021-04-15T13:00:34.857619Z\", \"duration\": \"0:01:09\", \"iteration\": \"33\", \"goal\": \"accuracy_max\", \"run_name\": \"SparseNormalizer, LogisticRegression\", \"run_properties\": \"<azureml.automl.runtime.shared.model_wrappers.SparseNormalizer object at 0x7f0c8cb7e898\", \"primary_metric\": 0.82333333, \"best_metric\": 0.83695238}, {\"run_id\": \"AutoML_1c07a841-cd90-4cc6-8c98-5b5708422cdf_34\", \"run_number\": 40, \"metric\": null, \"status\": \"Completed\", \"run_type\": \"azureml.scriptrun\", \"training_percent\": \"100\", \"start_time\": \"2021-04-15T13:00:42.93374Z\", \"end_time\": \"2021-04-15T13:01:38.821694Z\", \"created_time\": \"2021-04-15T13:00:34.957747Z\", \"created_time_dt\": \"2021-04-15T13:00:34.957747Z\", \"duration\": \"0:01:03\", \"iteration\": \"34\", \"goal\": \"accuracy_max\", \"run_name\": \"StandardScalerWrapper, LogisticRegression\", \"run_properties\": \"<azureml.automl.runtime.shared.model_wrappers.StandardScalerWrapper object at 0x7f41dc9f6518\", \"primary_metric\": 0.82409524, \"best_metric\": 0.83695238}, {\"run_id\": \"AutoML_1c07a841-cd90-4cc6-8c98-5b5708422cdf_35\", \"run_number\": 41, \"metric\": null, \"status\": \"Completed\", \"run_type\": \"azureml.scriptrun\", \"training_percent\": \"100\", \"start_time\": \"2021-04-15T13:01:09.601186Z\", \"end_time\": \"2021-04-15T13:01:58.271369Z\", \"created_time\": \"2021-04-15T13:00:57.327381Z\", \"created_time_dt\": \"2021-04-15T13:00:57.327381Z\", \"duration\": \"0:01:00\", \"iteration\": \"35\", \"goal\": \"accuracy_max\", \"run_name\": \"SparseNormalizer, LogisticRegression\", \"run_properties\": \"<azureml.automl.runtime.shared.model_wrappers.SparseNormalizer object at 0x7fcdefb358d0\", \"primary_metric\": 0.51066667, \"best_metric\": 0.83695238}, {\"run_id\": \"AutoML_1c07a841-cd90-4cc6-8c98-5b5708422cdf_36\", \"run_number\": 42, \"metric\": null, \"status\": \"Completed\", \"run_type\": \"azureml.scriptrun\", \"training_percent\": \"100\", \"start_time\": \"2021-04-15T13:01:19.112013Z\", \"end_time\": \"2021-04-15T13:02:11.468443Z\", \"created_time\": \"2021-04-15T13:01:04.747692Z\", \"created_time_dt\": \"2021-04-15T13:01:04.747692Z\", \"duration\": \"0:01:06\", \"iteration\": \"36\", \"goal\": \"accuracy_max\", \"run_name\": \"SparseNormalizer, ExtremeRandomTrees\", \"run_properties\": \"<azureml.automl.runtime.shared.model_wrappers.SparseNormalizer object at 0x7fc035b55fd0\", \"primary_metric\": 0.67495238, \"best_metric\": 0.83695238}, {\"run_id\": \"AutoML_1c07a841-cd90-4cc6-8c98-5b5708422cdf_37\", \"run_number\": 43, \"metric\": null, \"status\": \"Completed\", \"run_type\": \"azureml.scriptrun\", \"training_percent\": \"100\", \"start_time\": \"2021-04-15T13:01:34.477804Z\", \"end_time\": \"2021-04-15T13:02:23.216544Z\", \"created_time\": \"2021-04-15T13:01:20.715976Z\", \"created_time_dt\": \"2021-04-15T13:01:20.715976Z\", \"duration\": \"0:01:02\", \"iteration\": \"37\", \"goal\": \"accuracy_max\", \"run_name\": \"StandardScalerWrapper, RandomForest\", \"run_properties\": \"<azureml.automl.runtime.shared.model_wrappers.StandardScalerWrapper object at 0x7f5bb2820cf8\", \"primary_metric\": 0.50114286, \"best_metric\": 0.83695238}, {\"run_id\": \"AutoML_1c07a841-cd90-4cc6-8c98-5b5708422cdf_38\", \"run_number\": 44, \"metric\": null, \"status\": \"Canceled\", \"run_type\": \"azureml.scriptrun\", \"training_percent\": \"100\", \"start_time\": \"2021-04-15T13:01:40.035003Z\", \"end_time\": \"2021-04-15T13:02:30.47235Z\", \"created_time\": \"2021-04-15T13:01:27.426621Z\", \"created_time_dt\": \"2021-04-15T13:01:27.426621Z\", \"duration\": \"0:01:03\", \"iteration\": \"38\", \"goal\": null, \"run_name\": \"SparseNormalizer, LogisticRegression\", \"run_properties\": null}, {\"run_id\": \"AutoML_1c07a841-cd90-4cc6-8c98-5b5708422cdf_39\", \"run_number\": 45, \"metric\": null, \"status\": \"Canceled\", \"run_type\": \"azureml.scriptrun\", \"training_percent\": \"100\", \"start_time\": \"2021-04-15T13:01:54.158445Z\", \"end_time\": \"2021-04-15T13:02:30.422009Z\", \"created_time\": \"2021-04-15T13:01:41.41604Z\", \"created_time_dt\": \"2021-04-15T13:01:41.41604Z\", \"duration\": \"0:00:49\", \"iteration\": \"39\", \"goal\": \"accuracy_max\", \"run_name\": \"MaxAbsScaler, ExtremeRandomTrees\", \"run_properties\": \"copy=True\", \"primary_metric\": 0.68104762, \"best_metric\": 0.83695238}, {\"run_id\": \"AutoML_1c07a841-cd90-4cc6-8c98-5b5708422cdf_40\", \"run_number\": 46, \"metric\": null, \"status\": \"Canceled\", \"run_type\": \"azureml.scriptrun\", \"training_percent\": \"100\", \"start_time\": \"2021-04-15T13:02:02.64655Z\", \"end_time\": \"2021-04-15T13:02:31.012763Z\", \"created_time\": \"2021-04-15T13:01:48.225881Z\", \"created_time_dt\": \"2021-04-15T13:01:48.225881Z\", \"duration\": \"0:00:42\", \"iteration\": \"40\", \"goal\": null, \"run_name\": \"TruncatedSVDWrapper, LogisticRegression\", \"run_properties\": null}, {\"run_id\": \"AutoML_1c07a841-cd90-4cc6-8c98-5b5708422cdf_41\", \"run_number\": 47, \"metric\": null, \"status\": \"Canceled\", \"run_type\": \"azureml.scriptrun\", \"training_percent\": \"100\", \"start_time\": \"2021-04-15T13:02:05.695954Z\", \"end_time\": \"2021-04-15T13:02:30.868713Z\", \"created_time\": \"2021-04-15T13:01:53.704784Z\", \"created_time_dt\": \"2021-04-15T13:01:53.704784Z\", \"duration\": \"0:00:37\", \"iteration\": \"41\", \"goal\": null, \"run_name\": \"StandardScalerWrapper, LogisticRegression\", \"run_properties\": null}, {\"run_id\": \"AutoML_1c07a841-cd90-4cc6-8c98-5b5708422cdf_42\", \"run_number\": 48, \"metric\": null, \"status\": \"Canceled\", \"run_type\": \"azureml.scriptrun\", \"training_percent\": \"100\", \"start_time\": \"2021-04-15T13:02:13.176714Z\", \"end_time\": \"2021-04-15T13:02:30.897041Z\", \"created_time\": \"2021-04-15T13:02:00.880631Z\", \"created_time_dt\": \"2021-04-15T13:02:00.880631Z\", \"duration\": \"0:00:30\", \"iteration\": \"42\", \"goal\": null, \"run_name\": \"Canceled\", \"run_properties\": null}, {\"run_id\": \"AutoML_1c07a841-cd90-4cc6-8c98-5b5708422cdf_43\", \"run_number\": 49, \"metric\": null, \"status\": \"Canceled\", \"run_type\": \"azureml.scriptrun\", \"training_percent\": \"100\", \"start_time\": \"2021-04-15T13:02:24.811676Z\", \"end_time\": \"2021-04-15T13:02:30.775298Z\", \"created_time\": \"2021-04-15T13:02:14.072408Z\", \"created_time_dt\": \"2021-04-15T13:02:14.072408Z\", \"duration\": \"0:00:16\", \"iteration\": \"43\", \"goal\": null, \"run_name\": \"Canceled\", \"run_properties\": null}], \"children_metrics\": {\"categories\": [0], \"series\": {\"norm_macro_recall\": [{\"categories\": [\"0\", \"1\", \"2\", \"3\", \"4\", \"6\", \"7\", \"8\", \"9\", \"10\", \"11\", \"12\", \"13\", \"14\", \"15\", \"16\", \"17\", \"18\", \"19\", \"20\", \"21\", \"22\", \"23\", \"24\", \"25\", \"26\", \"27\", \"28\", \"29\", \"30\", \"31\", \"32\", \"33\", \"34\", \"35\", \"36\", \"37\", \"39\"], \"mode\": \"markers\", \"name\": \"norm_macro_recall\", \"stepped\": false, \"type\": \"scatter\", \"data\": [0.44397140795946477, 0.27973435942849, 0.1026432573470859, 0.44816212373136755, 0.6369165248427966, 0.2779758740508249, 0.5997179631523517, 0.4101156664546384, 0.6249099315022271, 0.6332813493882745, 0.31323330995361953, 0.6462216074707112, 0.6350013039523907, 0.6338584408386567, 0.3396523867553267, 0.381232794467933, 0.4096186842663232, 0.43523949839411413, 0.22408019111283517, 0.6738534253022492, 0.4250188191459394, 0.4710344064926817, 0.4774581679447141, 0.0, 0.41870390179997674, 0.6569013911582884, 0.6333396898291279, 0.6251086808399107, 0.2055089920469788, 0.6673824255081822, 0.5515662013798819, 0.6334800987259579, 0.6466173646403812, 0.6481420528782083, 0.019096480721749742, 0.34991224988168645, 0.0, 0.3616613180672945]}, {\"categories\": [\"0\", \"1\", \"2\", \"3\", \"4\", \"6\", \"7\", \"8\", \"9\", \"10\", \"11\", \"12\", \"13\", \"14\", \"15\", \"16\", \"17\", \"18\", \"19\", \"20\", \"21\", \"22\", \"23\", \"24\", \"25\", \"26\", \"27\", \"28\", \"29\", \"30\", \"31\", \"32\", \"33\", \"34\", \"35\", \"36\", \"37\", \"39\"], \"mode\": \"lines\", \"name\": \"norm_macro_recall_max\", \"stepped\": true, \"type\": \"scatter\", \"data\": [0.44397140795946477, 0.44397140795946477, 0.44397140795946477, 0.44816212373136755, 0.6369165248427966, 0.6369165248427966, 0.6369165248427966, 0.6369165248427966, 0.6369165248427966, 0.6369165248427966, 0.6369165248427966, 0.6462216074707112, 0.6462216074707112, 0.6462216074707112, 0.6462216074707112, 0.6462216074707112, 0.6462216074707112, 0.6462216074707112, 0.6462216074707112, 0.6738534253022492, 0.6738534253022492, 0.6738534253022492, 0.6738534253022492, 0.6738534253022492, 0.6738534253022492, 0.6738534253022492, 0.6738534253022492, 0.6738534253022492, 0.6738534253022492, 0.6738534253022492, 0.6738534253022492, 0.6738534253022492, 0.6738534253022492, 0.6738534253022492, 0.6738534253022492, 0.6738534253022492, 0.6738534253022492, 0.6738534253022492]}], \"recall_score_macro\": [{\"categories\": [\"0\", \"1\", \"2\", \"3\", \"4\", \"6\", \"7\", \"8\", \"9\", \"10\", \"11\", \"12\", \"13\", \"14\", \"15\", \"16\", \"17\", \"18\", \"19\", \"20\", \"21\", \"22\", \"23\", \"24\", \"25\", \"26\", \"27\", \"28\", \"29\", \"30\", \"31\", \"32\", \"33\", \"34\", \"35\", \"36\", \"37\", \"39\"], \"mode\": \"markers\", \"name\": \"recall_score_macro\", \"stepped\": false, \"type\": \"scatter\", \"data\": [0.7219857039797324, 0.639867179714245, 0.551321628673543, 0.7240810618656838, 0.8184582624213983, 0.6389879370254125, 0.7998589815761759, 0.7050578332273192, 0.8124549657511135, 0.8166406746941373, 0.6566166549768098, 0.8231108037353556, 0.8175006519761954, 0.8169292204193284, 0.6698261933776634, 0.6906163972339665, 0.7048093421331616, 0.7176197491970571, 0.6120400955564176, 0.8369267126511246, 0.7125094095729697, 0.7355172032463408, 0.738729083972357, 0.5, 0.7093519508999884, 0.8284506955791442, 0.816669844914564, 0.8125543404199553, 0.6027544960234894, 0.8336912127540911, 0.7757831006899409, 0.816740049362979, 0.8233086823201906, 0.8240710264391041, 0.5095482403608749, 0.6749561249408432, 0.5, 0.6808306590336473]}, {\"categories\": [\"0\", \"1\", \"2\", \"3\", \"4\", \"6\", \"7\", \"8\", \"9\", \"10\", \"11\", \"12\", \"13\", \"14\", \"15\", \"16\", \"17\", \"18\", \"19\", \"20\", \"21\", \"22\", \"23\", \"24\", \"25\", \"26\", \"27\", \"28\", \"29\", \"30\", \"31\", \"32\", \"33\", \"34\", \"35\", \"36\", \"37\", \"39\"], \"mode\": \"lines\", \"name\": \"recall_score_macro_max\", \"stepped\": true, \"type\": \"scatter\", \"data\": [0.7219857039797324, 0.7219857039797324, 0.7219857039797324, 0.7240810618656838, 0.8184582624213983, 0.8184582624213983, 0.8184582624213983, 0.8184582624213983, 0.8184582624213983, 0.8184582624213983, 0.8184582624213983, 0.8231108037353556, 0.8231108037353556, 0.8231108037353556, 0.8231108037353556, 0.8231108037353556, 0.8231108037353556, 0.8231108037353556, 0.8231108037353556, 0.8369267126511246, 0.8369267126511246, 0.8369267126511246, 0.8369267126511246, 0.8369267126511246, 0.8369267126511246, 0.8369267126511246, 0.8369267126511246, 0.8369267126511246, 0.8369267126511246, 0.8369267126511246, 0.8369267126511246, 0.8369267126511246, 0.8369267126511246, 0.8369267126511246, 0.8369267126511246, 0.8369267126511246, 0.8369267126511246, 0.8369267126511246]}], \"f1_score_micro\": [{\"categories\": [\"0\", \"1\", \"2\", \"3\", \"4\", \"6\", \"7\", \"8\", \"9\", \"10\", \"11\", \"12\", \"13\", \"14\", \"15\", \"16\", \"17\", \"18\", \"19\", \"20\", \"21\", \"22\", \"23\", \"24\", \"25\", \"26\", \"27\", \"28\", \"29\", \"30\", \"31\", \"32\", \"33\", \"34\", \"35\", \"36\", \"37\", \"39\"], \"mode\": \"markers\", \"name\": \"f1_score_micro\", \"stepped\": false, \"type\": \"scatter\", \"data\": [0.722, 0.640095238095238, 0.5517142857142857, 0.7241904761904762, 0.8184761904761904, 0.6395238095238095, 0.7998095238095237, 0.7052380952380952, 0.8124761904761905, 0.8166666666666667, 0.6565714285714286, 0.8231428571428572, 0.8175238095238095, 0.816952380952381, 0.6700952380952381, 0.6907619047619048, 0.704952380952381, 0.7178095238095238, 0.6122857142857143, 0.836952380952381, 0.7125714285714285, 0.7357142857142858, 0.738857142857143, 0.49885714285714283, 0.7094285714285714, 0.8284761904761904, 0.8166666666666667, 0.8125714285714286, 0.6036190476190476, 0.8337142857142857, 0.7758095238095238, 0.8167619047619048, 0.8233333333333334, 0.824095238095238, 0.5106666666666667, 0.674952380952381, 0.5011428571428571, 0.681047619047619]}, {\"categories\": [\"0\", \"1\", \"2\", \"3\", \"4\", \"6\", \"7\", \"8\", \"9\", \"10\", \"11\", \"12\", \"13\", \"14\", \"15\", \"16\", \"17\", \"18\", \"19\", \"20\", \"21\", \"22\", \"23\", \"24\", \"25\", \"26\", \"27\", \"28\", \"29\", \"30\", \"31\", \"32\", \"33\", \"34\", \"35\", \"36\", \"37\", \"39\"], \"mode\": \"lines\", \"name\": \"f1_score_micro_max\", \"stepped\": true, \"type\": \"scatter\", \"data\": [0.722, 0.722, 0.722, 0.7241904761904762, 0.8184761904761904, 0.8184761904761904, 0.8184761904761904, 0.8184761904761904, 0.8184761904761904, 0.8184761904761904, 0.8184761904761904, 0.8231428571428572, 0.8231428571428572, 0.8231428571428572, 0.8231428571428572, 0.8231428571428572, 0.8231428571428572, 0.8231428571428572, 0.8231428571428572, 0.836952380952381, 0.836952380952381, 0.836952380952381, 0.836952380952381, 0.836952380952381, 0.836952380952381, 0.836952380952381, 0.836952380952381, 0.836952380952381, 0.836952380952381, 0.836952380952381, 0.836952380952381, 0.836952380952381, 0.836952380952381, 0.836952380952381, 0.836952380952381, 0.836952380952381, 0.836952380952381, 0.836952380952381]}], \"precision_score_micro\": [{\"categories\": [\"0\", \"1\", \"2\", \"3\", \"4\", \"6\", \"7\", \"8\", \"9\", \"10\", \"11\", \"12\", \"13\", \"14\", \"15\", \"16\", \"17\", \"18\", \"19\", \"20\", \"21\", \"22\", \"23\", \"24\", \"25\", \"26\", \"27\", \"28\", \"29\", \"30\", \"31\", \"32\", \"33\", \"34\", \"35\", \"36\", \"37\", \"39\"], \"mode\": \"markers\", \"name\": \"precision_score_micro\", \"stepped\": false, \"type\": \"scatter\", \"data\": [0.722, 0.640095238095238, 0.5517142857142857, 0.7241904761904762, 0.8184761904761905, 0.6395238095238095, 0.7998095238095239, 0.7052380952380952, 0.8124761904761905, 0.8166666666666667, 0.6565714285714286, 0.8231428571428572, 0.8175238095238095, 0.816952380952381, 0.6700952380952381, 0.6907619047619048, 0.704952380952381, 0.7178095238095238, 0.6122857142857143, 0.836952380952381, 0.7125714285714285, 0.7357142857142858, 0.7388571428571429, 0.49885714285714283, 0.7094285714285714, 0.8284761904761905, 0.8166666666666667, 0.8125714285714286, 0.6036190476190476, 0.8337142857142857, 0.7758095238095238, 0.8167619047619048, 0.8233333333333334, 0.8240952380952381, 0.5106666666666667, 0.674952380952381, 0.5011428571428571, 0.681047619047619]}, {\"categories\": [\"0\", \"1\", \"2\", \"3\", \"4\", \"6\", \"7\", \"8\", \"9\", \"10\", \"11\", \"12\", \"13\", \"14\", \"15\", \"16\", \"17\", \"18\", \"19\", \"20\", \"21\", \"22\", \"23\", \"24\", \"25\", \"26\", \"27\", \"28\", \"29\", \"30\", \"31\", \"32\", \"33\", \"34\", \"35\", \"36\", \"37\", \"39\"], \"mode\": \"lines\", \"name\": \"precision_score_micro_max\", \"stepped\": true, \"type\": \"scatter\", \"data\": [0.722, 0.722, 0.722, 0.7241904761904762, 0.8184761904761905, 0.8184761904761905, 0.8184761904761905, 0.8184761904761905, 0.8184761904761905, 0.8184761904761905, 0.8184761904761905, 0.8231428571428572, 0.8231428571428572, 0.8231428571428572, 0.8231428571428572, 0.8231428571428572, 0.8231428571428572, 0.8231428571428572, 0.8231428571428572, 0.836952380952381, 0.836952380952381, 0.836952380952381, 0.836952380952381, 0.836952380952381, 0.836952380952381, 0.836952380952381, 0.836952380952381, 0.836952380952381, 0.836952380952381, 0.836952380952381, 0.836952380952381, 0.836952380952381, 0.836952380952381, 0.836952380952381, 0.836952380952381, 0.836952380952381, 0.836952380952381, 0.836952380952381]}], \"recall_score_micro\": [{\"categories\": [\"0\", \"1\", \"2\", \"3\", \"4\", \"6\", \"7\", \"8\", \"9\", \"10\", \"11\", \"12\", \"13\", \"14\", \"15\", \"16\", \"17\", \"18\", \"19\", \"20\", \"21\", \"22\", \"23\", \"24\", \"25\", \"26\", \"27\", \"28\", \"29\", \"30\", \"31\", \"32\", \"33\", \"34\", \"35\", \"36\", \"37\", \"39\"], \"mode\": \"markers\", \"name\": \"recall_score_micro\", \"stepped\": false, \"type\": \"scatter\", \"data\": [0.722, 0.640095238095238, 0.5517142857142857, 0.7241904761904762, 0.8184761904761905, 0.6395238095238095, 0.7998095238095239, 0.7052380952380952, 0.8124761904761905, 0.8166666666666667, 0.6565714285714286, 0.8231428571428572, 0.8175238095238095, 0.816952380952381, 0.6700952380952381, 0.6907619047619048, 0.704952380952381, 0.7178095238095238, 0.6122857142857143, 0.836952380952381, 0.7125714285714285, 0.7357142857142858, 0.7388571428571429, 0.49885714285714283, 0.7094285714285714, 0.8284761904761905, 0.8166666666666667, 0.8125714285714286, 0.6036190476190476, 0.8337142857142857, 0.7758095238095238, 0.8167619047619048, 0.8233333333333334, 0.8240952380952381, 0.5106666666666667, 0.674952380952381, 0.5011428571428571, 0.681047619047619]}, {\"categories\": [\"0\", \"1\", \"2\", \"3\", \"4\", \"6\", \"7\", \"8\", \"9\", \"10\", \"11\", \"12\", \"13\", \"14\", \"15\", \"16\", \"17\", \"18\", \"19\", \"20\", \"21\", \"22\", \"23\", \"24\", \"25\", \"26\", \"27\", \"28\", \"29\", \"30\", \"31\", \"32\", \"33\", \"34\", \"35\", \"36\", \"37\", \"39\"], \"mode\": \"lines\", \"name\": \"recall_score_micro_max\", \"stepped\": true, \"type\": \"scatter\", \"data\": [0.722, 0.722, 0.722, 0.7241904761904762, 0.8184761904761905, 0.8184761904761905, 0.8184761904761905, 0.8184761904761905, 0.8184761904761905, 0.8184761904761905, 0.8184761904761905, 0.8231428571428572, 0.8231428571428572, 0.8231428571428572, 0.8231428571428572, 0.8231428571428572, 0.8231428571428572, 0.8231428571428572, 0.8231428571428572, 0.836952380952381, 0.836952380952381, 0.836952380952381, 0.836952380952381, 0.836952380952381, 0.836952380952381, 0.836952380952381, 0.836952380952381, 0.836952380952381, 0.836952380952381, 0.836952380952381, 0.836952380952381, 0.836952380952381, 0.836952380952381, 0.836952380952381, 0.836952380952381, 0.836952380952381, 0.836952380952381, 0.836952380952381]}], \"log_loss\": [{\"categories\": [\"0\", \"1\", \"2\", \"3\", \"4\", \"6\", \"7\", \"8\", \"9\", \"10\", \"11\", \"12\", \"13\", \"14\", \"15\", \"16\", \"17\", \"18\", \"19\", \"20\", \"21\", \"22\", \"23\", \"24\", \"25\", \"26\", \"27\", \"28\", \"29\", \"30\", \"31\", \"32\", \"33\", \"34\", \"35\", \"36\", \"37\", \"39\"], \"mode\": \"markers\", \"name\": \"log_loss\", \"stepped\": false, \"type\": \"scatter\", \"data\": [0.6408211968872971, 0.6752570892662353, 0.6923369120303429, 0.6351044211263007, 0.7761937779468587, 0.6399814241166095, 0.427975307843334, 0.6121400398160641, 1.0018517571194552, 0.7297048012102154, 11.747174467384172, 0.7536517816920735, 0.4026311943626924, 0.40174586224809755, 0.6097219816754317, 0.639255802325798, 0.6050808822184895, 0.5936135098097016, 0.6880623702472124, 0.37396157493000287, 0.6396461226365311, 0.5657265116850793, 0.5624289075659493, 0.6931471805599453, 0.6441603804396896, 0.41725538731483636, 0.7933616874048423, 0.4450997777986897, 0.6920060464722075, 0.38255584280839583, 0.6331015761089183, 0.401531080807071, 0.5012114979003667, 0.4318543497405862, 0.692636784203743, 0.6782530798437861, 0.6931466068672514, 0.6342645840965969]}, {\"categories\": [\"0\", \"1\", \"2\", \"3\", \"4\", \"6\", \"7\", \"8\", \"9\", \"10\", \"11\", \"12\", \"13\", \"14\", \"15\", \"16\", \"17\", \"18\", \"19\", \"20\", \"21\", \"22\", \"23\", \"24\", \"25\", \"26\", \"27\", \"28\", \"29\", \"30\", \"31\", \"32\", \"33\", \"34\", \"35\", \"36\", \"37\", \"39\"], \"mode\": \"lines\", \"name\": \"log_loss_min\", \"stepped\": true, \"type\": \"scatter\", \"data\": [0.6408211968872971, 0.6408211968872971, 0.6408211968872971, 0.6351044211263007, 0.6351044211263007, 0.6351044211263007, 0.427975307843334, 0.427975307843334, 0.427975307843334, 0.427975307843334, 0.427975307843334, 0.427975307843334, 0.4026311943626924, 0.40174586224809755, 0.40174586224809755, 0.40174586224809755, 0.40174586224809755, 0.40174586224809755, 0.40174586224809755, 0.37396157493000287, 0.37396157493000287, 0.37396157493000287, 0.37396157493000287, 0.37396157493000287, 0.37396157493000287, 0.37396157493000287, 0.37396157493000287, 0.37396157493000287, 0.37396157493000287, 0.37396157493000287, 0.37396157493000287, 0.37396157493000287, 0.37396157493000287, 0.37396157493000287, 0.37396157493000287, 0.37396157493000287, 0.37396157493000287, 0.37396157493000287]}], \"accuracy\": [{\"categories\": [\"0\", \"1\", \"2\", \"3\", \"4\", \"6\", \"7\", \"8\", \"9\", \"10\", \"11\", \"12\", \"13\", \"14\", \"15\", \"16\", \"17\", \"18\", \"19\", \"20\", \"21\", \"22\", \"23\", \"24\", \"25\", \"26\", \"27\", \"28\", \"29\", \"30\", \"31\", \"32\", \"33\", \"34\", \"35\", \"36\", \"37\", \"39\"], \"mode\": \"markers\", \"name\": \"accuracy\", \"stepped\": false, \"type\": \"scatter\", \"data\": [0.722, 0.640095238095238, 0.5517142857142857, 0.7241904761904762, 0.8184761904761905, 0.6395238095238095, 0.7998095238095239, 0.7052380952380952, 0.8124761904761905, 0.8166666666666667, 0.6565714285714286, 0.8231428571428572, 0.8175238095238095, 0.816952380952381, 0.6700952380952381, 0.6907619047619048, 0.704952380952381, 0.7178095238095238, 0.6122857142857143, 0.836952380952381, 0.7125714285714285, 0.7357142857142858, 0.7388571428571429, 0.49885714285714283, 0.7094285714285714, 0.8284761904761905, 0.8166666666666667, 0.8125714285714286, 0.6036190476190476, 0.8337142857142857, 0.7758095238095238, 0.8167619047619048, 0.8233333333333334, 0.8240952380952381, 0.5106666666666667, 0.674952380952381, 0.5011428571428571, 0.681047619047619]}, {\"categories\": [\"0\", \"1\", \"2\", \"3\", \"4\", \"6\", \"7\", \"8\", \"9\", \"10\", \"11\", \"12\", \"13\", \"14\", \"15\", \"16\", \"17\", \"18\", \"19\", \"20\", \"21\", \"22\", \"23\", \"24\", \"25\", \"26\", \"27\", \"28\", \"29\", \"30\", \"31\", \"32\", \"33\", \"34\", \"35\", \"36\", \"37\", \"39\"], \"mode\": \"lines\", \"name\": \"accuracy_max\", \"stepped\": true, \"type\": \"scatter\", \"data\": [0.722, 0.722, 0.722, 0.7241904761904762, 0.8184761904761905, 0.8184761904761905, 0.8184761904761905, 0.8184761904761905, 0.8184761904761905, 0.8184761904761905, 0.8184761904761905, 0.8231428571428572, 0.8231428571428572, 0.8231428571428572, 0.8231428571428572, 0.8231428571428572, 0.8231428571428572, 0.8231428571428572, 0.8231428571428572, 0.836952380952381, 0.836952380952381, 0.836952380952381, 0.836952380952381, 0.836952380952381, 0.836952380952381, 0.836952380952381, 0.836952380952381, 0.836952380952381, 0.836952380952381, 0.836952380952381, 0.836952380952381, 0.836952380952381, 0.836952380952381, 0.836952380952381, 0.836952380952381, 0.836952380952381, 0.836952380952381, 0.836952380952381]}], \"f1_score_macro\": [{\"categories\": [\"0\", \"1\", \"2\", \"3\", \"4\", \"6\", \"7\", \"8\", \"9\", \"10\", \"11\", \"12\", \"13\", \"14\", \"15\", \"16\", \"17\", \"18\", \"19\", \"20\", \"21\", \"22\", \"23\", \"24\", \"25\", \"26\", \"27\", \"28\", \"29\", \"30\", \"31\", \"32\", \"33\", \"34\", \"35\", \"36\", \"37\", \"39\"], \"mode\": \"markers\", \"name\": \"f1_score_macro\", \"stepped\": false, \"type\": \"scatter\", \"data\": [0.7219826280120124, 0.6363683217795273, 0.5378757540626256, 0.7235123604741243, 0.8184590589392219, 0.618280728718297, 0.7997309347769813, 0.7033166500777484, 0.8124529040163545, 0.8166345323882112, 0.6564565588624571, 0.8230981077834737, 0.8174975291680096, 0.816926018299016, 0.6653370934727152, 0.6894401592628583, 0.7037316316617211, 0.7157720515515125, 0.607636251915453, 0.8369242121060803, 0.7123334572393112, 0.7336561811953705, 0.737984384884967, 0.33282500953107125, 0.7090692660347624, 0.8284469852287143, 0.8166666250944727, 0.8125551000379208, 0.5368782902878796, 0.8336903371228312, 0.7757696606380816, 0.8167379684965654, 0.8233049835995909, 0.8240678533191004, 0.3556597294795617, 0.6749523780041031, 0.3338408831366578, 0.6780510289920155]}, {\"categories\": [\"0\", \"1\", \"2\", \"3\", \"4\", \"6\", \"7\", \"8\", \"9\", \"10\", \"11\", \"12\", \"13\", \"14\", \"15\", \"16\", \"17\", \"18\", \"19\", \"20\", \"21\", \"22\", \"23\", \"24\", \"25\", \"26\", \"27\", \"28\", \"29\", \"30\", \"31\", \"32\", \"33\", \"34\", \"35\", \"36\", \"37\", \"39\"], \"mode\": \"lines\", \"name\": \"f1_score_macro_max\", \"stepped\": true, \"type\": \"scatter\", \"data\": [0.7219826280120124, 0.7219826280120124, 0.7219826280120124, 0.7235123604741243, 0.8184590589392219, 0.8184590589392219, 0.8184590589392219, 0.8184590589392219, 0.8184590589392219, 0.8184590589392219, 0.8184590589392219, 0.8230981077834737, 0.8230981077834737, 0.8230981077834737, 0.8230981077834737, 0.8230981077834737, 0.8230981077834737, 0.8230981077834737, 0.8230981077834737, 0.8369242121060803, 0.8369242121060803, 0.8369242121060803, 0.8369242121060803, 0.8369242121060803, 0.8369242121060803, 0.8369242121060803, 0.8369242121060803, 0.8369242121060803, 0.8369242121060803, 0.8369242121060803, 0.8369242121060803, 0.8369242121060803, 0.8369242121060803, 0.8369242121060803, 0.8369242121060803, 0.8369242121060803, 0.8369242121060803, 0.8369242121060803]}], \"matthews_correlation\": [{\"categories\": [\"0\", \"1\", \"2\", \"3\", \"4\", \"6\", \"7\", \"8\", \"9\", \"10\", \"11\", \"12\", \"13\", \"14\", \"15\", \"16\", \"17\", \"18\", \"19\", \"20\", \"21\", \"22\", \"23\", \"24\", \"25\", \"26\", \"27\", \"28\", \"29\", \"30\", \"31\", \"32\", \"33\", \"34\", \"35\", \"36\", \"37\", \"39\"], \"mode\": \"markers\", \"name\": \"matthews_correlation\", \"stepped\": false, \"type\": \"scatter\", \"data\": [0.4440108533852375, 0.2855132747598704, 0.1093063701609481, 0.4502738371627308, 0.6370084691809688, 0.31483623372233693, 0.6002436447472582, 0.4153764982256213, 0.6250333182491317, 0.6334650674942994, 0.3134692311836456, 0.6465017441514975, 0.6351494025386274, 0.6340062728799112, 0.34954114534356806, 0.38440329255821787, 0.41291343126614016, 0.4414411262899977, 0.22946759654588123, 0.6740458181874976, 0.4256676135746384, 0.47828897553587335, 0.480542614295594, 0.0, 0.4196742190882607, 0.6570859504241976, 0.6333385983564866, 0.6251909340210825, 0.31448795304569926, 0.6675380762022545, 0.5517287672252855, 0.6336125253434247, 0.6467874827427774, 0.6483069240125949, 0.09294724591346319, 0.3499124085729863, 0.0, 0.3684190808041649]}, {\"categories\": [\"0\", \"1\", \"2\", \"3\", \"4\", \"6\", \"7\", \"8\", \"9\", \"10\", \"11\", \"12\", \"13\", \"14\", \"15\", \"16\", \"17\", \"18\", \"19\", \"20\", \"21\", \"22\", \"23\", \"24\", \"25\", \"26\", \"27\", \"28\", \"29\", \"30\", \"31\", \"32\", \"33\", \"34\", \"35\", \"36\", \"37\", \"39\"], \"mode\": \"lines\", \"name\": \"matthews_correlation_max\", \"stepped\": true, \"type\": \"scatter\", \"data\": [0.4440108533852375, 0.4440108533852375, 0.4440108533852375, 0.4502738371627308, 0.6370084691809688, 0.6370084691809688, 0.6370084691809688, 0.6370084691809688, 0.6370084691809688, 0.6370084691809688, 0.6370084691809688, 0.6465017441514975, 0.6465017441514975, 0.6465017441514975, 0.6465017441514975, 0.6465017441514975, 0.6465017441514975, 0.6465017441514975, 0.6465017441514975, 0.6740458181874976, 0.6740458181874976, 0.6740458181874976, 0.6740458181874976, 0.6740458181874976, 0.6740458181874976, 0.6740458181874976, 0.6740458181874976, 0.6740458181874976, 0.6740458181874976, 0.6740458181874976, 0.6740458181874976, 0.6740458181874976, 0.6740458181874976, 0.6740458181874976, 0.6740458181874976, 0.6740458181874976, 0.6740458181874976, 0.6740458181874976]}], \"precision_score_macro\": [{\"categories\": [\"0\", \"1\", \"2\", \"3\", \"4\", \"6\", \"7\", \"8\", \"9\", \"10\", \"11\", \"12\", \"13\", \"14\", \"15\", \"16\", \"17\", \"18\", \"19\", \"20\", \"21\", \"22\", \"23\", \"24\", \"25\", \"26\", \"27\", \"28\", \"29\", \"30\", \"31\", \"32\", \"33\", \"34\", \"35\", \"36\", \"37\", \"39\"], \"mode\": \"markers\", \"name\": \"precision_score_macro\", \"stepped\": false, \"type\": \"scatter\", \"data\": [0.7220251511578045, 0.6457057871450791, 0.5582010103077726, 0.7261977504314683, 0.8185502133960456, 0.6782921888507896, 0.8003848935636637, 0.7103524071266654, 0.8125783646792051, 0.8168244194489358, 0.6568526650524743, 0.8233910011356838, 0.8176487678326259, 0.8170770696996941, 0.6798589043569812, 0.6938000789462879, 0.708117339697723, 0.7238655598804644, 0.6174922638253838, 0.8371191330015613, 0.7131586991964598, 0.7428276373933095, 0.7418234933000276, 0.24942857142857142, 0.7103233925098225, 0.8286352807714124, 0.8166687534428633, 0.8126365990126547, 0.7406285769438863, 0.8338468815990299, 0.7759456904922639, 0.8168724898220874, 0.823478822800712, 0.8242359185430381, 0.7261984982672314, 0.674956283632179, 0.25057142857142856, 0.6876515572994317]}, {\"categories\": [\"0\", \"1\", \"2\", \"3\", \"4\", \"6\", \"7\", \"8\", \"9\", \"10\", \"11\", \"12\", \"13\", \"14\", \"15\", \"16\", \"17\", \"18\", \"19\", \"20\", \"21\", \"22\", \"23\", \"24\", \"25\", \"26\", \"27\", \"28\", \"29\", \"30\", \"31\", \"32\", \"33\", \"34\", \"35\", \"36\", \"37\", \"39\"], \"mode\": \"lines\", \"name\": \"precision_score_macro_max\", \"stepped\": true, \"type\": \"scatter\", \"data\": [0.7220251511578045, 0.7220251511578045, 0.7220251511578045, 0.7261977504314683, 0.8185502133960456, 0.8185502133960456, 0.8185502133960456, 0.8185502133960456, 0.8185502133960456, 0.8185502133960456, 0.8185502133960456, 0.8233910011356838, 0.8233910011356838, 0.8233910011356838, 0.8233910011356838, 0.8233910011356838, 0.8233910011356838, 0.8233910011356838, 0.8233910011356838, 0.8371191330015613, 0.8371191330015613, 0.8371191330015613, 0.8371191330015613, 0.8371191330015613, 0.8371191330015613, 0.8371191330015613, 0.8371191330015613, 0.8371191330015613, 0.8371191330015613, 0.8371191330015613, 0.8371191330015613, 0.8371191330015613, 0.8371191330015613, 0.8371191330015613, 0.8371191330015613, 0.8371191330015613, 0.8371191330015613, 0.8371191330015613]}], \"AUC_weighted\": [{\"categories\": [\"0\", \"1\", \"2\", \"3\", \"4\", \"6\", \"7\", \"8\", \"9\", \"10\", \"11\", \"12\", \"13\", \"14\", \"15\", \"16\", \"17\", \"18\", \"19\", \"20\", \"21\", \"22\", \"23\", \"24\", \"25\", \"26\", \"27\", \"28\", \"29\", \"30\", \"31\", \"32\", \"33\", \"34\", \"35\", \"36\", \"37\", \"39\"], \"mode\": \"markers\", \"name\": \"AUC_weighted\", \"stepped\": false, \"type\": \"scatter\", \"data\": [0.7968505123437197, 0.6949749143360604, 0.5747245083112634, 0.7994706802277716, 0.8988478548889547, 0.7238118541100043, 0.8846297827370054, 0.7740200801411897, 0.8937173404189396, 0.9014857075353065, 0.6714062083081722, 0.9034650013228186, 0.8978644913166557, 0.8985458645117275, 0.7405212928822195, 0.761335388019805, 0.7678443744068904, 0.7968239725225231, 0.619508542738509, 0.9133110572985852, 0.7861758261884433, 0.8175415955007621, 0.8216759300257206, 0.5, 0.7751784353993542, 0.9064380327491391, 0.8960208626577495, 0.8942238464665359, 0.8449696027436842, 0.9120173725352071, 0.8587311984505245, 0.8985896561237362, 0.9031368001445782, 0.903962418887558, 0.8446901085980146, 0.743450124510401, 0.5067300487665134, 0.7520989316007675]}, {\"categories\": [\"0\", \"1\", \"2\", \"3\", \"4\", \"6\", \"7\", \"8\", \"9\", \"10\", \"11\", \"12\", \"13\", \"14\", \"15\", \"16\", \"17\", \"18\", \"19\", \"20\", \"21\", \"22\", \"23\", \"24\", \"25\", \"26\", \"27\", \"28\", \"29\", \"30\", \"31\", \"32\", \"33\", \"34\", \"35\", \"36\", \"37\", \"39\"], \"mode\": \"lines\", \"name\": \"AUC_weighted_max\", \"stepped\": true, \"type\": \"scatter\", \"data\": [0.7968505123437197, 0.7968505123437197, 0.7968505123437197, 0.7994706802277716, 0.8988478548889547, 0.8988478548889547, 0.8988478548889547, 0.8988478548889547, 0.8988478548889547, 0.9014857075353065, 0.9014857075353065, 0.9034650013228186, 0.9034650013228186, 0.9034650013228186, 0.9034650013228186, 0.9034650013228186, 0.9034650013228186, 0.9034650013228186, 0.9034650013228186, 0.9133110572985852, 0.9133110572985852, 0.9133110572985852, 0.9133110572985852, 0.9133110572985852, 0.9133110572985852, 0.9133110572985852, 0.9133110572985852, 0.9133110572985852, 0.9133110572985852, 0.9133110572985852, 0.9133110572985852, 0.9133110572985852, 0.9133110572985852, 0.9133110572985852, 0.9133110572985852, 0.9133110572985852, 0.9133110572985852, 0.9133110572985852]}], \"f1_score_weighted\": [{\"categories\": [\"0\", \"1\", \"2\", \"3\", \"4\", \"6\", \"7\", \"8\", \"9\", \"10\", \"11\", \"12\", \"13\", \"14\", \"15\", \"16\", \"17\", \"18\", \"19\", \"20\", \"21\", \"22\", \"23\", \"24\", \"25\", \"26\", \"27\", \"28\", \"29\", \"30\", \"31\", \"32\", \"33\", \"34\", \"35\", \"36\", \"37\", \"39\"], \"mode\": \"markers\", \"name\": \"f1_score_weighted\", \"stepped\": false, \"type\": \"scatter\", \"data\": [0.7219876512374546, 0.6364524666446045, 0.5380585414922567, 0.7235436581225712, 0.818463089889097, 0.6184865559041396, 0.799721866811688, 0.7033712236681013, 0.8124576807260644, 0.8166400807528366, 0.6564422001488357, 0.8231045388291336, 0.8175025349500669, 0.8169310397567997, 0.6654283039127636, 0.6894864685942117, 0.7037751004791927, 0.7158270564268694, 0.6077338784219151, 0.8369291110358715, 0.7123523688683537, 0.7337096963724604, 0.7380189495571325, 0.3320642666521431, 0.7090926354912702, 0.8284521014764473, 0.8166668246410033, 0.8125590988624534, 0.5372801413104455, 0.8336948987592988, 0.7757764943246146, 0.8167427557496333, 0.8233100993410181, 0.824072870377324, 0.356382091905288, 0.6749523072454372, 0.3346039480123987, 0.6781220242154454]}, {\"categories\": [\"0\", \"1\", \"2\", \"3\", \"4\", \"6\", \"7\", \"8\", \"9\", \"10\", \"11\", \"12\", \"13\", \"14\", \"15\", \"16\", \"17\", \"18\", \"19\", \"20\", \"21\", \"22\", \"23\", \"24\", \"25\", \"26\", \"27\", \"28\", \"29\", \"30\", \"31\", \"32\", \"33\", \"34\", \"35\", \"36\", \"37\", \"39\"], \"mode\": \"lines\", \"name\": \"f1_score_weighted_max\", \"stepped\": true, \"type\": \"scatter\", \"data\": [0.7219876512374546, 0.7219876512374546, 0.7219876512374546, 0.7235436581225712, 0.818463089889097, 0.818463089889097, 0.818463089889097, 0.818463089889097, 0.818463089889097, 0.818463089889097, 0.818463089889097, 0.8231045388291336, 0.8231045388291336, 0.8231045388291336, 0.8231045388291336, 0.8231045388291336, 0.8231045388291336, 0.8231045388291336, 0.8231045388291336, 0.8369291110358715, 0.8369291110358715, 0.8369291110358715, 0.8369291110358715, 0.8369291110358715, 0.8369291110358715, 0.8369291110358715, 0.8369291110358715, 0.8369291110358715, 0.8369291110358715, 0.8369291110358715, 0.8369291110358715, 0.8369291110358715, 0.8369291110358715, 0.8369291110358715, 0.8369291110358715, 0.8369291110358715, 0.8369291110358715, 0.8369291110358715]}], \"average_precision_score_micro\": [{\"categories\": [\"0\", \"1\", \"2\", \"3\", \"4\", \"6\", \"7\", \"8\", \"9\", \"10\", \"11\", \"12\", \"13\", \"14\", \"15\", \"16\", \"17\", \"18\", \"19\", \"20\", \"21\", \"22\", \"23\", \"24\", \"25\", \"26\", \"27\", \"28\", \"29\", \"30\", \"31\", \"32\", \"33\", \"34\", \"35\", \"36\", \"37\", \"39\"], \"mode\": \"markers\", \"name\": \"average_precision_score_micro\", \"stepped\": false, \"type\": \"scatter\", \"data\": [0.7928775553138888, 0.6833935396034657, 0.5640555288952518, 0.7935088983155212, 0.8983039819651757, 0.6947286723590798, 0.8836555554123513, 0.7603642391633757, 0.8856654032428394, 0.902617655624548, 0.6201618575413461, 0.8985731186864068, 0.8980377972783513, 0.8983804178899653, 0.7158633154693215, 0.7547264619243084, 0.7546792245446698, 0.7913014312985486, 0.5914443089081762, 0.9137324874659178, 0.7824196451255205, 0.814354851289795, 0.8201316890761601, 0.5, 0.7697579895713454, 0.906098055420021, 0.8956575219701586, 0.8935572328104522, 0.7280143277263283, 0.9120702981107354, 0.8563696454864893, 0.8985675307639862, 0.9031737799568967, 0.9035023489903206, 0.7015413667583756, 0.7373602457967393, 0.5030169510148211, 0.7414301084024986]}, {\"categories\": [\"0\", \"1\", \"2\", \"3\", \"4\", \"6\", \"7\", \"8\", \"9\", \"10\", \"11\", \"12\", \"13\", \"14\", \"15\", \"16\", \"17\", \"18\", \"19\", \"20\", \"21\", \"22\", \"23\", \"24\", \"25\", \"26\", \"27\", \"28\", \"29\", \"30\", \"31\", \"32\", \"33\", \"34\", \"35\", \"36\", \"37\", \"39\"], \"mode\": \"lines\", \"name\": \"average_precision_score_micro_max\", \"stepped\": true, \"type\": \"scatter\", \"data\": [0.7928775553138888, 0.7928775553138888, 0.7928775553138888, 0.7935088983155212, 0.8983039819651757, 0.8983039819651757, 0.8983039819651757, 0.8983039819651757, 0.8983039819651757, 0.902617655624548, 0.902617655624548, 0.902617655624548, 0.902617655624548, 0.902617655624548, 0.902617655624548, 0.902617655624548, 0.902617655624548, 0.902617655624548, 0.902617655624548, 0.9137324874659178, 0.9137324874659178, 0.9137324874659178, 0.9137324874659178, 0.9137324874659178, 0.9137324874659178, 0.9137324874659178, 0.9137324874659178, 0.9137324874659178, 0.9137324874659178, 0.9137324874659178, 0.9137324874659178, 0.9137324874659178, 0.9137324874659178, 0.9137324874659178, 0.9137324874659178, 0.9137324874659178, 0.9137324874659178, 0.9137324874659178]}], \"average_precision_score_weighted\": [{\"categories\": [\"0\", \"1\", \"2\", \"3\", \"4\", \"6\", \"7\", \"8\", \"9\", \"10\", \"11\", \"12\", \"13\", \"14\", \"15\", \"16\", \"17\", \"18\", \"19\", \"20\", \"21\", \"22\", \"23\", \"24\", \"25\", \"26\", \"27\", \"28\", \"29\", \"30\", \"31\", \"32\", \"33\", \"34\", \"35\", \"36\", \"37\", \"39\"], \"mode\": \"markers\", \"name\": \"average_precision_score_weighted\", \"stepped\": false, \"type\": \"scatter\", \"data\": [0.7929788583596566, 0.6832921978509839, 0.5590076001718781, 0.7949441663731368, 0.8976853691671564, 0.7041967236849941, 0.8841663053239203, 0.7658246530979136, 0.8853880812571318, 0.9016486773450727, 0.6202914823196081, 0.8983213957836643, 0.8973239927563273, 0.8977469648236774, 0.7201794505673031, 0.7559924584634636, 0.7590173573990862, 0.791471256259012, 0.5775993111988783, 0.9131748936050786, 0.7815527674282916, 0.8127896493275257, 0.8197182623064653, 0.500002612244898, 0.7698879841465823, 0.9056607664595211, 0.8953052636288443, 0.8931562021393679, 0.8370610317557744, 0.911558817637284, 0.8564091012330135, 0.8979393229899018, 0.9025044790189368, 0.903101202229485, 0.8367464768176411, 0.7375951966034375, 0.5034152621904565, 0.7460927616455277]}, {\"categories\": [\"0\", \"1\", \"2\", \"3\", \"4\", \"6\", \"7\", \"8\", \"9\", \"10\", \"11\", \"12\", \"13\", \"14\", \"15\", \"16\", \"17\", \"18\", \"19\", \"20\", \"21\", \"22\", \"23\", \"24\", \"25\", \"26\", \"27\", \"28\", \"29\", \"30\", \"31\", \"32\", \"33\", \"34\", \"35\", \"36\", \"37\", \"39\"], \"mode\": \"lines\", \"name\": \"average_precision_score_weighted_max\", \"stepped\": true, \"type\": \"scatter\", \"data\": [0.7929788583596566, 0.7929788583596566, 0.7929788583596566, 0.7949441663731368, 0.8976853691671564, 0.8976853691671564, 0.8976853691671564, 0.8976853691671564, 0.8976853691671564, 0.9016486773450727, 0.9016486773450727, 0.9016486773450727, 0.9016486773450727, 0.9016486773450727, 0.9016486773450727, 0.9016486773450727, 0.9016486773450727, 0.9016486773450727, 0.9016486773450727, 0.9131748936050786, 0.9131748936050786, 0.9131748936050786, 0.9131748936050786, 0.9131748936050786, 0.9131748936050786, 0.9131748936050786, 0.9131748936050786, 0.9131748936050786, 0.9131748936050786, 0.9131748936050786, 0.9131748936050786, 0.9131748936050786, 0.9131748936050786, 0.9131748936050786, 0.9131748936050786, 0.9131748936050786, 0.9131748936050786, 0.9131748936050786]}], \"AUC_micro\": [{\"categories\": [\"0\", \"1\", \"2\", \"3\", \"4\", \"6\", \"7\", \"8\", \"9\", \"10\", \"11\", \"12\", \"13\", \"14\", \"15\", \"16\", \"17\", \"18\", \"19\", \"20\", \"21\", \"22\", \"23\", \"24\", \"25\", \"26\", \"27\", \"28\", \"29\", \"30\", \"31\", \"32\", \"33\", \"34\", \"35\", \"36\", \"37\", \"39\"], \"mode\": \"markers\", \"name\": \"AUC_micro\", \"stepped\": false, \"type\": \"scatter\", \"data\": [0.7968643628117913, 0.6944204353741497, 0.576372843537415, 0.7985652154195011, 0.8991416734693878, 0.7079817414965986, 0.883560507936508, 0.7692818049886622, 0.8939887346938775, 0.9019126077097505, 0.6712560045351474, 0.9036782675736961, 0.8982536553287983, 0.8988650521541951, 0.7355885623582769, 0.7599701496598639, 0.7649359092970521, 0.7946846893424035, 0.6284844716553288, 0.9136063492063493, 0.7866034829931974, 0.8163542857142857, 0.8212789387755103, 0.5, 0.775290566893424, 0.906648358276644, 0.89610841723356, 0.8944218140589569, 0.7143067029478458, 0.9122752970521543, 0.8588499591836735, 0.8989572108843539, 0.903455850340136, 0.9041577414965987, 0.6743014603174602, 0.743395455782313, 0.5045078639455782, 0.7471967346938775]}, {\"categories\": [\"0\", \"1\", \"2\", \"3\", \"4\", \"6\", \"7\", \"8\", \"9\", \"10\", \"11\", \"12\", \"13\", \"14\", \"15\", \"16\", \"17\", \"18\", \"19\", \"20\", \"21\", \"22\", \"23\", \"24\", \"25\", \"26\", \"27\", \"28\", \"29\", \"30\", \"31\", \"32\", \"33\", \"34\", \"35\", \"36\", \"37\", \"39\"], \"mode\": \"lines\", \"name\": \"AUC_micro_max\", \"stepped\": true, \"type\": \"scatter\", \"data\": [0.7968643628117913, 0.7968643628117913, 0.7968643628117913, 0.7985652154195011, 0.8991416734693878, 0.8991416734693878, 0.8991416734693878, 0.8991416734693878, 0.8991416734693878, 0.9019126077097505, 0.9019126077097505, 0.9036782675736961, 0.9036782675736961, 0.9036782675736961, 0.9036782675736961, 0.9036782675736961, 0.9036782675736961, 0.9036782675736961, 0.9036782675736961, 0.9136063492063493, 0.9136063492063493, 0.9136063492063493, 0.9136063492063493, 0.9136063492063493, 0.9136063492063493, 0.9136063492063493, 0.9136063492063493, 0.9136063492063493, 0.9136063492063493, 0.9136063492063493, 0.9136063492063493, 0.9136063492063493, 0.9136063492063493, 0.9136063492063493, 0.9136063492063493, 0.9136063492063493, 0.9136063492063493, 0.9136063492063493]}], \"balanced_accuracy\": [{\"categories\": [\"0\", \"1\", \"2\", \"3\", \"4\", \"6\", \"7\", \"8\", \"9\", \"10\", \"11\", \"12\", \"13\", \"14\", \"15\", \"16\", \"17\", \"18\", \"19\", \"20\", \"21\", \"22\", \"23\", \"24\", \"25\", \"26\", \"27\", \"28\", \"29\", \"30\", \"31\", \"32\", \"33\", \"34\", \"35\", \"36\", \"37\", \"39\"], \"mode\": \"markers\", \"name\": \"balanced_accuracy\", \"stepped\": false, \"type\": \"scatter\", \"data\": [0.7219857039797324, 0.639867179714245, 0.551321628673543, 0.7240810618656838, 0.8184582624213983, 0.6389879370254125, 0.7998589815761759, 0.7050578332273192, 0.8124549657511135, 0.8166406746941373, 0.6566166549768098, 0.8231108037353556, 0.8175006519761954, 0.8169292204193284, 0.6698261933776634, 0.6906163972339665, 0.7048093421331616, 0.7176197491970571, 0.6120400955564176, 0.8369267126511246, 0.7125094095729697, 0.7355172032463408, 0.738729083972357, 0.5, 0.7093519508999884, 0.8284506955791442, 0.816669844914564, 0.8125543404199553, 0.6027544960234894, 0.8336912127540911, 0.7757831006899409, 0.816740049362979, 0.8233086823201906, 0.8240710264391041, 0.5095482403608749, 0.6749561249408432, 0.5, 0.6808306590336473]}, {\"categories\": [\"0\", \"1\", \"2\", \"3\", \"4\", \"6\", \"7\", \"8\", \"9\", \"10\", \"11\", \"12\", \"13\", \"14\", \"15\", \"16\", \"17\", \"18\", \"19\", \"20\", \"21\", \"22\", \"23\", \"24\", \"25\", \"26\", \"27\", \"28\", \"29\", \"30\", \"31\", \"32\", \"33\", \"34\", \"35\", \"36\", \"37\", \"39\"], \"mode\": \"lines\", \"name\": \"balanced_accuracy_max\", \"stepped\": true, \"type\": \"scatter\", \"data\": [0.7219857039797324, 0.7219857039797324, 0.7219857039797324, 0.7240810618656838, 0.8184582624213983, 0.8184582624213983, 0.8184582624213983, 0.8184582624213983, 0.8184582624213983, 0.8184582624213983, 0.8184582624213983, 0.8231108037353556, 0.8231108037353556, 0.8231108037353556, 0.8231108037353556, 0.8231108037353556, 0.8231108037353556, 0.8231108037353556, 0.8231108037353556, 0.8369267126511246, 0.8369267126511246, 0.8369267126511246, 0.8369267126511246, 0.8369267126511246, 0.8369267126511246, 0.8369267126511246, 0.8369267126511246, 0.8369267126511246, 0.8369267126511246, 0.8369267126511246, 0.8369267126511246, 0.8369267126511246, 0.8369267126511246, 0.8369267126511246, 0.8369267126511246, 0.8369267126511246, 0.8369267126511246, 0.8369267126511246]}], \"AUC_macro\": [{\"categories\": [\"0\", \"1\", \"2\", \"3\", \"4\", \"6\", \"7\", \"8\", \"9\", \"10\", \"11\", \"12\", \"13\", \"14\", \"15\", \"16\", \"17\", \"18\", \"19\", \"20\", \"21\", \"22\", \"23\", \"24\", \"25\", \"26\", \"27\", \"28\", \"29\", \"30\", \"31\", \"32\", \"33\", \"34\", \"35\", \"36\", \"37\", \"39\"], \"mode\": \"markers\", \"name\": \"AUC_macro\", \"stepped\": false, \"type\": \"scatter\", \"data\": [0.7968505123437197, 0.6949749143360604, 0.5747245083112634, 0.7994706802277716, 0.8988478524840182, 0.7238118541100043, 0.8846297827370055, 0.7740200801411896, 0.8937173404189396, 0.9014857075353064, 0.6714032447008522, 0.9034650013228187, 0.8978644913373879, 0.8985458645117276, 0.7405212928822195, 0.761335388019805, 0.7678443744068904, 0.796823972522523, 0.619508542738509, 0.9133110572985852, 0.7861758261884433, 0.8175415955007621, 0.8216759300257206, 0.5, 0.7751784353993542, 0.9064380327284067, 0.8960208626577495, 0.8942238464665357, 0.8449696027436842, 0.9120173725352072, 0.8587311984505244, 0.8985896561237363, 0.9031368000616493, 0.9039624188875581, 0.844690109219981, 0.743450124510401, 0.5067300487665133, 0.7520989316007674]}, {\"categories\": [\"0\", \"1\", \"2\", \"3\", \"4\", \"6\", \"7\", \"8\", \"9\", \"10\", \"11\", \"12\", \"13\", \"14\", \"15\", \"16\", \"17\", \"18\", \"19\", \"20\", \"21\", \"22\", \"23\", \"24\", \"25\", \"26\", \"27\", \"28\", \"29\", \"30\", \"31\", \"32\", \"33\", \"34\", \"35\", \"36\", \"37\", \"39\"], \"mode\": \"lines\", \"name\": \"AUC_macro_max\", \"stepped\": true, \"type\": \"scatter\", \"data\": [0.7968505123437197, 0.7968505123437197, 0.7968505123437197, 0.7994706802277716, 0.8988478524840182, 0.8988478524840182, 0.8988478524840182, 0.8988478524840182, 0.8988478524840182, 0.9014857075353064, 0.9014857075353064, 0.9034650013228187, 0.9034650013228187, 0.9034650013228187, 0.9034650013228187, 0.9034650013228187, 0.9034650013228187, 0.9034650013228187, 0.9034650013228187, 0.9133110572985852, 0.9133110572985852, 0.9133110572985852, 0.9133110572985852, 0.9133110572985852, 0.9133110572985852, 0.9133110572985852, 0.9133110572985852, 0.9133110572985852, 0.9133110572985852, 0.9133110572985852, 0.9133110572985852, 0.9133110572985852, 0.9133110572985852, 0.9133110572985852, 0.9133110572985852, 0.9133110572985852, 0.9133110572985852, 0.9133110572985852]}], \"recall_score_weighted\": [{\"categories\": [\"0\", \"1\", \"2\", \"3\", \"4\", \"6\", \"7\", \"8\", \"9\", \"10\", \"11\", \"12\", \"13\", \"14\", \"15\", \"16\", \"17\", \"18\", \"19\", \"20\", \"21\", \"22\", \"23\", \"24\", \"25\", \"26\", \"27\", \"28\", \"29\", \"30\", \"31\", \"32\", \"33\", \"34\", \"35\", \"36\", \"37\", \"39\"], \"mode\": \"markers\", \"name\": \"recall_score_weighted\", \"stepped\": false, \"type\": \"scatter\", \"data\": [0.722, 0.640095238095238, 0.5517142857142857, 0.7241904761904762, 0.8184761904761905, 0.6395238095238095, 0.7998095238095239, 0.7052380952380952, 0.8124761904761905, 0.8166666666666667, 0.6565714285714286, 0.8231428571428572, 0.8175238095238095, 0.816952380952381, 0.6700952380952381, 0.6907619047619048, 0.704952380952381, 0.7178095238095238, 0.6122857142857143, 0.836952380952381, 0.7125714285714285, 0.7357142857142858, 0.7388571428571429, 0.49885714285714283, 0.7094285714285714, 0.8284761904761905, 0.8166666666666667, 0.8125714285714286, 0.6036190476190476, 0.8337142857142857, 0.7758095238095238, 0.8167619047619048, 0.8233333333333334, 0.8240952380952381, 0.5106666666666667, 0.674952380952381, 0.5011428571428571, 0.681047619047619]}, {\"categories\": [\"0\", \"1\", \"2\", \"3\", \"4\", \"6\", \"7\", \"8\", \"9\", \"10\", \"11\", \"12\", \"13\", \"14\", \"15\", \"16\", \"17\", \"18\", \"19\", \"20\", \"21\", \"22\", \"23\", \"24\", \"25\", \"26\", \"27\", \"28\", \"29\", \"30\", \"31\", \"32\", \"33\", \"34\", \"35\", \"36\", \"37\", \"39\"], \"mode\": \"lines\", \"name\": \"recall_score_weighted_max\", \"stepped\": true, \"type\": \"scatter\", \"data\": [0.722, 0.722, 0.722, 0.7241904761904762, 0.8184761904761905, 0.8184761904761905, 0.8184761904761905, 0.8184761904761905, 0.8184761904761905, 0.8184761904761905, 0.8184761904761905, 0.8231428571428572, 0.8231428571428572, 0.8231428571428572, 0.8231428571428572, 0.8231428571428572, 0.8231428571428572, 0.8231428571428572, 0.8231428571428572, 0.836952380952381, 0.836952380952381, 0.836952380952381, 0.836952380952381, 0.836952380952381, 0.836952380952381, 0.836952380952381, 0.836952380952381, 0.836952380952381, 0.836952380952381, 0.836952380952381, 0.836952380952381, 0.836952380952381, 0.836952380952381, 0.836952380952381, 0.836952380952381, 0.836952380952381, 0.836952380952381, 0.836952380952381]}], \"average_precision_score_macro\": [{\"categories\": [\"0\", \"1\", \"2\", \"3\", \"4\", \"6\", \"7\", \"8\", \"9\", \"10\", \"11\", \"12\", \"13\", \"14\", \"15\", \"16\", \"17\", \"18\", \"19\", \"20\", \"21\", \"22\", \"23\", \"24\", \"25\", \"26\", \"27\", \"28\", \"29\", \"30\", \"31\", \"32\", \"33\", \"34\", \"35\", \"36\", \"37\", \"39\"], \"mode\": \"markers\", \"name\": \"average_precision_score_macro\", \"stepped\": false, \"type\": \"scatter\", \"data\": [0.7929842698000598, 0.6833139195246727, 0.559002846173976, 0.7949423582654298, 0.8976994933198916, 0.7042396065636931, 0.884178337998192, 0.7658340158845097, 0.8854005108821957, 0.9016627871035412, 0.6202845733208839, 0.8983353862281522, 0.8973354644722318, 0.8977578926469578, 0.720175532254518, 0.7560083465556009, 0.7590271486214597, 0.7914935540669006, 0.5776015990455361, 0.9131840018059096, 0.7815713320228445, 0.8128241383652555, 0.8197344960895985, 0.5, 0.7699036837322142, 0.9056699102570236, 0.8953150176972544, 0.8931654352453451, 0.8370583937730802, 0.9115676587859975, 0.8564224582236817, 0.8979505559375517, 0.9025175915154007, 0.9031105256619885, 0.836743786794697, 0.7376181136224776, 0.5034126260084815, 0.7461099692572529]}, {\"categories\": [\"0\", \"1\", \"2\", \"3\", \"4\", \"6\", \"7\", \"8\", \"9\", \"10\", \"11\", \"12\", \"13\", \"14\", \"15\", \"16\", \"17\", \"18\", \"19\", \"20\", \"21\", \"22\", \"23\", \"24\", \"25\", \"26\", \"27\", \"28\", \"29\", \"30\", \"31\", \"32\", \"33\", \"34\", \"35\", \"36\", \"37\", \"39\"], \"mode\": \"lines\", \"name\": \"average_precision_score_macro_max\", \"stepped\": true, \"type\": \"scatter\", \"data\": [0.7929842698000598, 0.7929842698000598, 0.7929842698000598, 0.7949423582654298, 0.8976994933198916, 0.8976994933198916, 0.8976994933198916, 0.8976994933198916, 0.8976994933198916, 0.9016627871035412, 0.9016627871035412, 0.9016627871035412, 0.9016627871035412, 0.9016627871035412, 0.9016627871035412, 0.9016627871035412, 0.9016627871035412, 0.9016627871035412, 0.9016627871035412, 0.9131840018059096, 0.9131840018059096, 0.9131840018059096, 0.9131840018059096, 0.9131840018059096, 0.9131840018059096, 0.9131840018059096, 0.9131840018059096, 0.9131840018059096, 0.9131840018059096, 0.9131840018059096, 0.9131840018059096, 0.9131840018059096, 0.9131840018059096, 0.9131840018059096, 0.9131840018059096, 0.9131840018059096, 0.9131840018059096, 0.9131840018059096]}], \"precision_score_weighted\": [{\"categories\": [\"0\", \"1\", \"2\", \"3\", \"4\", \"6\", \"7\", \"8\", \"9\", \"10\", \"11\", \"12\", \"13\", \"14\", \"15\", \"16\", \"17\", \"18\", \"19\", \"20\", \"21\", \"22\", \"23\", \"24\", \"25\", \"26\", \"27\", \"28\", \"29\", \"30\", \"31\", \"32\", \"33\", \"34\", \"35\", \"36\", \"37\", \"39\"], \"mode\": \"markers\", \"name\": \"precision_score_weighted\", \"stepped\": false, \"type\": \"scatter\", \"data\": [0.7220209002578939, 0.645641727593606, 0.558157885268924, 0.7261503345045158, 0.8185403436733985, 0.6781034584037618, 0.800416277368435, 0.7102787315652453, 0.8125666876274318, 0.8168095136742332, 0.6568692083748887, 0.8233717899878521, 0.8176356143264347, 0.8170639445683978, 0.6797644172641256, 0.6937459064496868, 0.7080599688443331, 0.7237826950767572, 0.6174370219204536, 0.8371032518540203, 0.7131343983430102, 0.7427339379200402, 0.7417635670284541, 0.24885844897959183, 0.7102933144902848, 0.828620008103071, 0.8166723307734861, 0.8126275054627163, 0.7402148591905149, 0.8338329241374779, 0.7759329248657572, 0.8168602025931784, 0.8234643940932034, 0.8242217322793944, 0.7256951152428627, 0.6749598861058387, 0.25114416326530614, 0.687572389208501]}, {\"categories\": [\"0\", \"1\", \"2\", \"3\", \"4\", \"6\", \"7\", \"8\", \"9\", \"10\", \"11\", \"12\", \"13\", \"14\", \"15\", \"16\", \"17\", \"18\", \"19\", \"20\", \"21\", \"22\", \"23\", \"24\", \"25\", \"26\", \"27\", \"28\", \"29\", \"30\", \"31\", \"32\", \"33\", \"34\", \"35\", \"36\", \"37\", \"39\"], \"mode\": \"lines\", \"name\": \"precision_score_weighted_max\", \"stepped\": true, \"type\": \"scatter\", \"data\": [0.7220209002578939, 0.7220209002578939, 0.7220209002578939, 0.7261503345045158, 0.8185403436733985, 0.8185403436733985, 0.8185403436733985, 0.8185403436733985, 0.8185403436733985, 0.8185403436733985, 0.8185403436733985, 0.8233717899878521, 0.8233717899878521, 0.8233717899878521, 0.8233717899878521, 0.8233717899878521, 0.8233717899878521, 0.8233717899878521, 0.8233717899878521, 0.8371032518540203, 0.8371032518540203, 0.8371032518540203, 0.8371032518540203, 0.8371032518540203, 0.8371032518540203, 0.8371032518540203, 0.8371032518540203, 0.8371032518540203, 0.8371032518540203, 0.8371032518540203, 0.8371032518540203, 0.8371032518540203, 0.8371032518540203, 0.8371032518540203, 0.8371032518540203, 0.8371032518540203, 0.8371032518540203, 0.8371032518540203]}], \"weighted_accuracy\": [{\"categories\": [\"0\", \"1\", \"2\", \"3\", \"4\", \"6\", \"7\", \"8\", \"9\", \"10\", \"11\", \"12\", \"13\", \"14\", \"15\", \"16\", \"17\", \"18\", \"19\", \"20\", \"21\", \"22\", \"23\", \"24\", \"25\", \"26\", \"27\", \"28\", \"29\", \"30\", \"31\", \"32\", \"33\", \"34\", \"35\", \"36\", \"37\", \"39\"], \"mode\": \"markers\", \"name\": \"weighted_accuracy\", \"stepped\": false, \"type\": \"scatter\", \"data\": [0.7220142958708894, 0.6403232940932662, 0.5521069386521844, 0.7242998893720065, 0.8184941183436537, 0.640059676422915, 0.7997600665596521, 0.705418355365327, 0.8124974149794917, 0.8166926583676078, 0.6565262026386147, 0.823174910215435, 0.817546966829452, 0.8169755412434306, 0.6703642800015847, 0.6909074107694457, 0.7050954182769983, 0.7179992964390498, 0.6125313304485591, 0.8369780489854312, 0.7126334469218555, 0.7359113661229306, 0.7389852004038509, 0.4977142976559143, 0.7095051911565523, 0.8285016851068423, 0.8166634884519787, 0.8125885165443489, 0.6044835901809709, 0.8337373584333927, 0.7758359466530134, 0.8167837599324651, 0.8233579840888995, 0.8241194494983863, 0.5117850812861058, 0.6749486370030392, 0.5022857023440856, 0.681264576794592]}, {\"categories\": [\"0\", \"1\", \"2\", \"3\", \"4\", \"6\", \"7\", \"8\", \"9\", \"10\", \"11\", \"12\", \"13\", \"14\", \"15\", \"16\", \"17\", \"18\", \"19\", \"20\", \"21\", \"22\", \"23\", \"24\", \"25\", \"26\", \"27\", \"28\", \"29\", \"30\", \"31\", \"32\", \"33\", \"34\", \"35\", \"36\", \"37\", \"39\"], \"mode\": \"lines\", \"name\": \"weighted_accuracy_max\", \"stepped\": true, \"type\": \"scatter\", \"data\": [0.7220142958708894, 0.7220142958708894, 0.7220142958708894, 0.7242998893720065, 0.8184941183436537, 0.8184941183436537, 0.8184941183436537, 0.8184941183436537, 0.8184941183436537, 0.8184941183436537, 0.8184941183436537, 0.823174910215435, 0.823174910215435, 0.823174910215435, 0.823174910215435, 0.823174910215435, 0.823174910215435, 0.823174910215435, 0.823174910215435, 0.8369780489854312, 0.8369780489854312, 0.8369780489854312, 0.8369780489854312, 0.8369780489854312, 0.8369780489854312, 0.8369780489854312, 0.8369780489854312, 0.8369780489854312, 0.8369780489854312, 0.8369780489854312, 0.8369780489854312, 0.8369780489854312, 0.8369780489854312, 0.8369780489854312, 0.8369780489854312, 0.8369780489854312, 0.8369780489854312, 0.8369780489854312]}]}, \"metricName\": null, \"primaryMetricName\": \"accuracy\", \"showLegend\": false}, \"run_metrics\": [{\"name\": \"experiment_status\", \"run_id\": \"AutoML_1c07a841-cd90-4cc6-8c98-5b5708422cdf\", \"categories\": [0, 1, 2, 3, 4, 5, 6, 7, 8, 9, 10, 11, 12], \"series\": [{\"data\": [\"DatasetEvaluation\", \"FeaturesGeneration\", \"DatasetFeaturization\", \"DatasetFeaturizationCompleted\", \"ModelSelection\", \"BestRunExplainModel\", \"ModelExplanationDataSetSetup\", \"PickSurrogateModel\", \"EngineeredFeatureExplanations\", \"EngineeredFeatureExplanations\", \"RawFeaturesExplanations\", \"RawFeaturesExplanations\", \"BestRunExplainModel\"]}]}, {\"name\": \"experiment_status_description\", \"run_id\": \"AutoML_1c07a841-cd90-4cc6-8c98-5b5708422cdf\", \"categories\": [0, 1, 2, 3, 4, 5, 6, 7, 8, 9, 10, 11, 12], \"series\": [{\"data\": [\"Gathering dataset statistics.\", \"Generating features for the dataset.\", \"Beginning to fit featurizers and featurize the dataset.\", \"Completed fit featurizers and featurizing the dataset.\", \"Beginning model selection.\", \"Best run model explanations started\", \"Model explanations data setup completed\", \"Choosing LinearModel as the surrogate model for explanations\", \"Computation of engineered features started\", \"Computation of engineered features completed\", \"Computation of raw features started\", \"Computation of raw features completed\", \"Best run model explanations completed\"]}]}, {\"name\": \"precision_score_macro\", \"run_id\": \"AutoML_1c07a841-cd90-4cc6-8c98-5b5708422cdf\", \"categories\": [0], \"series\": [{\"data\": [0.8371191330015613]}]}, {\"name\": \"balanced_accuracy\", \"run_id\": \"AutoML_1c07a841-cd90-4cc6-8c98-5b5708422cdf\", \"categories\": [0], \"series\": [{\"data\": [0.8369267126511246]}]}, {\"name\": \"recall_score_macro\", \"run_id\": \"AutoML_1c07a841-cd90-4cc6-8c98-5b5708422cdf\", \"categories\": [0], \"series\": [{\"data\": [0.8369267126511246]}]}, {\"name\": \"recall_score_micro\", \"run_id\": \"AutoML_1c07a841-cd90-4cc6-8c98-5b5708422cdf\", \"categories\": [0], \"series\": [{\"data\": [0.836952380952381]}]}, {\"name\": \"recall_score_weighted\", \"run_id\": \"AutoML_1c07a841-cd90-4cc6-8c98-5b5708422cdf\", \"categories\": [0], \"series\": [{\"data\": [0.836952380952381]}]}, {\"name\": \"average_precision_score_macro\", \"run_id\": \"AutoML_1c07a841-cd90-4cc6-8c98-5b5708422cdf\", \"categories\": [0], \"series\": [{\"data\": [0.9131840018059096]}]}, {\"name\": \"f1_score_macro\", \"run_id\": \"AutoML_1c07a841-cd90-4cc6-8c98-5b5708422cdf\", \"categories\": [0], \"series\": [{\"data\": [0.8369242121060803]}]}, {\"name\": \"f1_score_micro\", \"run_id\": \"AutoML_1c07a841-cd90-4cc6-8c98-5b5708422cdf\", \"categories\": [0], \"series\": [{\"data\": [0.836952380952381]}]}, {\"name\": \"AUC_weighted\", \"run_id\": \"AutoML_1c07a841-cd90-4cc6-8c98-5b5708422cdf\", \"categories\": [0], \"series\": [{\"data\": [0.9133110572985852]}]}, {\"name\": \"average_precision_score_micro\", \"run_id\": \"AutoML_1c07a841-cd90-4cc6-8c98-5b5708422cdf\", \"categories\": [0], \"series\": [{\"data\": [0.9137324874659178]}]}, {\"name\": \"matthews_correlation\", \"run_id\": \"AutoML_1c07a841-cd90-4cc6-8c98-5b5708422cdf\", \"categories\": [0], \"series\": [{\"data\": [0.6740458181874976]}]}, {\"name\": \"precision_score_weighted\", \"run_id\": \"AutoML_1c07a841-cd90-4cc6-8c98-5b5708422cdf\", \"categories\": [0], \"series\": [{\"data\": [0.8371032518540203]}]}, {\"name\": \"weighted_accuracy\", \"run_id\": \"AutoML_1c07a841-cd90-4cc6-8c98-5b5708422cdf\", \"categories\": [0], \"series\": [{\"data\": [0.8369780489854312]}]}, {\"name\": \"average_precision_score_weighted\", \"run_id\": \"AutoML_1c07a841-cd90-4cc6-8c98-5b5708422cdf\", \"categories\": [0], \"series\": [{\"data\": [0.9131748936050786]}]}, {\"name\": \"precision_score_micro\", \"run_id\": \"AutoML_1c07a841-cd90-4cc6-8c98-5b5708422cdf\", \"categories\": [0], \"series\": [{\"data\": [0.836952380952381]}]}, {\"name\": \"AUC_micro\", \"run_id\": \"AutoML_1c07a841-cd90-4cc6-8c98-5b5708422cdf\", \"categories\": [0], \"series\": [{\"data\": [0.9136063492063493]}]}, {\"name\": \"f1_score_weighted\", \"run_id\": \"AutoML_1c07a841-cd90-4cc6-8c98-5b5708422cdf\", \"categories\": [0], \"series\": [{\"data\": [0.8369291110358715]}]}, {\"name\": \"norm_macro_recall\", \"run_id\": \"AutoML_1c07a841-cd90-4cc6-8c98-5b5708422cdf\", \"categories\": [0], \"series\": [{\"data\": [0.6738534253022492]}]}, {\"name\": \"accuracy\", \"run_id\": \"AutoML_1c07a841-cd90-4cc6-8c98-5b5708422cdf\", \"categories\": [0], \"series\": [{\"data\": [0.836952380952381]}]}, {\"name\": \"AUC_macro\", \"run_id\": \"AutoML_1c07a841-cd90-4cc6-8c98-5b5708422cdf\", \"categories\": [0], \"series\": [{\"data\": [0.9133110572985852]}]}, {\"name\": \"log_loss\", \"run_id\": \"AutoML_1c07a841-cd90-4cc6-8c98-5b5708422cdf\", \"categories\": [0], \"series\": [{\"data\": [0.37396157493000287]}]}], \"run_logs\": \"\\nRun is completed.\", \"graph\": {}, \"widget_settings\": {\"childWidgetDisplay\": \"popup\", \"send_telemetry\": false, \"log_level\": \"INFO\", \"sdk_version\": \"1.26.0\"}, \"loading\": false}"
     },
     "metadata": {},
     "output_type": "display_data"
    }
   ],
   "source": [
    "# show run details\n",
    "RunDetails(automl_run).show()"
   ]
  },
  {
   "cell_type": "code",
   "execution_count": 34,
   "id": "a02d25d1",
   "metadata": {},
   "outputs": [
    {
     "data": {
      "text/plain": [
       "{'runId': 'AutoML_1c07a841-cd90-4cc6-8c98-5b5708422cdf',\n",
       " 'target': 'capstone-automl',\n",
       " 'status': 'Completed',\n",
       " 'startTimeUtc': '2021-04-15T12:27:25.827262Z',\n",
       " 'endTimeUtc': '2021-04-15T13:02:35.919813Z',\n",
       " 'properties': {'num_iterations': '1000',\n",
       "  'training_type': 'TrainFull',\n",
       "  'acquisition_function': 'EI',\n",
       "  'primary_metric': 'accuracy',\n",
       "  'train_split': '0.3',\n",
       "  'acquisition_parameter': '0',\n",
       "  'num_cross_validation': None,\n",
       "  'target': 'capstone-automl',\n",
       "  'AMLSettingsJsonString': '{\"path\":null,\"name\":\"imdb-automl\",\"subscription_id\":\"6b4af8be-9931-443e-90f6-c4c34a1f9737\",\"resource_group\":\"aml-quickstarts-142761\",\"workspace_name\":\"quick-starts-ws-142761\",\"region\":\"southcentralus\",\"compute_target\":\"capstone-automl\",\"spark_service\":null,\"azure_service\":\"remote\",\"many_models\":false,\"pipeline_fetch_max_batch_size\":1,\"enable_batch_run\":false,\"enable_run_restructure\":false,\"iterations\":1000,\"primary_metric\":\"accuracy\",\"task_type\":\"classification\",\"data_script\":null,\"test_size\":0.0,\"validation_size\":0.3,\"n_cross_validations\":null,\"y_min\":null,\"y_max\":null,\"num_classes\":null,\"featurization\":\"auto\",\"_ignore_package_version_incompatibilities\":false,\"is_timeseries\":false,\"max_cores_per_iteration\":-1,\"max_concurrent_iterations\":8,\"iteration_timeout_minutes\":null,\"mem_in_mb\":null,\"enforce_time_on_windows\":false,\"experiment_timeout_minutes\":20,\"experiment_exit_score\":null,\"whitelist_models\":null,\"blacklist_algos\":[\"LightGBM\",\"XGBoostClassifier\",\"TensorFlowLinearClassifier\",\"TensorFlowDNN\"],\"supported_models\":[\"SVM\",\"RandomForest\",\"GradientBoosting\",\"KNN\",\"DecisionTree\",\"TensorFlowDNN\",\"LogisticRegression\",\"LinearSVM\",\"ExtremeRandomTrees\",\"XGBoostClassifier\",\"AveragedPerceptronClassifier\",\"SGD\",\"LightGBM\",\"MultinomialNaiveBayes\",\"BernoulliNaiveBayes\",\"TensorFlowLinearClassifier\"],\"private_models\":[],\"auto_blacklist\":true,\"blacklist_samples_reached\":false,\"exclude_nan_labels\":true,\"verbosity\":20,\"_debug_log\":\"azureml_automl.log\",\"show_warnings\":false,\"model_explainability\":true,\"service_url\":null,\"sdk_url\":null,\"sdk_packages\":null,\"enable_onnx_compatible_models\":false,\"enable_split_onnx_featurizer_estimator_models\":false,\"vm_type\":\"STANDARD_NC6\",\"telemetry_verbosity\":20,\"send_telemetry\":true,\"enable_dnn\":true,\"scenario\":\"SDK-1.13.0\",\"environment_label\":null,\"save_mlflow\":false,\"force_text_dnn\":false,\"enable_feature_sweeping\":true,\"enable_early_stopping\":true,\"early_stopping_n_iters\":10,\"metrics\":null,\"enable_metric_confidence\":false,\"enable_ensembling\":false,\"enable_stack_ensembling\":false,\"ensemble_iterations\":15,\"enable_tf\":false,\"enable_subsampling\":null,\"subsample_seed\":null,\"enable_nimbusml\":false,\"enable_streaming\":false,\"force_streaming\":false,\"track_child_runs\":true,\"allowed_private_models\":[],\"label_column_name\":\"sentiment\",\"weight_column_name\":null,\"cv_split_column_names\":null,\"enable_local_managed\":false,\"_local_managed_run_id\":null,\"cost_mode\":1,\"lag_length\":0,\"metric_operation\":\"maximize\",\"preprocess\":true}',\n",
       "  'DataPrepJsonString': '{\\\\\"training_data\\\\\": {\\\\\"datasetId\\\\\": \\\\\"9ec9f717-b745-4653-9b81-436d8a44912c\\\\\"}, \\\\\"datasets\\\\\": 0}',\n",
       "  'EnableSubsampling': None,\n",
       "  'runTemplate': 'AutoML',\n",
       "  'azureml.runsource': 'automl',\n",
       "  'display_task_type': 'classification',\n",
       "  'dependencies_versions': '{\"azureml-widgets\": \"1.26.0\", \"azureml-train\": \"1.26.0\", \"azureml-train-restclients-hyperdrive\": \"1.26.0\", \"azureml-train-core\": \"1.26.0\", \"azureml-train-automl\": \"1.26.0\", \"azureml-train-automl-runtime\": \"1.26.0\", \"azureml-train-automl-client\": \"1.26.0\", \"azureml-tensorboard\": \"1.26.0\", \"azureml-telemetry\": \"1.26.0\", \"azureml-sdk\": \"1.26.0\", \"azureml-samples\": \"0+unknown\", \"azureml-pipeline\": \"1.26.0\", \"azureml-pipeline-steps\": \"1.26.0\", \"azureml-pipeline-core\": \"1.26.0\", \"azureml-opendatasets\": \"1.26.0\", \"azureml-model-management-sdk\": \"1.0.1b6.post1\", \"azureml-mlflow\": \"1.26.0\", \"azureml-interpret\": \"1.26.0\", \"azureml-explain-model\": \"1.26.0\", \"azureml-defaults\": \"1.26.0\", \"azureml-dataset-runtime\": \"1.26.0\", \"azureml-dataprep\": \"2.13.2\", \"azureml-dataprep-rslex\": \"1.11.2\", \"azureml-dataprep-native\": \"32.0.0\", \"azureml-datadrift\": \"1.26.0\", \"azureml-core\": \"1.26.0\", \"azureml-contrib-services\": \"1.26.0\", \"azureml-contrib-server\": \"1.26.0\", \"azureml-contrib-reinforcementlearning\": \"1.26.0\", \"azureml-contrib-pipeline-steps\": \"1.26.0\", \"azureml-contrib-notebook\": \"1.26.0\", \"azureml-contrib-gbdt\": \"1.26.0\", \"azureml-contrib-fairness\": \"1.26.0\", \"azureml-contrib-dataset\": \"1.26.0\", \"azureml-cli-common\": \"1.26.0\", \"azureml-automl-runtime\": \"1.26.0\", \"azureml-automl-dnn-nlp\": \"1.26.0\", \"azureml-automl-core\": \"1.26.0\", \"azureml-accel-models\": \"1.26.0\"}',\n",
       "  '_aml_system_scenario_identification': 'Remote.Parent',\n",
       "  'ClientType': 'SDK',\n",
       "  'environment_cpu_name': 'AzureML-AutoML-DNN',\n",
       "  'environment_cpu_label': 'prod',\n",
       "  'environment_gpu_name': 'AzureML-AutoML-DNN-GPU',\n",
       "  'environment_gpu_label': 'prod',\n",
       "  'root_attribution': 'automl',\n",
       "  'attribution': 'AutoML',\n",
       "  'Orchestrator': 'AutoML',\n",
       "  'CancelUri': 'https://southcentralus.experiments.azureml.net/jasmine/v1.0/subscriptions/6b4af8be-9931-443e-90f6-c4c34a1f9737/resourceGroups/aml-quickstarts-142761/providers/Microsoft.MachineLearningServices/workspaces/quick-starts-ws-142761/experimentids/e701e931-dfbc-4287-8d97-2075d0aa5679/cancel/AutoML_1c07a841-cd90-4cc6-8c98-5b5708422cdf',\n",
       "  'ClientSdkVersion': '1.25.0',\n",
       "  'snapshotId': '00000000-0000-0000-0000-000000000000',\n",
       "  'SetupRunId': 'AutoML_1c07a841-cd90-4cc6-8c98-5b5708422cdf_setup',\n",
       "  'SetupRunContainerId': 'dcid.AutoML_1c07a841-cd90-4cc6-8c98-5b5708422cdf_setup',\n",
       "  'FeaturizationRunJsonPath': 'featurizer_container.json',\n",
       "  'FeaturizationRunId': 'AutoML_1c07a841-cd90-4cc6-8c98-5b5708422cdf_featurize',\n",
       "  'ProblemInfoJsonString': '{\"dataset_num_categorical\": 0, \"is_sparse\": true, \"subsampling\": false, \"dataset_classes\": 2, \"dataset_features\": 139589, \"dataset_samples\": 24500, \"single_frequency_class_detected\": false}',\n",
       "  'ModelExplainRunId': 'AutoML_1c07a841-cd90-4cc6-8c98-5b5708422cdf_ModelExplain'},\n",
       " 'inputDatasets': [{'dataset': {'id': '9ec9f717-b745-4653-9b81-436d8a44912c'}, 'consumptionDetails': {'type': 'RunInput', 'inputName': 'training_data', 'mechanism': 'Direct'}}],\n",
       " 'outputDatasets': [],\n",
       " 'logFiles': {},\n",
       " 'submittedBy': 'ODL_User 142761'}"
      ]
     },
     "execution_count": 34,
     "metadata": {},
     "output_type": "execute_result"
    }
   ],
   "source": [
    "# wait for completion\n",
    "automl_run.wait_for_completion()"
   ]
  },
  {
   "cell_type": "code",
   "execution_count": 36,
   "id": "14d6fb1c",
   "metadata": {},
   "outputs": [
    {
     "name": "stdout",
     "output_type": "stream",
     "text": [
      "Best AutoML run:  Run(Experiment: imdb-automl,\n",
      "Id: AutoML_1c07a841-cd90-4cc6-8c98-5b5708422cdf_20,\n",
      "Type: azureml.scriptrun,\n",
      "Status: Completed)\n",
      "Best AutoML model : Pipeline(memory=None,\n",
      "         steps=[('datatransformer',\n",
      "                 DataTransformer(enable_dnn=None, enable_feature_sweeping=None,\n",
      "                                 feature_sweeping_config=None,\n",
      "                                 feature_sweeping_timeout=None,\n",
      "                                 featurization_config=None, force_text_dnn=None,\n",
      "                                 is_cross_validation=None,\n",
      "                                 is_onnx_compatible=None, logger=None,\n",
      "                                 observer=None, task=None, working_dir=None)),\n",
      "                ('StandardScalerWrapper',\n",
      "                 <azureml...red.model_wrappers.StandardScalerWrapper object at 0x7f8c05831278>),\n",
      "                ('LogisticRegression',\n",
      "                 LogisticRegression(C=1.7575106248547894, class_weight=None,\n",
      "                                    dual=False, fit_intercept=True,\n",
      "                                    intercept_scaling=1, l1_ratio=None,\n",
      "                                    max_iter=100, multi_class='ovr', n_jobs=-1,\n",
      "                                    penalty='l2', random_state=None,\n",
      "                                    solver='saga', tol=0.0001, verbose=0,\n",
      "                                    warm_start=False))],\n",
      "         verbose=False)\n",
      "Best_model name:  AutoML1c07a841c20\n"
     ]
    }
   ],
   "source": [
    "# Retrieve the best automl run model\n",
    "best_automl_run, fitted_automl_model = automl_run.get_output()\n",
    "print('Best AutoML run: ', best_automl_run)\n",
    "print('Best AutoML model :', fitted_automl_model)\n",
    "\n",
    "# get best model and display properties\n",
    "model_name = best_automl_run.properties['model_name']\n",
    "print('Best_model name: ', model_name)"
   ]
  },
  {
   "cell_type": "code",
   "execution_count": 37,
   "id": "2dddd838",
   "metadata": {},
   "outputs": [
    {
     "data": {
      "text/plain": [
       "{'runTemplate': 'automl_child',\n",
       " 'pipeline_id': 'a11e2a30b92abbc8a5f30448aa77078bd421a6e7',\n",
       " 'pipeline_spec': '{\"objects\": [{\"class_name\": \"StandardScaler\", \"module\": \"sklearn.preprocessing\", \"param_args\": [], \"param_kwargs\": {\"with_mean\": false, \"with_std\": false}, \"prepared_kwargs\": {}, \"spec_class\": \"preproc\"}, {\"class_name\": \"LogisticRegression\", \"module\": \"sklearn.linear_model\", \"param_args\": [], \"param_kwargs\": {\"C\": 1.7575106248547894, \"class_weight\": null, \"multi_class\": \"ovr\", \"penalty\": \"l2\", \"solver\": \"saga\"}, \"prepared_kwargs\": {}, \"spec_class\": \"sklearn\"}], \"pipeline_id\": \"a11e2a30b92abbc8a5f30448aa77078bd421a6e7\", \"module\": \"sklearn.pipeline\", \"class_name\": \"Pipeline\", \"pipeline_name\": \"{ StandardScaler, LogisticRegression }\"}',\n",
       " 'training_percent': '100',\n",
       " 'predicted_cost': '3.198926621701898',\n",
       " 'iteration': '20',\n",
       " '_aml_system_scenario_identification': 'Remote.Child',\n",
       " '_azureml.ComputeTargetType': 'amlcompute',\n",
       " 'ContentSnapshotId': '61578159-81a1-4a84-95af-ed62148ea11a',\n",
       " 'ProcessInfoFile': 'azureml-logs/process_info.json',\n",
       " 'ProcessStatusFile': 'azureml-logs/process_status.json',\n",
       " 'run_template': 'automl_child',\n",
       " 'run_preprocessor': 'StandardScalerWrapper',\n",
       " 'run_algorithm': 'LogisticRegression',\n",
       " 'model_output_path': 'outputs/model.pkl',\n",
       " 'conda_env_data_location': 'aml://artifact/ExperimentRun/dcid.AutoML_1c07a841-cd90-4cc6-8c98-5b5708422cdf_20/outputs/conda_env_v_1_0_0.yml',\n",
       " 'model_data_location': 'aml://artifact/ExperimentRun/dcid.AutoML_1c07a841-cd90-4cc6-8c98-5b5708422cdf_20/outputs/model.pkl',\n",
       " 'model_size_on_disk': '19136043',\n",
       " 'scoring_data_location': 'aml://artifact/ExperimentRun/dcid.AutoML_1c07a841-cd90-4cc6-8c98-5b5708422cdf_20/outputs/scoring_file_v_1_0_0.py',\n",
       " 'model_exp_support': 'True',\n",
       " 'pipeline_graph_version': '1.0.0',\n",
       " 'model_name': 'AutoML1c07a841c20',\n",
       " 'staticProperties': '{}',\n",
       " 'score': '0.836952380952381',\n",
       " 'score_table': 'NaN',\n",
       " 'run_properties': '<azureml.automl.runtime.shared.model_wrappers.StandardScalerWrapper object at 0x7f94726d5b70',\n",
       " 'pipeline_script': '{\"objects\": [{\"class_name\": \"StandardScaler\", \"module\": \"sklearn.preprocessing\", \"param_args\": [], \"param_kwargs\": {\"with_mean\": false, \"with_std\": false}, \"prepared_kwargs\": {}, \"spec_class\": \"preproc\"}, {\"class_name\": \"LogisticRegression\", \"module\": \"sklearn.linear_model\", \"param_args\": [], \"param_kwargs\": {\"C\": 1.7575106248547894, \"class_weight\": null, \"multi_class\": \"ovr\", \"penalty\": \"l2\", \"solver\": \"saga\"}, \"prepared_kwargs\": {}, \"spec_class\": \"sklearn\"}], \"pipeline_id\": \"a11e2a30b92abbc8a5f30448aa77078bd421a6e7\", \"module\": \"sklearn.pipeline\", \"class_name\": \"Pipeline\", \"pipeline_name\": \"{ StandardScaler, LogisticRegression }\"}',\n",
       " 'training_type': 'train_valid',\n",
       " 'num_classes': '',\n",
       " 'framework': 'sklearn',\n",
       " 'fit_time': '2.903943',\n",
       " 'goal': 'accuracy_max',\n",
       " 'class_labels': '',\n",
       " 'primary_metric': 'accuracy',\n",
       " 'errors': '{}',\n",
       " 'onnx_model_resource': '{}',\n",
       " 'error_code': '',\n",
       " 'failure_reason': '',\n",
       " 'dependencies_versions': '{\"azureml-train-automl-runtime\": \"1.25.0\", \"azureml-train-automl-client\": \"1.25.0\", \"azureml-telemetry\": \"1.25.0\", \"azureml-pipeline-core\": \"1.25.0\", \"azureml-model-management-sdk\": \"1.0.1b6.post1\", \"azureml-mlflow\": \"1.25.0\", \"azureml-interpret\": \"1.25.0\", \"azureml-defaults\": \"1.25.0\", \"azureml-dataset-runtime\": \"1.25.0\", \"azureml-dataprep\": \"2.11.2\", \"azureml-dataprep-rslex\": \"1.9.1\", \"azureml-dataprep-native\": \"30.0.0\", \"azureml-core\": \"1.25.0\", \"azureml-automl-runtime\": \"1.25.0\", \"azureml-automl-core\": \"1.25.0\"}',\n",
       " 'num_cores': '6',\n",
       " 'num_logical_cores': '6',\n",
       " 'peak_memory_usage': '1028032',\n",
       " 'vm_configuration': 'Intel(R) Xeon(R) CPU E5-2690 v3 @ 2.60GHz',\n",
       " 'core_hours': '0.0014082755555555552',\n",
       " 'feature_skus': 'automatedml_sdk_dnnnlp,automatedml_sdk_guardrails'}"
      ]
     },
     "execution_count": 37,
     "metadata": {},
     "output_type": "execute_result"
    }
   ],
   "source": [
    "# display all the properties of the best model\n",
    "best_automl_run.get_properties()"
   ]
  },
  {
   "cell_type": "code",
   "execution_count": 38,
   "id": "cd6f73ea",
   "metadata": {},
   "outputs": [
    {
     "data": {
      "text/html": [
       "<table style=\"width:100%\"><tr><th>Experiment</th><th>Id</th><th>Type</th><th>Status</th><th>Details Page</th><th>Docs Page</th></tr><tr><td>imdb-automl</td><td>AutoML_1c07a841-cd90-4cc6-8c98-5b5708422cdf_20</td><td>azureml.scriptrun</td><td>Completed</td><td><a href=\"https://ml.azure.com/runs/AutoML_1c07a841-cd90-4cc6-8c98-5b5708422cdf_20?wsid=/subscriptions/6b4af8be-9931-443e-90f6-c4c34a1f9737/resourcegroups/aml-quickstarts-142761/workspaces/quick-starts-ws-142761&amp;tid=660b3398-b80e-49d2-bc5b-ac1dc93b5254\" target=\"_blank\" rel=\"noopener\">Link to Azure Machine Learning studio</a></td><td><a href=\"https://docs.microsoft.com/en-us/python/api/azureml-core/azureml.core.run.Run?view=azure-ml-py\" target=\"_blank\" rel=\"noopener\">Link to Documentation</a></td></tr></table>"
      ],
      "text/plain": [
       "Run(Experiment: imdb-automl,\n",
       "Id: AutoML_1c07a841-cd90-4cc6-8c98-5b5708422cdf_20,\n",
       "Type: azureml.scriptrun,\n",
       "Status: Completed)"
      ]
     },
     "execution_count": 38,
     "metadata": {},
     "output_type": "execute_result"
    }
   ],
   "source": [
    "best_automl_run"
   ]
  },
  {
   "cell_type": "code",
   "execution_count": 39,
   "id": "c9212de3",
   "metadata": {},
   "outputs": [
    {
     "data": {
      "text/plain": [
       "['best_automl_model.pkl']"
      ]
     },
     "execution_count": 39,
     "metadata": {},
     "output_type": "execute_result"
    }
   ],
   "source": [
    "#TODO: Save the best AutoML model\n",
    "import joblib\n",
    "\n",
    "joblib.dump(fitted_automl_model, 'best_automl_model.pkl')"
   ]
  },
  {
   "cell_type": "code",
   "execution_count": 40,
   "id": "083d372d",
   "metadata": {},
   "outputs": [],
   "source": [
    "automl_model = automl_run.register_model(model_name=best_automl_run.properties['model_name'], description='Best AutoML model')"
   ]
  },
  {
   "cell_type": "code",
   "execution_count": 41,
   "id": "0bc94307",
   "metadata": {},
   "outputs": [],
   "source": [
    "# Download scoring file \n",
    "best_automl_run.download_file('outputs/scoring_file_v_1_0_0.py', 'automlscore.py')\n",
    "\n",
    "# Download environment file\n",
    "best_automl_run.download_file('outputs/conda_env_v_1_0_0.yml', 'automlenvFile.yml')\n",
    "best_automl_run.download_file('outputs/env_dependencies.json', 'automlenvDependencies.json')"
   ]
  },
  {
   "cell_type": "code",
   "execution_count": 42,
   "id": "fe479e03",
   "metadata": {},
   "outputs": [
    {
     "name": "stdout",
     "output_type": "stream",
     "text": [
      "Tips: You can try get_logs(): https://aka.ms/debugimage#dockerlog or local deployment: https://aka.ms/debugimage#debug-locally to debug if deployment takes longer than 10 minutes.\n",
      "Running\n",
      "2021-04-15 13:42:10+00:00 Creating Container Registry if not exists.\n",
      "2021-04-15 13:42:11+00:00 Building image..\n",
      "2021-04-15 13:54:50+00:00 Generating deployment configuration.\n",
      "2021-04-15 13:54:52+00:00 Submitting deployment to compute..\n",
      "2021-04-15 13:55:00+00:00 Checking the status of deployment automl-imdb-sentiment-final..\n",
      "2021-04-15 13:59:01+00:00 Checking the status of inference endpoint automl-imdb-sentiment-final.\n",
      "Succeeded\n",
      "ACI service creation operation finished, operation \"Succeeded\"\n",
      "Healthy\n",
      "http://f35a3d9f-ede3-40a1-8150-093a86b0cad9.southcentralus.azurecontainer.io/score\n",
      "http://f35a3d9f-ede3-40a1-8150-093a86b0cad9.southcentralus.azurecontainer.io/swagger.json\n"
     ]
    }
   ],
   "source": [
    "from azureml.core.webservice import AciWebservice\n",
    "from azureml.core import Model # Used to get model information\n",
    "\n",
    "from azureml.core.environment import Environment\n",
    "from azureml.core.model import InferenceConfig\n",
    "\n",
    "env = Environment.from_conda_specification(name='project_environment',file_path='automlenvFile.yml')\n",
    "\n",
    "inference_config = InferenceConfig(entry_script='automlscore.py',\n",
    "                                    environment=env)\n",
    "\n",
    "deployment_config = AciWebservice.deploy_configuration(cpu_cores = 1, memory_gb = 1,enable_app_insights=True)\n",
    "  \n",
    "service = Model.deploy(ws, \"automl-imdb-sentiment-final\", [automl_model], inference_config, deployment_config)\n",
    "\n",
    "service.wait_for_deployment(show_output = True)\n",
    "\n",
    "print(service.state)\n",
    "\n",
    "print(service.scoring_uri)\n",
    "\n",
    "print(service.swagger_uri)"
   ]
  },
  {
   "cell_type": "code",
   "execution_count": 43,
   "id": "54f90e3a",
   "metadata": {},
   "outputs": [
    {
     "name": "stdout",
     "output_type": "stream",
     "text": [
      "2021-04-15T13:58:48,504975400+00:00 - rsyslog/run \n",
      "2021-04-15T13:58:48,516599000+00:00 - iot-server/run \n",
      "2021-04-15T13:58:48,515966000+00:00 - gunicorn/run \n",
      "2021-04-15T13:58:48,573950700+00:00 - nginx/run \n",
      "/usr/sbin/nginx: /azureml-envs/azureml_5a33d0b1846b3717ef969a5f35fc31b7/lib/libcrypto.so.1.0.0: no version information available (required by /usr/sbin/nginx)\n",
      "/usr/sbin/nginx: /azureml-envs/azureml_5a33d0b1846b3717ef969a5f35fc31b7/lib/libcrypto.so.1.0.0: no version information available (required by /usr/sbin/nginx)\n",
      "/usr/sbin/nginx: /azureml-envs/azureml_5a33d0b1846b3717ef969a5f35fc31b7/lib/libssl.so.1.0.0: no version information available (required by /usr/sbin/nginx)\n",
      "/usr/sbin/nginx: /azureml-envs/azureml_5a33d0b1846b3717ef969a5f35fc31b7/lib/libssl.so.1.0.0: no version information available (required by /usr/sbin/nginx)\n",
      "/usr/sbin/nginx: /azureml-envs/azureml_5a33d0b1846b3717ef969a5f35fc31b7/lib/libssl.so.1.0.0: no version information available (required by /usr/sbin/nginx)\n",
      "rsyslogd: /azureml-envs/azureml_5a33d0b1846b3717ef969a5f35fc31b7/lib/libuuid.so.1: no version information available (required by rsyslogd)\n",
      "EdgeHubConnectionString and IOTEDGE_IOTHUBHOSTNAME are not set. Exiting...\n",
      "2021-04-15T13:58:48,932004400+00:00 - iot-server/finish 1 0\n",
      "2021-04-15T13:58:48,933942700+00:00 - Exit code 1 is normal. Not restarting iot-server.\n",
      "Starting gunicorn 19.9.0\n",
      "Listening at: http://127.0.0.1:31311 (72)\n",
      "Using worker: sync\n",
      "worker timeout is set to 300\n",
      "Booting worker with pid: 99\n",
      "SPARK_HOME not set. Skipping PySpark Initialization.\n",
      "Generating new fontManager, this may take some time...\n",
      "Initializing logger\n",
      "2021-04-15 13:58:51,613 | root | INFO | Starting up app insights client\n",
      "2021-04-15 13:58:51,614 | root | INFO | Starting up request id generator\n",
      "2021-04-15 13:58:51,614 | root | INFO | Starting up app insight hooks\n",
      "2021-04-15 13:58:51,618 | root | INFO | Invoking user's init function\n",
      "2021-04-15 13:59:06,487 | azureml.core | WARNING | Failure while loading azureml_run_type_providers. Failed to load entrypoint automl = azureml.train.automl.run:AutoMLRun._from_run_dto with exception cannot import name 'RunType'.\n",
      "Failure while loading azureml_run_type_providers. Failed to load entrypoint automl = azureml.train.automl.run:AutoMLRun._from_run_dto with exception cannot import name 'RunType'.\n",
      "2021-04-15 13:59:06,544 | root | INFO | Users's init has completed successfully\n",
      "2021-04-15 13:59:06,562 | root | INFO | Skipping middleware: dbg_model_info as it's not enabled.\n",
      "2021-04-15 13:59:06,562 | root | INFO | Skipping middleware: dbg_resource_usage as it's not enabled.\n",
      "2021-04-15 13:59:06,564 | root | INFO | Scoring timeout is found from os.environ: 60000 ms\n",
      "2021-04-15 13:59:08,213 | root | INFO | 200\n",
      "127.0.0.1 - - [15/Apr/2021:13:59:08 +0000] \"GET /swagger.json HTTP/1.0\" 200 2047 \"-\" \"Go-http-client/1.1\"\n",
      "2021-04-15 13:59:12,869 | root | INFO | 200\n",
      "127.0.0.1 - - [15/Apr/2021:13:59:12 +0000] \"GET /swagger.json HTTP/1.0\" 200 2047 \"-\" \"Go-http-client/1.1\"\n",
      "\n"
     ]
    }
   ],
   "source": [
    "print(service.get_logs())"
   ]
  },
  {
   "cell_type": "code",
   "execution_count": 44,
   "id": "001f3359",
   "metadata": {},
   "outputs": [
    {
     "data": {
      "text/plain": [
       "'AutoML1c07a841c20'"
      ]
     },
     "execution_count": 44,
     "metadata": {},
     "output_type": "execute_result"
    }
   ],
   "source": [
    "best_automl_run.properties['model_name']"
   ]
  },
  {
   "cell_type": "code",
   "execution_count": 45,
   "id": "5a225ebd",
   "metadata": {},
   "outputs": [
    {
     "data": {
      "text/plain": [
       "'azureml-models/AutoML1c07a841c20/1/model.pkl'"
      ]
     },
     "execution_count": 45,
     "metadata": {},
     "output_type": "execute_result"
    }
   ],
   "source": [
    "Model.get_model_path(best_automl_run.properties['model_name'],_workspace=ws)"
   ]
  },
  {
   "cell_type": "code",
   "execution_count": 46,
   "id": "bbf54a6e",
   "metadata": {},
   "outputs": [
    {
     "name": "stdout",
     "output_type": "stream",
     "text": [
      "{\"data\": [{\"review\": \"like long classic film characters you are looking book instead excellent think probably beautiful man world brilliant actor and course simply best actress\"}, {\"review\": \"totally kill great show seen episode big time lost start tell actually acting parts pretty good stuff obviously watching given does not real says you know guy better read book\"}, {\"review\": \"son found time idea liked way told movie recommend one actors known also lives people did not feel that definitely heart goes\"}, {\"review\": \"horror film best show comedy beautiful time people young long love hand extremely father way out town comes girl played coming like actor called boy turns john performance actors story dark fun original scenes play flick movie goes character funny humor line great movies one entertaining\"}, {\"review\": \"plays war leave love human this film excellent nice time laugh though there title long come again\"}, {\"review\": \"script acting story little would not bad she director writer star film self found characters ending came moment soon lot look good black white you are fan music excellent starts watch need laugh sure\"}, {\"review\": \"saw thinking however case yes big fact reason gave film characters piece work know story idea interesting direction acting thing worse that special effects seen better school play time they are made movies coming and not them\"}, {\"review\": \"story says small group people new work couple audience day did not know expect show screen thought picture history written cinema short movies film shows end hard movie real took the like seen idea was shot early way simply long series films years favorite kind have despite lack great definitely year probably best think however\"}, {\"review\": \"movie cannot bad moment did not enjoy first simply could mind world film the second interesting felt story big matter like good know having read book seen moments remember called beginning what director\"}, {\"review\": \"movie lot style scene certainly thing makes better truly best movies viewer the story good work fans there nice character cast michael interesting looking not bad year old score like well brilliant love\"}]}\n"
     ]
    }
   ],
   "source": [
    "import json\n",
    "#Creating Test data\n",
    "#Created test data from the original data bytaking first 10 rows\n",
    "test_df = df.sample(10) \n",
    "test_df_label = test_df.pop('sentiment')\n",
    "\n",
    "test_data = json.dumps({'data': test_df.to_dict(orient='records')})\n",
    "\n",
    "print(test_data)"
   ]
  },
  {
   "cell_type": "code",
   "execution_count": 48,
   "id": "a6b7c8f7",
   "metadata": {},
   "outputs": [],
   "source": [
    "# We will send POST request to the deployed service for that we will import the request module\n",
    "import requests \n",
    "headers = {'Content-type': 'application/json'}\n",
    "response = requests.post(service.scoring_uri, test_data, headers=headers)"
   ]
  },
  {
   "cell_type": "code",
   "execution_count": 49,
   "id": "2b506eca",
   "metadata": {},
   "outputs": [
    {
     "data": {
      "text/plain": [
       "'\"{\\\\\"result\\\\\": [1, 0, 1, 1, 1, 0, 0, 1, 0, 1]}\"'"
      ]
     },
     "execution_count": 49,
     "metadata": {},
     "output_type": "execute_result"
    }
   ],
   "source": [
    "response.text"
   ]
  },
  {
   "cell_type": "code",
   "execution_count": 50,
   "id": "75542b30",
   "metadata": {},
   "outputs": [
    {
     "data": {
      "text/plain": [
       "[1, 0, 1, 1, 1, 0, 0, 1, 0, 1]"
      ]
     },
     "execution_count": 50,
     "metadata": {},
     "output_type": "execute_result"
    }
   ],
   "source": [
    "test_df_label.to_list()"
   ]
  },
  {
   "cell_type": "code",
   "execution_count": 51,
   "id": "bf0a2e6c",
   "metadata": {},
   "outputs": [],
   "source": [
    "service.delete()"
   ]
  },
  {
   "cell_type": "code",
   "execution_count": 53,
   "id": "01dc08ff",
   "metadata": {},
   "outputs": [
    {
     "name": "stdout",
     "output_type": "stream",
     "text": [
      "Current provisioning state of AmlCompute is \"Deleting\"\n",
      "\n"
     ]
    }
   ],
   "source": [
    "compute_target.delete()"
   ]
  },
  {
   "cell_type": "code",
   "execution_count": null,
   "id": "af97d53c",
   "metadata": {},
   "outputs": [],
   "source": []
  }
 ],
 "metadata": {
  "kernelspec": {
   "display_name": "Python 3.6 - AzureML",
   "language": "python",
   "name": "python3-azureml"
  },
  "language_info": {
   "codemirror_mode": {
    "name": "ipython",
    "version": 3
   },
   "file_extension": ".py",
   "mimetype": "text/x-python",
   "name": "python",
   "nbconvert_exporter": "python",
   "pygments_lexer": "ipython3",
   "version": "3.6.9"
  }
 },
 "nbformat": 4,
 "nbformat_minor": 5
}
